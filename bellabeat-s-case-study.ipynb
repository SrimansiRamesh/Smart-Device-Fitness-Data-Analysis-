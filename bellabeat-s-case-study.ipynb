{
 "cells": [
  {
   "cell_type": "markdown",
   "id": "77e51644",
   "metadata": {
    "papermill": {
     "duration": 0.138506,
     "end_time": "2022-03-09T17:10:42.592375",
     "exception": false,
     "start_time": "2022-03-09T17:10:42.453869",
     "status": "completed"
    },
    "tags": []
   },
   "source": [
    "#**Introduction**\n",
    "\n",
    "This case study focuses on analysing smart devices fitness data and determine how it could unlock new growth opportunities for Bellabeat.This is the capstone project for my Google Data Analytics Proffesional Certificate\n",
    "\n",
    "Bellabeat is a high-tech company that manufactures health focused smart products for women.By collecting data on activity,sleep,stress and reproductive health Bellabeat empowers women with knowledge about their own health and habits.Bellabeat offers a variety of products such as Bellabeat app,Leaf,Time,Spring and also the Bellabeat membership.\n",
    "\n",
    "#**Ask Phase**\n",
    "\n",
    "##Business Task\n",
    "To analyse and gain insights into how consumers use non-Bellabeat smart devices.Later apply these insights into Bellabeat's marketing stratergy.For this case study I'm going to focus on the Bellabeat app.\n",
    "\n",
    "**Stakeholders:**\n",
    "* Urška Sršen: Bellabeat’s cofounder and Chief Creative Officer\n",
    "* Sando Mur: Mathematician and Bellabeat’s cofounder; key member of the Bellabeat executive team\n",
    "* Bellabeat marketing analytics team\n",
    "\n",
    "#**Prepare and Process Phase**\n",
    "\n",
    "##Installing and loading packages"
   ]
  },
  {
   "cell_type": "code",
   "execution_count": 1,
   "id": "161ff0fa",
   "metadata": {
    "execution": {
     "iopub.execute_input": "2022-03-09T17:10:42.875111Z",
     "iopub.status.busy": "2022-03-09T17:10:42.872124Z",
     "iopub.status.idle": "2022-03-09T17:12:44.463530Z",
     "shell.execute_reply": "2022-03-09T17:12:44.461885Z"
    },
    "papermill": {
     "duration": 121.734077,
     "end_time": "2022-03-09T17:12:44.463787",
     "exception": false,
     "start_time": "2022-03-09T17:10:42.729710",
     "status": "completed"
    },
    "tags": []
   },
   "outputs": [
    {
     "name": "stderr",
     "output_type": "stream",
     "text": [
      "Installing package into ‘/usr/local/lib/R/site-library’\n",
      "(as ‘lib’ is unspecified)\n",
      "\n",
      "Warning message:\n",
      "“unable to access index for repository http://cran.rstudio.com/src/contrib:\n",
      "  cannot open URL 'http://cran.rstudio.com/src/contrib/PACKAGES'”\n",
      "Warning message:\n",
      "“package ‘tidyverse’ is not available for this version of R\n",
      "\n",
      "A version of this package for your version of R might be available elsewhere,\n",
      "see the ideas at\n",
      "https://cran.r-project.org/doc/manuals/r-patched/R-admin.html#Installing-packages”\n",
      "Installing package into ‘/usr/local/lib/R/site-library’\n",
      "(as ‘lib’ is unspecified)\n",
      "\n",
      "Warning message:\n",
      "“unable to access index for repository http://cran.rstudio.com/src/contrib:\n",
      "  cannot open URL 'http://cran.rstudio.com/src/contrib/PACKAGES'”\n",
      "Warning message:\n",
      "“package ‘ggplot2’ is not available for this version of R\n",
      "\n",
      "A version of this package for your version of R might be available elsewhere,\n",
      "see the ideas at\n",
      "https://cran.r-project.org/doc/manuals/r-patched/R-admin.html#Installing-packages”\n",
      "── \u001b[1mAttaching packages\u001b[22m ─────────────────────────────────────── tidyverse 1.3.1 ──\n",
      "\n",
      "\u001b[32m✔\u001b[39m \u001b[34mtibble \u001b[39m 3.1.5     \u001b[32m✔\u001b[39m \u001b[34mdplyr  \u001b[39m 1.0.7\n",
      "\u001b[32m✔\u001b[39m \u001b[34mtidyr  \u001b[39m 1.1.4     \u001b[32m✔\u001b[39m \u001b[34mstringr\u001b[39m 1.4.0\n",
      "\u001b[32m✔\u001b[39m \u001b[34mreadr  \u001b[39m 2.0.2     \u001b[32m✔\u001b[39m \u001b[34mforcats\u001b[39m 0.5.1\n",
      "\u001b[32m✔\u001b[39m \u001b[34mpurrr  \u001b[39m 0.3.4     \n",
      "\n",
      "── \u001b[1mConflicts\u001b[22m ────────────────────────────────────────── tidyverse_conflicts() ──\n",
      "\u001b[31m✖\u001b[39m \u001b[34mdplyr\u001b[39m::\u001b[32mfilter()\u001b[39m masks \u001b[34mstats\u001b[39m::filter()\n",
      "\u001b[31m✖\u001b[39m \u001b[34mdplyr\u001b[39m::\u001b[32mlag()\u001b[39m    masks \u001b[34mstats\u001b[39m::lag()\n",
      "\n",
      "\n",
      "Attaching package: ‘lubridate’\n",
      "\n",
      "\n",
      "The following objects are masked from ‘package:base’:\n",
      "\n",
      "    date, intersect, setdiff, union\n",
      "\n",
      "\n"
     ]
    }
   ],
   "source": [
    "install.packages(\"tidyverse\")\n",
    "install.packages(\"ggplot2\")\n",
    "library(ggplot2)\n",
    "library(tidyverse)\n",
    "library(dplyr)\n",
    "library(readr)\n",
    "library(lubridate)"
   ]
  },
  {
   "cell_type": "markdown",
   "id": "24207dee",
   "metadata": {
    "papermill": {
     "duration": 0.150526,
     "end_time": "2022-03-09T17:12:44.768165",
     "exception": false,
     "start_time": "2022-03-09T17:12:44.617639",
     "status": "completed"
    },
    "tags": []
   },
   "source": [
    "##**Importing datasets**\n",
    "\n",
    "For this case study I will be using the following datasets:\n",
    "* dailyActivity_merged\n",
    "* heartrate_seconds_merged\n",
    "* minuteMETsNarrow_merged\n",
    "* sleepDay_merged\n",
    "* weightLogInfo_merged\n",
    "* hourlyIntensities_merged\n",
    "* hourlyCalories_merged\n",
    "* hourlySteps_merged"
   ]
  },
  {
   "cell_type": "code",
   "execution_count": 2,
   "id": "ea62d9c6",
   "metadata": {
    "_kg_hide-output": true,
    "execution": {
     "iopub.execute_input": "2022-03-09T17:12:45.105187Z",
     "iopub.status.busy": "2022-03-09T17:12:45.072950Z",
     "iopub.status.idle": "2022-03-09T17:12:46.716368Z",
     "shell.execute_reply": "2022-03-09T17:12:46.715198Z"
    },
    "papermill": {
     "duration": 1.79836,
     "end_time": "2022-03-09T17:12:46.716570",
     "exception": false,
     "start_time": "2022-03-09T17:12:44.918210",
     "status": "completed"
    },
    "tags": []
   },
   "outputs": [
    {
     "name": "stderr",
     "output_type": "stream",
     "text": [
      "\u001b[1m\u001b[1mRows: \u001b[1m\u001b[22m\u001b[34m\u001b[34m940\u001b[34m\u001b[39m \u001b[1m\u001b[1mColumns: \u001b[1m\u001b[22m\u001b[34m\u001b[34m15\u001b[34m\u001b[39m\n",
      "\n",
      "\u001b[36m──\u001b[39m \u001b[1m\u001b[1mColumn specification\u001b[1m\u001b[22m \u001b[36m────────────────────────────────────────────────────────\u001b[39m\n",
      "\u001b[1mDelimiter:\u001b[22m \",\"\n",
      "\u001b[31mchr\u001b[39m  (1): ActivityDate\n",
      "\u001b[32mdbl\u001b[39m (14): Id, TotalSteps, TotalDistance, TrackerDistance, LoggedActivitiesDi...\n",
      "\n",
      "\n",
      "\u001b[36mℹ\u001b[39m Use \u001b[30m\u001b[47m\u001b[30m\u001b[47m`spec()`\u001b[47m\u001b[30m\u001b[49m\u001b[39m to retrieve the full column specification for this data.\n",
      "\u001b[36mℹ\u001b[39m Specify the column types or set \u001b[30m\u001b[47m\u001b[30m\u001b[47m`show_col_types = FALSE`\u001b[47m\u001b[30m\u001b[49m\u001b[39m to quiet this message.\n",
      "\n",
      "\u001b[1m\u001b[1mRows: \u001b[1m\u001b[22m\u001b[34m\u001b[34m2483658\u001b[34m\u001b[39m \u001b[1m\u001b[1mColumns: \u001b[1m\u001b[22m\u001b[34m\u001b[34m3\u001b[34m\u001b[39m\n",
      "\n",
      "\u001b[36m──\u001b[39m \u001b[1m\u001b[1mColumn specification\u001b[1m\u001b[22m \u001b[36m────────────────────────────────────────────────────────\u001b[39m\n",
      "\u001b[1mDelimiter:\u001b[22m \",\"\n",
      "\u001b[31mchr\u001b[39m (1): Time\n",
      "\u001b[32mdbl\u001b[39m (2): Id, Value\n",
      "\n",
      "\n",
      "\u001b[36mℹ\u001b[39m Use \u001b[30m\u001b[47m\u001b[30m\u001b[47m`spec()`\u001b[47m\u001b[30m\u001b[49m\u001b[39m to retrieve the full column specification for this data.\n",
      "\u001b[36mℹ\u001b[39m Specify the column types or set \u001b[30m\u001b[47m\u001b[30m\u001b[47m`show_col_types = FALSE`\u001b[47m\u001b[30m\u001b[49m\u001b[39m to quiet this message.\n",
      "\n",
      "\u001b[1m\u001b[1mRows: \u001b[1m\u001b[22m\u001b[34m\u001b[34m1325580\u001b[34m\u001b[39m \u001b[1m\u001b[1mColumns: \u001b[1m\u001b[22m\u001b[34m\u001b[34m3\u001b[34m\u001b[39m\n",
      "\n",
      "\u001b[36m──\u001b[39m \u001b[1m\u001b[1mColumn specification\u001b[1m\u001b[22m \u001b[36m────────────────────────────────────────────────────────\u001b[39m\n",
      "\u001b[1mDelimiter:\u001b[22m \",\"\n",
      "\u001b[31mchr\u001b[39m (1): ActivityMinute\n",
      "\u001b[32mdbl\u001b[39m (2): Id, METs\n",
      "\n",
      "\n",
      "\u001b[36mℹ\u001b[39m Use \u001b[30m\u001b[47m\u001b[30m\u001b[47m`spec()`\u001b[47m\u001b[30m\u001b[49m\u001b[39m to retrieve the full column specification for this data.\n",
      "\u001b[36mℹ\u001b[39m Specify the column types or set \u001b[30m\u001b[47m\u001b[30m\u001b[47m`show_col_types = FALSE`\u001b[47m\u001b[30m\u001b[49m\u001b[39m to quiet this message.\n",
      "\n",
      "\u001b[1m\u001b[1mRows: \u001b[1m\u001b[22m\u001b[34m\u001b[34m413\u001b[34m\u001b[39m \u001b[1m\u001b[1mColumns: \u001b[1m\u001b[22m\u001b[34m\u001b[34m5\u001b[34m\u001b[39m\n",
      "\n",
      "\u001b[36m──\u001b[39m \u001b[1m\u001b[1mColumn specification\u001b[1m\u001b[22m \u001b[36m────────────────────────────────────────────────────────\u001b[39m\n",
      "\u001b[1mDelimiter:\u001b[22m \",\"\n",
      "\u001b[31mchr\u001b[39m (1): SleepDay\n",
      "\u001b[32mdbl\u001b[39m (4): Id, TotalSleepRecords, TotalMinutesAsleep, TotalTimeInBed\n",
      "\n",
      "\n",
      "\u001b[36mℹ\u001b[39m Use \u001b[30m\u001b[47m\u001b[30m\u001b[47m`spec()`\u001b[47m\u001b[30m\u001b[49m\u001b[39m to retrieve the full column specification for this data.\n",
      "\u001b[36mℹ\u001b[39m Specify the column types or set \u001b[30m\u001b[47m\u001b[30m\u001b[47m`show_col_types = FALSE`\u001b[47m\u001b[30m\u001b[49m\u001b[39m to quiet this message.\n",
      "\n",
      "\u001b[1m\u001b[1mRows: \u001b[1m\u001b[22m\u001b[34m\u001b[34m67\u001b[34m\u001b[39m \u001b[1m\u001b[1mColumns: \u001b[1m\u001b[22m\u001b[34m\u001b[34m8\u001b[34m\u001b[39m\n",
      "\n",
      "\u001b[36m──\u001b[39m \u001b[1m\u001b[1mColumn specification\u001b[1m\u001b[22m \u001b[36m────────────────────────────────────────────────────────\u001b[39m\n",
      "\u001b[1mDelimiter:\u001b[22m \",\"\n",
      "\u001b[31mchr\u001b[39m (1): Date\n",
      "\u001b[32mdbl\u001b[39m (6): Id, WeightKg, WeightPounds, Fat, BMI, LogId\n",
      "\u001b[33mlgl\u001b[39m (1): IsManualReport\n",
      "\n",
      "\n",
      "\u001b[36mℹ\u001b[39m Use \u001b[30m\u001b[47m\u001b[30m\u001b[47m`spec()`\u001b[47m\u001b[30m\u001b[49m\u001b[39m to retrieve the full column specification for this data.\n",
      "\u001b[36mℹ\u001b[39m Specify the column types or set \u001b[30m\u001b[47m\u001b[30m\u001b[47m`show_col_types = FALSE`\u001b[47m\u001b[30m\u001b[49m\u001b[39m to quiet this message.\n",
      "\n",
      "\u001b[1m\u001b[1mRows: \u001b[1m\u001b[22m\u001b[34m\u001b[34m22099\u001b[34m\u001b[39m \u001b[1m\u001b[1mColumns: \u001b[1m\u001b[22m\u001b[34m\u001b[34m4\u001b[34m\u001b[39m\n",
      "\n",
      "\u001b[36m──\u001b[39m \u001b[1m\u001b[1mColumn specification\u001b[1m\u001b[22m \u001b[36m────────────────────────────────────────────────────────\u001b[39m\n",
      "\u001b[1mDelimiter:\u001b[22m \",\"\n",
      "\u001b[31mchr\u001b[39m (1): ActivityHour\n",
      "\u001b[32mdbl\u001b[39m (3): Id, TotalIntensity, AverageIntensity\n",
      "\n",
      "\n",
      "\u001b[36mℹ\u001b[39m Use \u001b[30m\u001b[47m\u001b[30m\u001b[47m`spec()`\u001b[47m\u001b[30m\u001b[49m\u001b[39m to retrieve the full column specification for this data.\n",
      "\u001b[36mℹ\u001b[39m Specify the column types or set \u001b[30m\u001b[47m\u001b[30m\u001b[47m`show_col_types = FALSE`\u001b[47m\u001b[30m\u001b[49m\u001b[39m to quiet this message.\n",
      "\n",
      "\u001b[1m\u001b[1mRows: \u001b[1m\u001b[22m\u001b[34m\u001b[34m22099\u001b[34m\u001b[39m \u001b[1m\u001b[1mColumns: \u001b[1m\u001b[22m\u001b[34m\u001b[34m3\u001b[34m\u001b[39m\n",
      "\n",
      "\u001b[36m──\u001b[39m \u001b[1m\u001b[1mColumn specification\u001b[1m\u001b[22m \u001b[36m────────────────────────────────────────────────────────\u001b[39m\n",
      "\u001b[1mDelimiter:\u001b[22m \",\"\n",
      "\u001b[31mchr\u001b[39m (1): ActivityHour\n",
      "\u001b[32mdbl\u001b[39m (2): Id, Calories\n",
      "\n",
      "\n",
      "\u001b[36mℹ\u001b[39m Use \u001b[30m\u001b[47m\u001b[30m\u001b[47m`spec()`\u001b[47m\u001b[30m\u001b[49m\u001b[39m to retrieve the full column specification for this data.\n",
      "\u001b[36mℹ\u001b[39m Specify the column types or set \u001b[30m\u001b[47m\u001b[30m\u001b[47m`show_col_types = FALSE`\u001b[47m\u001b[30m\u001b[49m\u001b[39m to quiet this message.\n",
      "\n",
      "\u001b[1m\u001b[1mRows: \u001b[1m\u001b[22m\u001b[34m\u001b[34m22099\u001b[34m\u001b[39m \u001b[1m\u001b[1mColumns: \u001b[1m\u001b[22m\u001b[34m\u001b[34m3\u001b[34m\u001b[39m\n",
      "\n",
      "\u001b[36m──\u001b[39m \u001b[1m\u001b[1mColumn specification\u001b[1m\u001b[22m \u001b[36m────────────────────────────────────────────────────────\u001b[39m\n",
      "\u001b[1mDelimiter:\u001b[22m \",\"\n",
      "\u001b[31mchr\u001b[39m (1): ActivityHour\n",
      "\u001b[32mdbl\u001b[39m (2): Id, StepTotal\n",
      "\n",
      "\n",
      "\u001b[36mℹ\u001b[39m Use \u001b[30m\u001b[47m\u001b[30m\u001b[47m`spec()`\u001b[47m\u001b[30m\u001b[49m\u001b[39m to retrieve the full column specification for this data.\n",
      "\u001b[36mℹ\u001b[39m Specify the column types or set \u001b[30m\u001b[47m\u001b[30m\u001b[47m`show_col_types = FALSE`\u001b[47m\u001b[30m\u001b[49m\u001b[39m to quiet this message.\n",
      "\n"
     ]
    }
   ],
   "source": [
    "cleaned_dailyactv<-read_csv(\"../input/fitbit/Fitabase Data 4.12.16-5.12.16/dailyActivity_merged.csv\")\n",
    "heartrate<-read_csv(\"../input/fitbit/Fitabase Data 4.12.16-5.12.16/heartrate_seconds_merged.csv\")\n",
    "minuteMET<-read_csv(\"../input/fitbit/Fitabase Data 4.12.16-5.12.16/minuteMETsNarrow_merged.csv\")\n",
    "sleep<-read_csv(\"../input/fitbit/Fitabase Data 4.12.16-5.12.16/sleepDay_merged.csv\")\n",
    "weight<-read_csv(\"../input/fitbit/Fitabase Data 4.12.16-5.12.16/weightLogInfo_merged.csv\")\n",
    "hour_inst<-read_csv(\"../input/fitbit/Fitabase Data 4.12.16-5.12.16/hourlyIntensities_merged.csv\")\n",
    "hour_calr<-read_csv(\"../input/fitbit/Fitabase Data 4.12.16-5.12.16/hourlyCalories_merged.csv\")\n",
    "hour_step<-read_csv(\"../input/fitbit/Fitabase Data 4.12.16-5.12.16/hourlySteps_merged.csv\")\n"
   ]
  },
  {
   "cell_type": "markdown",
   "id": "5d81d9da",
   "metadata": {
    "papermill": {
     "duration": 0.172612,
     "end_time": "2022-03-09T17:12:47.063731",
     "exception": false,
     "start_time": "2022-03-09T17:12:46.891119",
     "status": "completed"
    },
    "tags": []
   },
   "source": [
    "##Previewing the datasets imported"
   ]
  },
  {
   "cell_type": "code",
   "execution_count": 3,
   "id": "0cc503d1",
   "metadata": {
    "_kg_hide-output": false,
    "execution": {
     "iopub.execute_input": "2022-03-09T17:12:47.429512Z",
     "iopub.status.busy": "2022-03-09T17:12:47.427336Z",
     "iopub.status.idle": "2022-03-09T17:12:47.569818Z",
     "shell.execute_reply": "2022-03-09T17:12:47.568277Z"
    },
    "papermill": {
     "duration": 0.325549,
     "end_time": "2022-03-09T17:12:47.569966",
     "exception": false,
     "start_time": "2022-03-09T17:12:47.244417",
     "status": "completed"
    },
    "tags": []
   },
   "outputs": [
    {
     "data": {
      "text/html": [
       "<table class=\"dataframe\">\n",
       "<caption>A tibble: 6 × 15</caption>\n",
       "<thead>\n",
       "\t<tr><th scope=col>Id</th><th scope=col>ActivityDate</th><th scope=col>TotalSteps</th><th scope=col>TotalDistance</th><th scope=col>TrackerDistance</th><th scope=col>LoggedActivitiesDistance</th><th scope=col>VeryActiveDistance</th><th scope=col>ModeratelyActiveDistance</th><th scope=col>LightActiveDistance</th><th scope=col>SedentaryActiveDistance</th><th scope=col>VeryActiveMinutes</th><th scope=col>FairlyActiveMinutes</th><th scope=col>LightlyActiveMinutes</th><th scope=col>SedentaryMinutes</th><th scope=col>Calories</th></tr>\n",
       "\t<tr><th scope=col>&lt;dbl&gt;</th><th scope=col>&lt;chr&gt;</th><th scope=col>&lt;dbl&gt;</th><th scope=col>&lt;dbl&gt;</th><th scope=col>&lt;dbl&gt;</th><th scope=col>&lt;dbl&gt;</th><th scope=col>&lt;dbl&gt;</th><th scope=col>&lt;dbl&gt;</th><th scope=col>&lt;dbl&gt;</th><th scope=col>&lt;dbl&gt;</th><th scope=col>&lt;dbl&gt;</th><th scope=col>&lt;dbl&gt;</th><th scope=col>&lt;dbl&gt;</th><th scope=col>&lt;dbl&gt;</th><th scope=col>&lt;dbl&gt;</th></tr>\n",
       "</thead>\n",
       "<tbody>\n",
       "\t<tr><td>1503960366</td><td>4/12/2016</td><td>13162</td><td>8.50</td><td>8.50</td><td>0</td><td>1.88</td><td>0.55</td><td>6.06</td><td>0</td><td>25</td><td>13</td><td>328</td><td> 728</td><td>1985</td></tr>\n",
       "\t<tr><td>1503960366</td><td>4/13/2016</td><td>10735</td><td>6.97</td><td>6.97</td><td>0</td><td>1.57</td><td>0.69</td><td>4.71</td><td>0</td><td>21</td><td>19</td><td>217</td><td> 776</td><td>1797</td></tr>\n",
       "\t<tr><td>1503960366</td><td>4/14/2016</td><td>10460</td><td>6.74</td><td>6.74</td><td>0</td><td>2.44</td><td>0.40</td><td>3.91</td><td>0</td><td>30</td><td>11</td><td>181</td><td>1218</td><td>1776</td></tr>\n",
       "\t<tr><td>1503960366</td><td>4/15/2016</td><td> 9762</td><td>6.28</td><td>6.28</td><td>0</td><td>2.14</td><td>1.26</td><td>2.83</td><td>0</td><td>29</td><td>34</td><td>209</td><td> 726</td><td>1745</td></tr>\n",
       "\t<tr><td>1503960366</td><td>4/16/2016</td><td>12669</td><td>8.16</td><td>8.16</td><td>0</td><td>2.71</td><td>0.41</td><td>5.04</td><td>0</td><td>36</td><td>10</td><td>221</td><td> 773</td><td>1863</td></tr>\n",
       "\t<tr><td>1503960366</td><td>4/17/2016</td><td> 9705</td><td>6.48</td><td>6.48</td><td>0</td><td>3.19</td><td>0.78</td><td>2.51</td><td>0</td><td>38</td><td>20</td><td>164</td><td> 539</td><td>1728</td></tr>\n",
       "</tbody>\n",
       "</table>\n"
      ],
      "text/latex": [
       "A tibble: 6 × 15\n",
       "\\begin{tabular}{lllllllllllllll}\n",
       " Id & ActivityDate & TotalSteps & TotalDistance & TrackerDistance & LoggedActivitiesDistance & VeryActiveDistance & ModeratelyActiveDistance & LightActiveDistance & SedentaryActiveDistance & VeryActiveMinutes & FairlyActiveMinutes & LightlyActiveMinutes & SedentaryMinutes & Calories\\\\\n",
       " <dbl> & <chr> & <dbl> & <dbl> & <dbl> & <dbl> & <dbl> & <dbl> & <dbl> & <dbl> & <dbl> & <dbl> & <dbl> & <dbl> & <dbl>\\\\\n",
       "\\hline\n",
       "\t 1503960366 & 4/12/2016 & 13162 & 8.50 & 8.50 & 0 & 1.88 & 0.55 & 6.06 & 0 & 25 & 13 & 328 &  728 & 1985\\\\\n",
       "\t 1503960366 & 4/13/2016 & 10735 & 6.97 & 6.97 & 0 & 1.57 & 0.69 & 4.71 & 0 & 21 & 19 & 217 &  776 & 1797\\\\\n",
       "\t 1503960366 & 4/14/2016 & 10460 & 6.74 & 6.74 & 0 & 2.44 & 0.40 & 3.91 & 0 & 30 & 11 & 181 & 1218 & 1776\\\\\n",
       "\t 1503960366 & 4/15/2016 &  9762 & 6.28 & 6.28 & 0 & 2.14 & 1.26 & 2.83 & 0 & 29 & 34 & 209 &  726 & 1745\\\\\n",
       "\t 1503960366 & 4/16/2016 & 12669 & 8.16 & 8.16 & 0 & 2.71 & 0.41 & 5.04 & 0 & 36 & 10 & 221 &  773 & 1863\\\\\n",
       "\t 1503960366 & 4/17/2016 &  9705 & 6.48 & 6.48 & 0 & 3.19 & 0.78 & 2.51 & 0 & 38 & 20 & 164 &  539 & 1728\\\\\n",
       "\\end{tabular}\n"
      ],
      "text/markdown": [
       "\n",
       "A tibble: 6 × 15\n",
       "\n",
       "| Id &lt;dbl&gt; | ActivityDate &lt;chr&gt; | TotalSteps &lt;dbl&gt; | TotalDistance &lt;dbl&gt; | TrackerDistance &lt;dbl&gt; | LoggedActivitiesDistance &lt;dbl&gt; | VeryActiveDistance &lt;dbl&gt; | ModeratelyActiveDistance &lt;dbl&gt; | LightActiveDistance &lt;dbl&gt; | SedentaryActiveDistance &lt;dbl&gt; | VeryActiveMinutes &lt;dbl&gt; | FairlyActiveMinutes &lt;dbl&gt; | LightlyActiveMinutes &lt;dbl&gt; | SedentaryMinutes &lt;dbl&gt; | Calories &lt;dbl&gt; |\n",
       "|---|---|---|---|---|---|---|---|---|---|---|---|---|---|---|\n",
       "| 1503960366 | 4/12/2016 | 13162 | 8.50 | 8.50 | 0 | 1.88 | 0.55 | 6.06 | 0 | 25 | 13 | 328 |  728 | 1985 |\n",
       "| 1503960366 | 4/13/2016 | 10735 | 6.97 | 6.97 | 0 | 1.57 | 0.69 | 4.71 | 0 | 21 | 19 | 217 |  776 | 1797 |\n",
       "| 1503960366 | 4/14/2016 | 10460 | 6.74 | 6.74 | 0 | 2.44 | 0.40 | 3.91 | 0 | 30 | 11 | 181 | 1218 | 1776 |\n",
       "| 1503960366 | 4/15/2016 |  9762 | 6.28 | 6.28 | 0 | 2.14 | 1.26 | 2.83 | 0 | 29 | 34 | 209 |  726 | 1745 |\n",
       "| 1503960366 | 4/16/2016 | 12669 | 8.16 | 8.16 | 0 | 2.71 | 0.41 | 5.04 | 0 | 36 | 10 | 221 |  773 | 1863 |\n",
       "| 1503960366 | 4/17/2016 |  9705 | 6.48 | 6.48 | 0 | 3.19 | 0.78 | 2.51 | 0 | 38 | 20 | 164 |  539 | 1728 |\n",
       "\n"
      ],
      "text/plain": [
       "  Id         ActivityDate TotalSteps TotalDistance TrackerDistance\n",
       "1 1503960366 4/12/2016    13162      8.50          8.50           \n",
       "2 1503960366 4/13/2016    10735      6.97          6.97           \n",
       "3 1503960366 4/14/2016    10460      6.74          6.74           \n",
       "4 1503960366 4/15/2016     9762      6.28          6.28           \n",
       "5 1503960366 4/16/2016    12669      8.16          8.16           \n",
       "6 1503960366 4/17/2016     9705      6.48          6.48           \n",
       "  LoggedActivitiesDistance VeryActiveDistance ModeratelyActiveDistance\n",
       "1 0                        1.88               0.55                    \n",
       "2 0                        1.57               0.69                    \n",
       "3 0                        2.44               0.40                    \n",
       "4 0                        2.14               1.26                    \n",
       "5 0                        2.71               0.41                    \n",
       "6 0                        3.19               0.78                    \n",
       "  LightActiveDistance SedentaryActiveDistance VeryActiveMinutes\n",
       "1 6.06                0                       25               \n",
       "2 4.71                0                       21               \n",
       "3 3.91                0                       30               \n",
       "4 2.83                0                       29               \n",
       "5 5.04                0                       36               \n",
       "6 2.51                0                       38               \n",
       "  FairlyActiveMinutes LightlyActiveMinutes SedentaryMinutes Calories\n",
       "1 13                  328                   728             1985    \n",
       "2 19                  217                   776             1797    \n",
       "3 11                  181                  1218             1776    \n",
       "4 34                  209                   726             1745    \n",
       "5 10                  221                   773             1863    \n",
       "6 20                  164                   539             1728    "
      ]
     },
     "metadata": {},
     "output_type": "display_data"
    },
    {
     "data": {
      "text/html": [
       "<table class=\"dataframe\">\n",
       "<caption>A tibble: 6 × 3</caption>\n",
       "<thead>\n",
       "\t<tr><th scope=col>Id</th><th scope=col>Time</th><th scope=col>Value</th></tr>\n",
       "\t<tr><th scope=col>&lt;dbl&gt;</th><th scope=col>&lt;chr&gt;</th><th scope=col>&lt;dbl&gt;</th></tr>\n",
       "</thead>\n",
       "<tbody>\n",
       "\t<tr><td>2022484408</td><td>4/12/2016 7:21:00 AM</td><td> 97</td></tr>\n",
       "\t<tr><td>2022484408</td><td>4/12/2016 7:21:05 AM</td><td>102</td></tr>\n",
       "\t<tr><td>2022484408</td><td>4/12/2016 7:21:10 AM</td><td>105</td></tr>\n",
       "\t<tr><td>2022484408</td><td>4/12/2016 7:21:20 AM</td><td>103</td></tr>\n",
       "\t<tr><td>2022484408</td><td>4/12/2016 7:21:25 AM</td><td>101</td></tr>\n",
       "\t<tr><td>2022484408</td><td>4/12/2016 7:22:05 AM</td><td> 95</td></tr>\n",
       "</tbody>\n",
       "</table>\n"
      ],
      "text/latex": [
       "A tibble: 6 × 3\n",
       "\\begin{tabular}{lll}\n",
       " Id & Time & Value\\\\\n",
       " <dbl> & <chr> & <dbl>\\\\\n",
       "\\hline\n",
       "\t 2022484408 & 4/12/2016 7:21:00 AM &  97\\\\\n",
       "\t 2022484408 & 4/12/2016 7:21:05 AM & 102\\\\\n",
       "\t 2022484408 & 4/12/2016 7:21:10 AM & 105\\\\\n",
       "\t 2022484408 & 4/12/2016 7:21:20 AM & 103\\\\\n",
       "\t 2022484408 & 4/12/2016 7:21:25 AM & 101\\\\\n",
       "\t 2022484408 & 4/12/2016 7:22:05 AM &  95\\\\\n",
       "\\end{tabular}\n"
      ],
      "text/markdown": [
       "\n",
       "A tibble: 6 × 3\n",
       "\n",
       "| Id &lt;dbl&gt; | Time &lt;chr&gt; | Value &lt;dbl&gt; |\n",
       "|---|---|---|\n",
       "| 2022484408 | 4/12/2016 7:21:00 AM |  97 |\n",
       "| 2022484408 | 4/12/2016 7:21:05 AM | 102 |\n",
       "| 2022484408 | 4/12/2016 7:21:10 AM | 105 |\n",
       "| 2022484408 | 4/12/2016 7:21:20 AM | 103 |\n",
       "| 2022484408 | 4/12/2016 7:21:25 AM | 101 |\n",
       "| 2022484408 | 4/12/2016 7:22:05 AM |  95 |\n",
       "\n"
      ],
      "text/plain": [
       "  Id         Time                 Value\n",
       "1 2022484408 4/12/2016 7:21:00 AM  97  \n",
       "2 2022484408 4/12/2016 7:21:05 AM 102  \n",
       "3 2022484408 4/12/2016 7:21:10 AM 105  \n",
       "4 2022484408 4/12/2016 7:21:20 AM 103  \n",
       "5 2022484408 4/12/2016 7:21:25 AM 101  \n",
       "6 2022484408 4/12/2016 7:22:05 AM  95  "
      ]
     },
     "metadata": {},
     "output_type": "display_data"
    },
    {
     "data": {
      "text/html": [
       "<table class=\"dataframe\">\n",
       "<caption>A tibble: 6 × 3</caption>\n",
       "<thead>\n",
       "\t<tr><th scope=col>Id</th><th scope=col>ActivityMinute</th><th scope=col>METs</th></tr>\n",
       "\t<tr><th scope=col>&lt;dbl&gt;</th><th scope=col>&lt;chr&gt;</th><th scope=col>&lt;dbl&gt;</th></tr>\n",
       "</thead>\n",
       "<tbody>\n",
       "\t<tr><td>1503960366</td><td>4/12/2016 12:00:00 AM</td><td>10</td></tr>\n",
       "\t<tr><td>1503960366</td><td>4/12/2016 12:01:00 AM</td><td>10</td></tr>\n",
       "\t<tr><td>1503960366</td><td>4/12/2016 12:02:00 AM</td><td>10</td></tr>\n",
       "\t<tr><td>1503960366</td><td>4/12/2016 12:03:00 AM</td><td>10</td></tr>\n",
       "\t<tr><td>1503960366</td><td>4/12/2016 12:04:00 AM</td><td>10</td></tr>\n",
       "\t<tr><td>1503960366</td><td>4/12/2016 12:05:00 AM</td><td>12</td></tr>\n",
       "</tbody>\n",
       "</table>\n"
      ],
      "text/latex": [
       "A tibble: 6 × 3\n",
       "\\begin{tabular}{lll}\n",
       " Id & ActivityMinute & METs\\\\\n",
       " <dbl> & <chr> & <dbl>\\\\\n",
       "\\hline\n",
       "\t 1503960366 & 4/12/2016 12:00:00 AM & 10\\\\\n",
       "\t 1503960366 & 4/12/2016 12:01:00 AM & 10\\\\\n",
       "\t 1503960366 & 4/12/2016 12:02:00 AM & 10\\\\\n",
       "\t 1503960366 & 4/12/2016 12:03:00 AM & 10\\\\\n",
       "\t 1503960366 & 4/12/2016 12:04:00 AM & 10\\\\\n",
       "\t 1503960366 & 4/12/2016 12:05:00 AM & 12\\\\\n",
       "\\end{tabular}\n"
      ],
      "text/markdown": [
       "\n",
       "A tibble: 6 × 3\n",
       "\n",
       "| Id &lt;dbl&gt; | ActivityMinute &lt;chr&gt; | METs &lt;dbl&gt; |\n",
       "|---|---|---|\n",
       "| 1503960366 | 4/12/2016 12:00:00 AM | 10 |\n",
       "| 1503960366 | 4/12/2016 12:01:00 AM | 10 |\n",
       "| 1503960366 | 4/12/2016 12:02:00 AM | 10 |\n",
       "| 1503960366 | 4/12/2016 12:03:00 AM | 10 |\n",
       "| 1503960366 | 4/12/2016 12:04:00 AM | 10 |\n",
       "| 1503960366 | 4/12/2016 12:05:00 AM | 12 |\n",
       "\n"
      ],
      "text/plain": [
       "  Id         ActivityMinute        METs\n",
       "1 1503960366 4/12/2016 12:00:00 AM 10  \n",
       "2 1503960366 4/12/2016 12:01:00 AM 10  \n",
       "3 1503960366 4/12/2016 12:02:00 AM 10  \n",
       "4 1503960366 4/12/2016 12:03:00 AM 10  \n",
       "5 1503960366 4/12/2016 12:04:00 AM 10  \n",
       "6 1503960366 4/12/2016 12:05:00 AM 12  "
      ]
     },
     "metadata": {},
     "output_type": "display_data"
    },
    {
     "data": {
      "text/html": [
       "<table class=\"dataframe\">\n",
       "<caption>A tibble: 6 × 5</caption>\n",
       "<thead>\n",
       "\t<tr><th scope=col>Id</th><th scope=col>SleepDay</th><th scope=col>TotalSleepRecords</th><th scope=col>TotalMinutesAsleep</th><th scope=col>TotalTimeInBed</th></tr>\n",
       "\t<tr><th scope=col>&lt;dbl&gt;</th><th scope=col>&lt;chr&gt;</th><th scope=col>&lt;dbl&gt;</th><th scope=col>&lt;dbl&gt;</th><th scope=col>&lt;dbl&gt;</th></tr>\n",
       "</thead>\n",
       "<tbody>\n",
       "\t<tr><td>1503960366</td><td>4/12/2016 12:00:00 AM</td><td>1</td><td>327</td><td>346</td></tr>\n",
       "\t<tr><td>1503960366</td><td>4/13/2016 12:00:00 AM</td><td>2</td><td>384</td><td>407</td></tr>\n",
       "\t<tr><td>1503960366</td><td>4/15/2016 12:00:00 AM</td><td>1</td><td>412</td><td>442</td></tr>\n",
       "\t<tr><td>1503960366</td><td>4/16/2016 12:00:00 AM</td><td>2</td><td>340</td><td>367</td></tr>\n",
       "\t<tr><td>1503960366</td><td>4/17/2016 12:00:00 AM</td><td>1</td><td>700</td><td>712</td></tr>\n",
       "\t<tr><td>1503960366</td><td>4/19/2016 12:00:00 AM</td><td>1</td><td>304</td><td>320</td></tr>\n",
       "</tbody>\n",
       "</table>\n"
      ],
      "text/latex": [
       "A tibble: 6 × 5\n",
       "\\begin{tabular}{lllll}\n",
       " Id & SleepDay & TotalSleepRecords & TotalMinutesAsleep & TotalTimeInBed\\\\\n",
       " <dbl> & <chr> & <dbl> & <dbl> & <dbl>\\\\\n",
       "\\hline\n",
       "\t 1503960366 & 4/12/2016 12:00:00 AM & 1 & 327 & 346\\\\\n",
       "\t 1503960366 & 4/13/2016 12:00:00 AM & 2 & 384 & 407\\\\\n",
       "\t 1503960366 & 4/15/2016 12:00:00 AM & 1 & 412 & 442\\\\\n",
       "\t 1503960366 & 4/16/2016 12:00:00 AM & 2 & 340 & 367\\\\\n",
       "\t 1503960366 & 4/17/2016 12:00:00 AM & 1 & 700 & 712\\\\\n",
       "\t 1503960366 & 4/19/2016 12:00:00 AM & 1 & 304 & 320\\\\\n",
       "\\end{tabular}\n"
      ],
      "text/markdown": [
       "\n",
       "A tibble: 6 × 5\n",
       "\n",
       "| Id &lt;dbl&gt; | SleepDay &lt;chr&gt; | TotalSleepRecords &lt;dbl&gt; | TotalMinutesAsleep &lt;dbl&gt; | TotalTimeInBed &lt;dbl&gt; |\n",
       "|---|---|---|---|---|\n",
       "| 1503960366 | 4/12/2016 12:00:00 AM | 1 | 327 | 346 |\n",
       "| 1503960366 | 4/13/2016 12:00:00 AM | 2 | 384 | 407 |\n",
       "| 1503960366 | 4/15/2016 12:00:00 AM | 1 | 412 | 442 |\n",
       "| 1503960366 | 4/16/2016 12:00:00 AM | 2 | 340 | 367 |\n",
       "| 1503960366 | 4/17/2016 12:00:00 AM | 1 | 700 | 712 |\n",
       "| 1503960366 | 4/19/2016 12:00:00 AM | 1 | 304 | 320 |\n",
       "\n"
      ],
      "text/plain": [
       "  Id         SleepDay              TotalSleepRecords TotalMinutesAsleep\n",
       "1 1503960366 4/12/2016 12:00:00 AM 1                 327               \n",
       "2 1503960366 4/13/2016 12:00:00 AM 2                 384               \n",
       "3 1503960366 4/15/2016 12:00:00 AM 1                 412               \n",
       "4 1503960366 4/16/2016 12:00:00 AM 2                 340               \n",
       "5 1503960366 4/17/2016 12:00:00 AM 1                 700               \n",
       "6 1503960366 4/19/2016 12:00:00 AM 1                 304               \n",
       "  TotalTimeInBed\n",
       "1 346           \n",
       "2 407           \n",
       "3 442           \n",
       "4 367           \n",
       "5 712           \n",
       "6 320           "
      ]
     },
     "metadata": {},
     "output_type": "display_data"
    },
    {
     "data": {
      "text/html": [
       "<table class=\"dataframe\">\n",
       "<caption>A tibble: 6 × 8</caption>\n",
       "<thead>\n",
       "\t<tr><th scope=col>Id</th><th scope=col>Date</th><th scope=col>WeightKg</th><th scope=col>WeightPounds</th><th scope=col>Fat</th><th scope=col>BMI</th><th scope=col>IsManualReport</th><th scope=col>LogId</th></tr>\n",
       "\t<tr><th scope=col>&lt;dbl&gt;</th><th scope=col>&lt;chr&gt;</th><th scope=col>&lt;dbl&gt;</th><th scope=col>&lt;dbl&gt;</th><th scope=col>&lt;dbl&gt;</th><th scope=col>&lt;dbl&gt;</th><th scope=col>&lt;lgl&gt;</th><th scope=col>&lt;dbl&gt;</th></tr>\n",
       "</thead>\n",
       "<tbody>\n",
       "\t<tr><td>1503960366</td><td>5/2/2016 11:59:59 PM </td><td> 52.6</td><td>115.9631</td><td>22</td><td>22.65</td><td> TRUE</td><td>1.462234e+12</td></tr>\n",
       "\t<tr><td>1503960366</td><td>5/3/2016 11:59:59 PM </td><td> 52.6</td><td>115.9631</td><td>NA</td><td>22.65</td><td> TRUE</td><td>1.462320e+12</td></tr>\n",
       "\t<tr><td>1927972279</td><td>4/13/2016 1:08:52 AM </td><td>133.5</td><td>294.3171</td><td>NA</td><td>47.54</td><td>FALSE</td><td>1.460510e+12</td></tr>\n",
       "\t<tr><td>2873212765</td><td>4/21/2016 11:59:59 PM</td><td> 56.7</td><td>125.0021</td><td>NA</td><td>21.45</td><td> TRUE</td><td>1.461283e+12</td></tr>\n",
       "\t<tr><td>2873212765</td><td>5/12/2016 11:59:59 PM</td><td> 57.3</td><td>126.3249</td><td>NA</td><td>21.69</td><td> TRUE</td><td>1.463098e+12</td></tr>\n",
       "\t<tr><td>4319703577</td><td>4/17/2016 11:59:59 PM</td><td> 72.4</td><td>159.6147</td><td>25</td><td>27.45</td><td> TRUE</td><td>1.460938e+12</td></tr>\n",
       "</tbody>\n",
       "</table>\n"
      ],
      "text/latex": [
       "A tibble: 6 × 8\n",
       "\\begin{tabular}{llllllll}\n",
       " Id & Date & WeightKg & WeightPounds & Fat & BMI & IsManualReport & LogId\\\\\n",
       " <dbl> & <chr> & <dbl> & <dbl> & <dbl> & <dbl> & <lgl> & <dbl>\\\\\n",
       "\\hline\n",
       "\t 1503960366 & 5/2/2016 11:59:59 PM  &  52.6 & 115.9631 & 22 & 22.65 &  TRUE & 1.462234e+12\\\\\n",
       "\t 1503960366 & 5/3/2016 11:59:59 PM  &  52.6 & 115.9631 & NA & 22.65 &  TRUE & 1.462320e+12\\\\\n",
       "\t 1927972279 & 4/13/2016 1:08:52 AM  & 133.5 & 294.3171 & NA & 47.54 & FALSE & 1.460510e+12\\\\\n",
       "\t 2873212765 & 4/21/2016 11:59:59 PM &  56.7 & 125.0021 & NA & 21.45 &  TRUE & 1.461283e+12\\\\\n",
       "\t 2873212765 & 5/12/2016 11:59:59 PM &  57.3 & 126.3249 & NA & 21.69 &  TRUE & 1.463098e+12\\\\\n",
       "\t 4319703577 & 4/17/2016 11:59:59 PM &  72.4 & 159.6147 & 25 & 27.45 &  TRUE & 1.460938e+12\\\\\n",
       "\\end{tabular}\n"
      ],
      "text/markdown": [
       "\n",
       "A tibble: 6 × 8\n",
       "\n",
       "| Id &lt;dbl&gt; | Date &lt;chr&gt; | WeightKg &lt;dbl&gt; | WeightPounds &lt;dbl&gt; | Fat &lt;dbl&gt; | BMI &lt;dbl&gt; | IsManualReport &lt;lgl&gt; | LogId &lt;dbl&gt; |\n",
       "|---|---|---|---|---|---|---|---|\n",
       "| 1503960366 | 5/2/2016 11:59:59 PM  |  52.6 | 115.9631 | 22 | 22.65 |  TRUE | 1.462234e+12 |\n",
       "| 1503960366 | 5/3/2016 11:59:59 PM  |  52.6 | 115.9631 | NA | 22.65 |  TRUE | 1.462320e+12 |\n",
       "| 1927972279 | 4/13/2016 1:08:52 AM  | 133.5 | 294.3171 | NA | 47.54 | FALSE | 1.460510e+12 |\n",
       "| 2873212765 | 4/21/2016 11:59:59 PM |  56.7 | 125.0021 | NA | 21.45 |  TRUE | 1.461283e+12 |\n",
       "| 2873212765 | 5/12/2016 11:59:59 PM |  57.3 | 126.3249 | NA | 21.69 |  TRUE | 1.463098e+12 |\n",
       "| 4319703577 | 4/17/2016 11:59:59 PM |  72.4 | 159.6147 | 25 | 27.45 |  TRUE | 1.460938e+12 |\n",
       "\n"
      ],
      "text/plain": [
       "  Id         Date                  WeightKg WeightPounds Fat BMI  \n",
       "1 1503960366 5/2/2016 11:59:59 PM   52.6    115.9631     22  22.65\n",
       "2 1503960366 5/3/2016 11:59:59 PM   52.6    115.9631     NA  22.65\n",
       "3 1927972279 4/13/2016 1:08:52 AM  133.5    294.3171     NA  47.54\n",
       "4 2873212765 4/21/2016 11:59:59 PM  56.7    125.0021     NA  21.45\n",
       "5 2873212765 5/12/2016 11:59:59 PM  57.3    126.3249     NA  21.69\n",
       "6 4319703577 4/17/2016 11:59:59 PM  72.4    159.6147     25  27.45\n",
       "  IsManualReport LogId       \n",
       "1  TRUE          1.462234e+12\n",
       "2  TRUE          1.462320e+12\n",
       "3 FALSE          1.460510e+12\n",
       "4  TRUE          1.461283e+12\n",
       "5  TRUE          1.463098e+12\n",
       "6  TRUE          1.460938e+12"
      ]
     },
     "metadata": {},
     "output_type": "display_data"
    },
    {
     "data": {
      "text/html": [
       "<table class=\"dataframe\">\n",
       "<caption>A tibble: 6 × 4</caption>\n",
       "<thead>\n",
       "\t<tr><th scope=col>Id</th><th scope=col>ActivityHour</th><th scope=col>TotalIntensity</th><th scope=col>AverageIntensity</th></tr>\n",
       "\t<tr><th scope=col>&lt;dbl&gt;</th><th scope=col>&lt;chr&gt;</th><th scope=col>&lt;dbl&gt;</th><th scope=col>&lt;dbl&gt;</th></tr>\n",
       "</thead>\n",
       "<tbody>\n",
       "\t<tr><td>1503960366</td><td>4/12/2016 12:00:00 AM</td><td>20</td><td>0.333333</td></tr>\n",
       "\t<tr><td>1503960366</td><td>4/12/2016 1:00:00 AM </td><td> 8</td><td>0.133333</td></tr>\n",
       "\t<tr><td>1503960366</td><td>4/12/2016 2:00:00 AM </td><td> 7</td><td>0.116667</td></tr>\n",
       "\t<tr><td>1503960366</td><td>4/12/2016 3:00:00 AM </td><td> 0</td><td>0.000000</td></tr>\n",
       "\t<tr><td>1503960366</td><td>4/12/2016 4:00:00 AM </td><td> 0</td><td>0.000000</td></tr>\n",
       "\t<tr><td>1503960366</td><td>4/12/2016 5:00:00 AM </td><td> 0</td><td>0.000000</td></tr>\n",
       "</tbody>\n",
       "</table>\n"
      ],
      "text/latex": [
       "A tibble: 6 × 4\n",
       "\\begin{tabular}{llll}\n",
       " Id & ActivityHour & TotalIntensity & AverageIntensity\\\\\n",
       " <dbl> & <chr> & <dbl> & <dbl>\\\\\n",
       "\\hline\n",
       "\t 1503960366 & 4/12/2016 12:00:00 AM & 20 & 0.333333\\\\\n",
       "\t 1503960366 & 4/12/2016 1:00:00 AM  &  8 & 0.133333\\\\\n",
       "\t 1503960366 & 4/12/2016 2:00:00 AM  &  7 & 0.116667\\\\\n",
       "\t 1503960366 & 4/12/2016 3:00:00 AM  &  0 & 0.000000\\\\\n",
       "\t 1503960366 & 4/12/2016 4:00:00 AM  &  0 & 0.000000\\\\\n",
       "\t 1503960366 & 4/12/2016 5:00:00 AM  &  0 & 0.000000\\\\\n",
       "\\end{tabular}\n"
      ],
      "text/markdown": [
       "\n",
       "A tibble: 6 × 4\n",
       "\n",
       "| Id &lt;dbl&gt; | ActivityHour &lt;chr&gt; | TotalIntensity &lt;dbl&gt; | AverageIntensity &lt;dbl&gt; |\n",
       "|---|---|---|---|\n",
       "| 1503960366 | 4/12/2016 12:00:00 AM | 20 | 0.333333 |\n",
       "| 1503960366 | 4/12/2016 1:00:00 AM  |  8 | 0.133333 |\n",
       "| 1503960366 | 4/12/2016 2:00:00 AM  |  7 | 0.116667 |\n",
       "| 1503960366 | 4/12/2016 3:00:00 AM  |  0 | 0.000000 |\n",
       "| 1503960366 | 4/12/2016 4:00:00 AM  |  0 | 0.000000 |\n",
       "| 1503960366 | 4/12/2016 5:00:00 AM  |  0 | 0.000000 |\n",
       "\n"
      ],
      "text/plain": [
       "  Id         ActivityHour          TotalIntensity AverageIntensity\n",
       "1 1503960366 4/12/2016 12:00:00 AM 20             0.333333        \n",
       "2 1503960366 4/12/2016 1:00:00 AM   8             0.133333        \n",
       "3 1503960366 4/12/2016 2:00:00 AM   7             0.116667        \n",
       "4 1503960366 4/12/2016 3:00:00 AM   0             0.000000        \n",
       "5 1503960366 4/12/2016 4:00:00 AM   0             0.000000        \n",
       "6 1503960366 4/12/2016 5:00:00 AM   0             0.000000        "
      ]
     },
     "metadata": {},
     "output_type": "display_data"
    },
    {
     "data": {
      "text/html": [
       "<table class=\"dataframe\">\n",
       "<caption>A tibble: 6 × 3</caption>\n",
       "<thead>\n",
       "\t<tr><th scope=col>Id</th><th scope=col>ActivityHour</th><th scope=col>Calories</th></tr>\n",
       "\t<tr><th scope=col>&lt;dbl&gt;</th><th scope=col>&lt;chr&gt;</th><th scope=col>&lt;dbl&gt;</th></tr>\n",
       "</thead>\n",
       "<tbody>\n",
       "\t<tr><td>1503960366</td><td>4/12/2016 12:00:00 AM</td><td>81</td></tr>\n",
       "\t<tr><td>1503960366</td><td>4/12/2016 1:00:00 AM </td><td>61</td></tr>\n",
       "\t<tr><td>1503960366</td><td>4/12/2016 2:00:00 AM </td><td>59</td></tr>\n",
       "\t<tr><td>1503960366</td><td>4/12/2016 3:00:00 AM </td><td>47</td></tr>\n",
       "\t<tr><td>1503960366</td><td>4/12/2016 4:00:00 AM </td><td>48</td></tr>\n",
       "\t<tr><td>1503960366</td><td>4/12/2016 5:00:00 AM </td><td>48</td></tr>\n",
       "</tbody>\n",
       "</table>\n"
      ],
      "text/latex": [
       "A tibble: 6 × 3\n",
       "\\begin{tabular}{lll}\n",
       " Id & ActivityHour & Calories\\\\\n",
       " <dbl> & <chr> & <dbl>\\\\\n",
       "\\hline\n",
       "\t 1503960366 & 4/12/2016 12:00:00 AM & 81\\\\\n",
       "\t 1503960366 & 4/12/2016 1:00:00 AM  & 61\\\\\n",
       "\t 1503960366 & 4/12/2016 2:00:00 AM  & 59\\\\\n",
       "\t 1503960366 & 4/12/2016 3:00:00 AM  & 47\\\\\n",
       "\t 1503960366 & 4/12/2016 4:00:00 AM  & 48\\\\\n",
       "\t 1503960366 & 4/12/2016 5:00:00 AM  & 48\\\\\n",
       "\\end{tabular}\n"
      ],
      "text/markdown": [
       "\n",
       "A tibble: 6 × 3\n",
       "\n",
       "| Id &lt;dbl&gt; | ActivityHour &lt;chr&gt; | Calories &lt;dbl&gt; |\n",
       "|---|---|---|\n",
       "| 1503960366 | 4/12/2016 12:00:00 AM | 81 |\n",
       "| 1503960366 | 4/12/2016 1:00:00 AM  | 61 |\n",
       "| 1503960366 | 4/12/2016 2:00:00 AM  | 59 |\n",
       "| 1503960366 | 4/12/2016 3:00:00 AM  | 47 |\n",
       "| 1503960366 | 4/12/2016 4:00:00 AM  | 48 |\n",
       "| 1503960366 | 4/12/2016 5:00:00 AM  | 48 |\n",
       "\n"
      ],
      "text/plain": [
       "  Id         ActivityHour          Calories\n",
       "1 1503960366 4/12/2016 12:00:00 AM 81      \n",
       "2 1503960366 4/12/2016 1:00:00 AM  61      \n",
       "3 1503960366 4/12/2016 2:00:00 AM  59      \n",
       "4 1503960366 4/12/2016 3:00:00 AM  47      \n",
       "5 1503960366 4/12/2016 4:00:00 AM  48      \n",
       "6 1503960366 4/12/2016 5:00:00 AM  48      "
      ]
     },
     "metadata": {},
     "output_type": "display_data"
    },
    {
     "data": {
      "text/html": [
       "<table class=\"dataframe\">\n",
       "<caption>A tibble: 6 × 3</caption>\n",
       "<thead>\n",
       "\t<tr><th scope=col>Id</th><th scope=col>ActivityHour</th><th scope=col>StepTotal</th></tr>\n",
       "\t<tr><th scope=col>&lt;dbl&gt;</th><th scope=col>&lt;chr&gt;</th><th scope=col>&lt;dbl&gt;</th></tr>\n",
       "</thead>\n",
       "<tbody>\n",
       "\t<tr><td>1503960366</td><td>4/12/2016 12:00:00 AM</td><td>373</td></tr>\n",
       "\t<tr><td>1503960366</td><td>4/12/2016 1:00:00 AM </td><td>160</td></tr>\n",
       "\t<tr><td>1503960366</td><td>4/12/2016 2:00:00 AM </td><td>151</td></tr>\n",
       "\t<tr><td>1503960366</td><td>4/12/2016 3:00:00 AM </td><td>  0</td></tr>\n",
       "\t<tr><td>1503960366</td><td>4/12/2016 4:00:00 AM </td><td>  0</td></tr>\n",
       "\t<tr><td>1503960366</td><td>4/12/2016 5:00:00 AM </td><td>  0</td></tr>\n",
       "</tbody>\n",
       "</table>\n"
      ],
      "text/latex": [
       "A tibble: 6 × 3\n",
       "\\begin{tabular}{lll}\n",
       " Id & ActivityHour & StepTotal\\\\\n",
       " <dbl> & <chr> & <dbl>\\\\\n",
       "\\hline\n",
       "\t 1503960366 & 4/12/2016 12:00:00 AM & 373\\\\\n",
       "\t 1503960366 & 4/12/2016 1:00:00 AM  & 160\\\\\n",
       "\t 1503960366 & 4/12/2016 2:00:00 AM  & 151\\\\\n",
       "\t 1503960366 & 4/12/2016 3:00:00 AM  &   0\\\\\n",
       "\t 1503960366 & 4/12/2016 4:00:00 AM  &   0\\\\\n",
       "\t 1503960366 & 4/12/2016 5:00:00 AM  &   0\\\\\n",
       "\\end{tabular}\n"
      ],
      "text/markdown": [
       "\n",
       "A tibble: 6 × 3\n",
       "\n",
       "| Id &lt;dbl&gt; | ActivityHour &lt;chr&gt; | StepTotal &lt;dbl&gt; |\n",
       "|---|---|---|\n",
       "| 1503960366 | 4/12/2016 12:00:00 AM | 373 |\n",
       "| 1503960366 | 4/12/2016 1:00:00 AM  | 160 |\n",
       "| 1503960366 | 4/12/2016 2:00:00 AM  | 151 |\n",
       "| 1503960366 | 4/12/2016 3:00:00 AM  |   0 |\n",
       "| 1503960366 | 4/12/2016 4:00:00 AM  |   0 |\n",
       "| 1503960366 | 4/12/2016 5:00:00 AM  |   0 |\n",
       "\n"
      ],
      "text/plain": [
       "  Id         ActivityHour          StepTotal\n",
       "1 1503960366 4/12/2016 12:00:00 AM 373      \n",
       "2 1503960366 4/12/2016 1:00:00 AM  160      \n",
       "3 1503960366 4/12/2016 2:00:00 AM  151      \n",
       "4 1503960366 4/12/2016 3:00:00 AM    0      \n",
       "5 1503960366 4/12/2016 4:00:00 AM    0      \n",
       "6 1503960366 4/12/2016 5:00:00 AM    0      "
      ]
     },
     "metadata": {},
     "output_type": "display_data"
    }
   ],
   "source": [
    "head(cleaned_dailyactv)\n",
    "head(heartrate)\n",
    "head(minuteMET)\n",
    "head(sleep)\n",
    "head(weight)\n",
    "head(hour_inst)\n",
    "head(hour_calr)\n",
    "head(hour_step)"
   ]
  },
  {
   "cell_type": "markdown",
   "id": "df3bcd6a",
   "metadata": {
    "papermill": {
     "duration": 0.196009,
     "end_time": "2022-03-09T17:12:47.961781",
     "exception": false,
     "start_time": "2022-03-09T17:12:47.765772",
     "status": "completed"
    },
    "tags": []
   },
   "source": [
    "##Merging datasets\n",
    "\n",
    "Here I'll be merging 3 datasets: hour_inst,hour_calr and hour_activity in order to get all the hour based data combined in a single dataset. The merging is done by using Id and ActivityHour as the primary keys."
   ]
  },
  {
   "cell_type": "code",
   "execution_count": 4,
   "id": "0b61dc38",
   "metadata": {
    "execution": {
     "iopub.execute_input": "2022-03-09T17:12:48.363267Z",
     "iopub.status.busy": "2022-03-09T17:12:48.361275Z",
     "iopub.status.idle": "2022-03-09T17:12:48.780839Z",
     "shell.execute_reply": "2022-03-09T17:12:48.778948Z"
    },
    "papermill": {
     "duration": 0.622162,
     "end_time": "2022-03-09T17:12:48.780997",
     "exception": false,
     "start_time": "2022-03-09T17:12:48.158835",
     "status": "completed"
    },
    "tags": []
   },
   "outputs": [
    {
     "data": {
      "text/html": [
       "<table class=\"dataframe\">\n",
       "<caption>A data.frame: 6 × 6</caption>\n",
       "<thead>\n",
       "\t<tr><th></th><th scope=col>Id</th><th scope=col>ActivityHour</th><th scope=col>TotalIntensity</th><th scope=col>AverageIntensity</th><th scope=col>Calories</th><th scope=col>StepTotal</th></tr>\n",
       "\t<tr><th></th><th scope=col>&lt;dbl&gt;</th><th scope=col>&lt;chr&gt;</th><th scope=col>&lt;dbl&gt;</th><th scope=col>&lt;dbl&gt;</th><th scope=col>&lt;dbl&gt;</th><th scope=col>&lt;dbl&gt;</th></tr>\n",
       "</thead>\n",
       "<tbody>\n",
       "\t<tr><th scope=row>1</th><td>1503960366</td><td>4/12/2016 1:00:00 AM </td><td> 8</td><td>0.133333</td><td>61</td><td>160</td></tr>\n",
       "\t<tr><th scope=row>2</th><td>1503960366</td><td>4/12/2016 1:00:00 PM </td><td> 6</td><td>0.100000</td><td>66</td><td>221</td></tr>\n",
       "\t<tr><th scope=row>3</th><td>1503960366</td><td>4/12/2016 10:00:00 AM</td><td>29</td><td>0.483333</td><td>99</td><td>676</td></tr>\n",
       "\t<tr><th scope=row>4</th><td>1503960366</td><td>4/12/2016 10:00:00 PM</td><td> 9</td><td>0.150000</td><td>65</td><td> 89</td></tr>\n",
       "\t<tr><th scope=row>5</th><td>1503960366</td><td>4/12/2016 11:00:00 AM</td><td>12</td><td>0.200000</td><td>76</td><td>360</td></tr>\n",
       "\t<tr><th scope=row>6</th><td>1503960366</td><td>4/12/2016 11:00:00 PM</td><td>21</td><td>0.350000</td><td>81</td><td>338</td></tr>\n",
       "</tbody>\n",
       "</table>\n"
      ],
      "text/latex": [
       "A data.frame: 6 × 6\n",
       "\\begin{tabular}{r|llllll}\n",
       "  & Id & ActivityHour & TotalIntensity & AverageIntensity & Calories & StepTotal\\\\\n",
       "  & <dbl> & <chr> & <dbl> & <dbl> & <dbl> & <dbl>\\\\\n",
       "\\hline\n",
       "\t1 & 1503960366 & 4/12/2016 1:00:00 AM  &  8 & 0.133333 & 61 & 160\\\\\n",
       "\t2 & 1503960366 & 4/12/2016 1:00:00 PM  &  6 & 0.100000 & 66 & 221\\\\\n",
       "\t3 & 1503960366 & 4/12/2016 10:00:00 AM & 29 & 0.483333 & 99 & 676\\\\\n",
       "\t4 & 1503960366 & 4/12/2016 10:00:00 PM &  9 & 0.150000 & 65 &  89\\\\\n",
       "\t5 & 1503960366 & 4/12/2016 11:00:00 AM & 12 & 0.200000 & 76 & 360\\\\\n",
       "\t6 & 1503960366 & 4/12/2016 11:00:00 PM & 21 & 0.350000 & 81 & 338\\\\\n",
       "\\end{tabular}\n"
      ],
      "text/markdown": [
       "\n",
       "A data.frame: 6 × 6\n",
       "\n",
       "| <!--/--> | Id &lt;dbl&gt; | ActivityHour &lt;chr&gt; | TotalIntensity &lt;dbl&gt; | AverageIntensity &lt;dbl&gt; | Calories &lt;dbl&gt; | StepTotal &lt;dbl&gt; |\n",
       "|---|---|---|---|---|---|---|\n",
       "| 1 | 1503960366 | 4/12/2016 1:00:00 AM  |  8 | 0.133333 | 61 | 160 |\n",
       "| 2 | 1503960366 | 4/12/2016 1:00:00 PM  |  6 | 0.100000 | 66 | 221 |\n",
       "| 3 | 1503960366 | 4/12/2016 10:00:00 AM | 29 | 0.483333 | 99 | 676 |\n",
       "| 4 | 1503960366 | 4/12/2016 10:00:00 PM |  9 | 0.150000 | 65 |  89 |\n",
       "| 5 | 1503960366 | 4/12/2016 11:00:00 AM | 12 | 0.200000 | 76 | 360 |\n",
       "| 6 | 1503960366 | 4/12/2016 11:00:00 PM | 21 | 0.350000 | 81 | 338 |\n",
       "\n"
      ],
      "text/plain": [
       "  Id         ActivityHour          TotalIntensity AverageIntensity Calories\n",
       "1 1503960366 4/12/2016 1:00:00 AM   8             0.133333         61      \n",
       "2 1503960366 4/12/2016 1:00:00 PM   6             0.100000         66      \n",
       "3 1503960366 4/12/2016 10:00:00 AM 29             0.483333         99      \n",
       "4 1503960366 4/12/2016 10:00:00 PM  9             0.150000         65      \n",
       "5 1503960366 4/12/2016 11:00:00 AM 12             0.200000         76      \n",
       "6 1503960366 4/12/2016 11:00:00 PM 21             0.350000         81      \n",
       "  StepTotal\n",
       "1 160      \n",
       "2 221      \n",
       "3 676      \n",
       "4  89      \n",
       "5 360      \n",
       "6 338      "
      ]
     },
     "metadata": {},
     "output_type": "display_data"
    }
   ],
   "source": [
    "hour_activity<-merge(hour_inst,hour_calr,by=c('Id','ActivityHour'))\n",
    "hour_activity_merged<-merge(hour_activity,hour_step,by=c('Id','ActivityHour'))\n",
    "head(hour_activity_merged)"
   ]
  },
  {
   "cell_type": "code",
   "execution_count": 5,
   "id": "a81be3b4",
   "metadata": {
    "execution": {
     "iopub.execute_input": "2022-03-09T17:12:49.229438Z",
     "iopub.status.busy": "2022-03-09T17:12:49.227417Z",
     "iopub.status.idle": "2022-03-09T17:12:54.638366Z",
     "shell.execute_reply": "2022-03-09T17:12:54.636553Z"
    },
    "papermill": {
     "duration": 5.658953,
     "end_time": "2022-03-09T17:12:54.638530",
     "exception": false,
     "start_time": "2022-03-09T17:12:48.979577",
     "status": "completed"
    },
    "tags": []
   },
   "outputs": [
    {
     "data": {
      "text/html": [
       "0"
      ],
      "text/latex": [
       "0"
      ],
      "text/markdown": [
       "0"
      ],
      "text/plain": [
       "[1] 0"
      ]
     },
     "metadata": {},
     "output_type": "display_data"
    },
    {
     "data": {
      "text/html": [
       "0"
      ],
      "text/latex": [
       "0"
      ],
      "text/markdown": [
       "0"
      ],
      "text/plain": [
       "[1] 0"
      ]
     },
     "metadata": {},
     "output_type": "display_data"
    },
    {
     "data": {
      "text/html": [
       "0"
      ],
      "text/latex": [
       "0"
      ],
      "text/markdown": [
       "0"
      ],
      "text/plain": [
       "[1] 0"
      ]
     },
     "metadata": {},
     "output_type": "display_data"
    },
    {
     "data": {
      "text/html": [
       "0"
      ],
      "text/latex": [
       "0"
      ],
      "text/markdown": [
       "0"
      ],
      "text/plain": [
       "[1] 0"
      ]
     },
     "metadata": {},
     "output_type": "display_data"
    },
    {
     "data": {
      "text/html": [
       "3"
      ],
      "text/latex": [
       "3"
      ],
      "text/markdown": [
       "3"
      ],
      "text/plain": [
       "[1] 3"
      ]
     },
     "metadata": {},
     "output_type": "display_data"
    },
    {
     "data": {
      "text/html": [
       "0"
      ],
      "text/latex": [
       "0"
      ],
      "text/markdown": [
       "0"
      ],
      "text/plain": [
       "[1] 0"
      ]
     },
     "metadata": {},
     "output_type": "display_data"
    }
   ],
   "source": [
    "sum(duplicated(hour_activity_merged))\n",
    "sum(duplicated(cleaned_dailyactv))\n",
    "sum(duplicated(hour_activity_merged))\n",
    "sum(duplicated(minuteMET))\n",
    "sum(duplicated(sleep))\n",
    "sleep<-sleep%>%distinct()    #removed duplicates\n",
    "sum(duplicated(weight))"
   ]
  },
  {
   "cell_type": "markdown",
   "id": "5f949f64",
   "metadata": {
    "papermill": {
     "duration": 0.212524,
     "end_time": "2022-03-09T17:12:55.066074",
     "exception": false,
     "start_time": "2022-03-09T17:12:54.853550",
     "status": "completed"
    },
    "tags": []
   },
   "source": [
    "While checking for duplicate data in the datasets it was found that the sleep dataframe has 3 duplicate rows. All the 3 duplicate rows have been removed."
   ]
  },
  {
   "cell_type": "markdown",
   "id": "3cdeb7d5",
   "metadata": {
    "papermill": {
     "duration": 0.21482,
     "end_time": "2022-03-09T17:12:55.496560",
     "exception": false,
     "start_time": "2022-03-09T17:12:55.281740",
     "status": "completed"
    },
    "tags": []
   },
   "source": [
    "##Formatting dates"
   ]
  },
  {
   "cell_type": "code",
   "execution_count": 6,
   "id": "8559cff9",
   "metadata": {
    "execution": {
     "iopub.execute_input": "2022-03-09T17:12:55.929066Z",
     "iopub.status.busy": "2022-03-09T17:12:55.927310Z",
     "iopub.status.idle": "2022-03-09T17:13:06.285562Z",
     "shell.execute_reply": "2022-03-09T17:13:06.284044Z"
    },
    "papermill": {
     "duration": 10.57569,
     "end_time": "2022-03-09T17:13:06.285760",
     "exception": false,
     "start_time": "2022-03-09T17:12:55.710070",
     "status": "completed"
    },
    "tags": []
   },
   "outputs": [],
   "source": [
    "#formatting dates\n",
    "cleaned_dailyactv$ActivityDate<- parse_date_time(cleaned_dailyactv$ActivityDate, \"%m-%d-%y\")\n",
    "\n",
    "weight$Date<-parse_date_time(weight$Date,\"%m-%d-%y  %H:%M:%S, %p\")\n",
    "\n",
    "sleep$SleepDay<-parse_date_time(sleep$SleepDay,\"%m-%d-%y  %H:%M:%S, %p\")\n",
    "\n",
    "minuteMET$ActivityMinute<-parse_date_time(minuteMET$ActivityMinute,\"%m-%d-%y  %H:%M:%S, %p\")\n",
    "\n",
    "heartrate$Time<-parse_date_time(heartrate$Time,\"%m-%d-%y  %H:%M:%S, %p\")\n",
    "\n",
    "hour_activity_merged$ActivityHour<-parse_date_time(hour_activity_merged$ActivityHour,\"%m-%d-%y  %H:%M:%S, %p\")"
   ]
  },
  {
   "cell_type": "code",
   "execution_count": 7,
   "id": "6f5bb846",
   "metadata": {
    "execution": {
     "iopub.execute_input": "2022-03-09T17:13:06.732394Z",
     "iopub.status.busy": "2022-03-09T17:13:06.730717Z",
     "iopub.status.idle": "2022-03-09T17:13:07.827881Z",
     "shell.execute_reply": "2022-03-09T17:13:07.826148Z"
    },
    "papermill": {
     "duration": 1.318952,
     "end_time": "2022-03-09T17:13:07.828028",
     "exception": false,
     "start_time": "2022-03-09T17:13:06.509076",
     "status": "completed"
    },
    "tags": []
   },
   "outputs": [
    {
     "data": {
      "text/html": [
       "0"
      ],
      "text/latex": [
       "0"
      ],
      "text/markdown": [
       "0"
      ],
      "text/plain": [
       "[1] 0"
      ]
     },
     "metadata": {},
     "output_type": "display_data"
    },
    {
     "data": {
      "text/html": [
       "0"
      ],
      "text/latex": [
       "0"
      ],
      "text/markdown": [
       "0"
      ],
      "text/plain": [
       "[1] 0"
      ]
     },
     "metadata": {},
     "output_type": "display_data"
    },
    {
     "data": {
      "text/html": [
       "0"
      ],
      "text/latex": [
       "0"
      ],
      "text/markdown": [
       "0"
      ],
      "text/plain": [
       "[1] 0"
      ]
     },
     "metadata": {},
     "output_type": "display_data"
    },
    {
     "data": {
      "text/html": [
       "0"
      ],
      "text/latex": [
       "0"
      ],
      "text/markdown": [
       "0"
      ],
      "text/plain": [
       "[1] 0"
      ]
     },
     "metadata": {},
     "output_type": "display_data"
    },
    {
     "data": {
      "text/html": [
       "0"
      ],
      "text/latex": [
       "0"
      ],
      "text/markdown": [
       "0"
      ],
      "text/plain": [
       "[1] 0"
      ]
     },
     "metadata": {},
     "output_type": "display_data"
    },
    {
     "data": {
      "text/html": [
       "65"
      ],
      "text/latex": [
       "65"
      ],
      "text/markdown": [
       "65"
      ],
      "text/plain": [
       "[1] 65"
      ]
     },
     "metadata": {},
     "output_type": "display_data"
    }
   ],
   "source": [
    "#finding if there are null values\n",
    "sum(is.na(cleaned_dailyactv))\n",
    "sum(is.na(heartrate))\n",
    "sum(is.na(hour_activity_merged))\n",
    "sum(is.na(minuteMET))\n",
    "sum(is.na(sleep))\n",
    "sum(is.na(weight))"
   ]
  },
  {
   "cell_type": "markdown",
   "id": "46545f81",
   "metadata": {
    "papermill": {
     "duration": 0.232868,
     "end_time": "2022-03-09T17:13:08.291895",
     "exception": false,
     "start_time": "2022-03-09T17:13:08.059027",
     "status": "completed"
    },
    "tags": []
   },
   "source": [
    "While checking for NULL values in the datasets it was found that the weight dataset has 65 NULL values. These NULL values were dropped during analysis."
   ]
  },
  {
   "cell_type": "code",
   "execution_count": 8,
   "id": "29113b63",
   "metadata": {
    "execution": {
     "iopub.execute_input": "2022-03-09T17:13:08.773046Z",
     "iopub.status.busy": "2022-03-09T17:13:08.772043Z",
     "iopub.status.idle": "2022-03-09T17:13:08.960480Z",
     "shell.execute_reply": "2022-03-09T17:13:08.959074Z"
    },
    "papermill": {
     "duration": 0.436698,
     "end_time": "2022-03-09T17:13:08.960648",
     "exception": false,
     "start_time": "2022-03-09T17:13:08.523950",
     "status": "completed"
    },
    "tags": []
   },
   "outputs": [
    {
     "data": {
      "text/html": [
       "<style>\n",
       ".list-inline {list-style: none; margin:0; padding: 0}\n",
       ".list-inline>li {display: inline-block}\n",
       ".list-inline>li:not(:last-child)::after {content: \"\\00b7\"; padding: 0 .5ex}\n",
       "</style>\n",
       "<ol class=list-inline><li>'Id'</li><li>'ActivityDate'</li><li>'TotalSteps'</li><li>'TotalDistance'</li><li>'TrackerDistance'</li><li>'LoggedActivitiesDistance'</li><li>'VeryActiveDistance'</li><li>'ModeratelyActiveDistance'</li><li>'LightActiveDistance'</li><li>'SedentaryActiveDistance'</li><li>'VeryActiveMinutes'</li><li>'FairlyActiveMinutes'</li><li>'LightlyActiveMinutes'</li><li>'SedentaryMinutes'</li><li>'Calories'</li></ol>\n"
      ],
      "text/latex": [
       "\\begin{enumerate*}\n",
       "\\item 'Id'\n",
       "\\item 'ActivityDate'\n",
       "\\item 'TotalSteps'\n",
       "\\item 'TotalDistance'\n",
       "\\item 'TrackerDistance'\n",
       "\\item 'LoggedActivitiesDistance'\n",
       "\\item 'VeryActiveDistance'\n",
       "\\item 'ModeratelyActiveDistance'\n",
       "\\item 'LightActiveDistance'\n",
       "\\item 'SedentaryActiveDistance'\n",
       "\\item 'VeryActiveMinutes'\n",
       "\\item 'FairlyActiveMinutes'\n",
       "\\item 'LightlyActiveMinutes'\n",
       "\\item 'SedentaryMinutes'\n",
       "\\item 'Calories'\n",
       "\\end{enumerate*}\n"
      ],
      "text/markdown": [
       "1. 'Id'\n",
       "2. 'ActivityDate'\n",
       "3. 'TotalSteps'\n",
       "4. 'TotalDistance'\n",
       "5. 'TrackerDistance'\n",
       "6. 'LoggedActivitiesDistance'\n",
       "7. 'VeryActiveDistance'\n",
       "8. 'ModeratelyActiveDistance'\n",
       "9. 'LightActiveDistance'\n",
       "10. 'SedentaryActiveDistance'\n",
       "11. 'VeryActiveMinutes'\n",
       "12. 'FairlyActiveMinutes'\n",
       "13. 'LightlyActiveMinutes'\n",
       "14. 'SedentaryMinutes'\n",
       "15. 'Calories'\n",
       "\n",
       "\n"
      ],
      "text/plain": [
       " [1] \"Id\"                       \"ActivityDate\"            \n",
       " [3] \"TotalSteps\"               \"TotalDistance\"           \n",
       " [5] \"TrackerDistance\"          \"LoggedActivitiesDistance\"\n",
       " [7] \"VeryActiveDistance\"       \"ModeratelyActiveDistance\"\n",
       " [9] \"LightActiveDistance\"      \"SedentaryActiveDistance\" \n",
       "[11] \"VeryActiveMinutes\"        \"FairlyActiveMinutes\"     \n",
       "[13] \"LightlyActiveMinutes\"     \"SedentaryMinutes\"        \n",
       "[15] \"Calories\"                "
      ]
     },
     "metadata": {},
     "output_type": "display_data"
    },
    {
     "data": {
      "text/html": [
       "<style>\n",
       ".list-inline {list-style: none; margin:0; padding: 0}\n",
       ".list-inline>li {display: inline-block}\n",
       ".list-inline>li:not(:last-child)::after {content: \"\\00b7\"; padding: 0 .5ex}\n",
       "</style>\n",
       "<ol class=list-inline><li>'Id'</li><li>'Time'</li><li>'heartrate_value'</li></ol>\n"
      ],
      "text/latex": [
       "\\begin{enumerate*}\n",
       "\\item 'Id'\n",
       "\\item 'Time'\n",
       "\\item 'heartrate\\_value'\n",
       "\\end{enumerate*}\n"
      ],
      "text/markdown": [
       "1. 'Id'\n",
       "2. 'Time'\n",
       "3. 'heartrate_value'\n",
       "\n",
       "\n"
      ],
      "text/plain": [
       "[1] \"Id\"              \"Time\"            \"heartrate_value\""
      ]
     },
     "metadata": {},
     "output_type": "display_data"
    },
    {
     "data": {
      "text/html": [
       "<style>\n",
       ".list-inline {list-style: none; margin:0; padding: 0}\n",
       ".list-inline>li {display: inline-block}\n",
       ".list-inline>li:not(:last-child)::after {content: \"\\00b7\"; padding: 0 .5ex}\n",
       "</style>\n",
       "<ol class=list-inline><li>'Id'</li><li>'ActivityHour'</li><li>'TotalIntensity'</li><li>'AverageIntensity'</li><li>'Calories'</li><li>'StepTotal'</li></ol>\n"
      ],
      "text/latex": [
       "\\begin{enumerate*}\n",
       "\\item 'Id'\n",
       "\\item 'ActivityHour'\n",
       "\\item 'TotalIntensity'\n",
       "\\item 'AverageIntensity'\n",
       "\\item 'Calories'\n",
       "\\item 'StepTotal'\n",
       "\\end{enumerate*}\n"
      ],
      "text/markdown": [
       "1. 'Id'\n",
       "2. 'ActivityHour'\n",
       "3. 'TotalIntensity'\n",
       "4. 'AverageIntensity'\n",
       "5. 'Calories'\n",
       "6. 'StepTotal'\n",
       "\n",
       "\n"
      ],
      "text/plain": [
       "[1] \"Id\"               \"ActivityHour\"     \"TotalIntensity\"   \"AverageIntensity\"\n",
       "[5] \"Calories\"         \"StepTotal\"       "
      ]
     },
     "metadata": {},
     "output_type": "display_data"
    },
    {
     "data": {
      "text/html": [
       "<style>\n",
       ".list-inline {list-style: none; margin:0; padding: 0}\n",
       ".list-inline>li {display: inline-block}\n",
       ".list-inline>li:not(:last-child)::after {content: \"\\00b7\"; padding: 0 .5ex}\n",
       "</style>\n",
       "<ol class=list-inline><li>'Id'</li><li>'ActivityMinute'</li><li>'METs'</li></ol>\n"
      ],
      "text/latex": [
       "\\begin{enumerate*}\n",
       "\\item 'Id'\n",
       "\\item 'ActivityMinute'\n",
       "\\item 'METs'\n",
       "\\end{enumerate*}\n"
      ],
      "text/markdown": [
       "1. 'Id'\n",
       "2. 'ActivityMinute'\n",
       "3. 'METs'\n",
       "\n",
       "\n"
      ],
      "text/plain": [
       "[1] \"Id\"             \"ActivityMinute\" \"METs\"          "
      ]
     },
     "metadata": {},
     "output_type": "display_data"
    },
    {
     "data": {
      "text/html": [
       "<style>\n",
       ".list-inline {list-style: none; margin:0; padding: 0}\n",
       ".list-inline>li {display: inline-block}\n",
       ".list-inline>li:not(:last-child)::after {content: \"\\00b7\"; padding: 0 .5ex}\n",
       "</style>\n",
       "<ol class=list-inline><li>'Id'</li><li>'sleepTime'</li><li>'TotalSleepRecords'</li><li>'TotalMinutesAsleep'</li><li>'TotalTimeInBed'</li></ol>\n"
      ],
      "text/latex": [
       "\\begin{enumerate*}\n",
       "\\item 'Id'\n",
       "\\item 'sleepTime'\n",
       "\\item 'TotalSleepRecords'\n",
       "\\item 'TotalMinutesAsleep'\n",
       "\\item 'TotalTimeInBed'\n",
       "\\end{enumerate*}\n"
      ],
      "text/markdown": [
       "1. 'Id'\n",
       "2. 'sleepTime'\n",
       "3. 'TotalSleepRecords'\n",
       "4. 'TotalMinutesAsleep'\n",
       "5. 'TotalTimeInBed'\n",
       "\n",
       "\n"
      ],
      "text/plain": [
       "[1] \"Id\"                 \"sleepTime\"          \"TotalSleepRecords\" \n",
       "[4] \"TotalMinutesAsleep\" \"TotalTimeInBed\"    "
      ]
     },
     "metadata": {},
     "output_type": "display_data"
    },
    {
     "data": {
      "text/html": [
       "<style>\n",
       ".list-inline {list-style: none; margin:0; padding: 0}\n",
       ".list-inline>li {display: inline-block}\n",
       ".list-inline>li:not(:last-child)::after {content: \"\\00b7\"; padding: 0 .5ex}\n",
       "</style>\n",
       "<ol class=list-inline><li>'Id'</li><li>'Date'</li><li>'weight_kg'</li><li>'weight_pounds'</li><li>'Fat'</li><li>'BMI'</li><li>'IsManualReport'</li><li>'LogId'</li></ol>\n"
      ],
      "text/latex": [
       "\\begin{enumerate*}\n",
       "\\item 'Id'\n",
       "\\item 'Date'\n",
       "\\item 'weight\\_kg'\n",
       "\\item 'weight\\_pounds'\n",
       "\\item 'Fat'\n",
       "\\item 'BMI'\n",
       "\\item 'IsManualReport'\n",
       "\\item 'LogId'\n",
       "\\end{enumerate*}\n"
      ],
      "text/markdown": [
       "1. 'Id'\n",
       "2. 'Date'\n",
       "3. 'weight_kg'\n",
       "4. 'weight_pounds'\n",
       "5. 'Fat'\n",
       "6. 'BMI'\n",
       "7. 'IsManualReport'\n",
       "8. 'LogId'\n",
       "\n",
       "\n"
      ],
      "text/plain": [
       "[1] \"Id\"             \"Date\"           \"weight_kg\"      \"weight_pounds\" \n",
       "[5] \"Fat\"            \"BMI\"            \"IsManualReport\" \"LogId\"         "
      ]
     },
     "metadata": {},
     "output_type": "display_data"
    }
   ],
   "source": [
    "#renaming column names\n",
    "colnames(heartrate)[colnames(heartrate)==\"Value\"] <- \"heartrate_value\"\n",
    "colnames(sleep)[colnames(sleep)==\"SleepDay\"] <- \"sleepTime\"\n",
    "colnames(weight)[colnames(weight)==\"WeightKg\"] <- \"weight_kg\"\n",
    "colnames(weight)[colnames(weight)==\"WeightPounds\"] <- \"weight_pounds\"\n",
    "colnames(cleaned_dailyactv)\n",
    "colnames(heartrate)\n",
    "colnames(hour_activity_merged)\n",
    "colnames(minuteMET)\n",
    "colnames(sleep)\n",
    "colnames(weight)"
   ]
  },
  {
   "cell_type": "markdown",
   "id": "4b83a133",
   "metadata": {
    "papermill": {
     "duration": 0.249268,
     "end_time": "2022-03-09T17:13:09.458034",
     "exception": false,
     "start_time": "2022-03-09T17:13:09.208766",
     "status": "completed"
    },
    "tags": []
   },
   "source": [
    "#**Analyse and Share Phase**"
   ]
  },
  {
   "cell_type": "code",
   "execution_count": 9,
   "id": "ddcefc17",
   "metadata": {
    "execution": {
     "iopub.execute_input": "2022-03-09T17:13:09.959907Z",
     "iopub.status.busy": "2022-03-09T17:13:09.958559Z",
     "iopub.status.idle": "2022-03-09T17:13:10.017697Z",
     "shell.execute_reply": "2022-03-09T17:13:10.016100Z"
    },
    "papermill": {
     "duration": 0.310867,
     "end_time": "2022-03-09T17:13:10.017839",
     "exception": false,
     "start_time": "2022-03-09T17:13:09.706972",
     "status": "completed"
    },
    "tags": []
   },
   "outputs": [
    {
     "data": {
      "text/html": [
       "<table class=\"dataframe\">\n",
       "<caption>A tibble: 24 × 3</caption>\n",
       "<thead>\n",
       "\t<tr><th scope=col>Id</th><th scope=col>avg_hrs_asleep</th><th scope=col>avg_hrs_bed</th></tr>\n",
       "\t<tr><th scope=col>&lt;dbl&gt;</th><th scope=col>&lt;dbl&gt;</th><th scope=col>&lt;dbl&gt;</th></tr>\n",
       "</thead>\n",
       "<tbody>\n",
       "\t<tr><td>1503960366</td><td> 6.004667</td><td> 6.386667</td></tr>\n",
       "\t<tr><td>1644430081</td><td> 4.900000</td><td> 5.766667</td></tr>\n",
       "\t<tr><td>1844505072</td><td>10.866667</td><td>16.016667</td></tr>\n",
       "\t<tr><td>1927972279</td><td> 6.950000</td><td> 7.296667</td></tr>\n",
       "\t<tr><td>2026352035</td><td> 8.436310</td><td> 8.960714</td></tr>\n",
       "\t<tr><td>2320127002</td><td> 1.016667</td><td> 1.150000</td></tr>\n",
       "\t<tr><td>2347167796</td><td> 7.446667</td><td> 8.188889</td></tr>\n",
       "\t<tr><td>3977333714</td><td> 4.894048</td><td> 7.685714</td></tr>\n",
       "\t<tr><td>4020332650</td><td> 5.822917</td><td> 6.329167</td></tr>\n",
       "\t<tr><td>4319703577</td><td> 7.944231</td><td> 8.366026</td></tr>\n",
       "\t<tr><td>4388161847</td><td> 6.669565</td><td> 7.053623</td></tr>\n",
       "\t<tr><td>4445114986</td><td> 6.419643</td><td> 6.947024</td></tr>\n",
       "\t<tr><td>4558609924</td><td> 2.126667</td><td> 2.333333</td></tr>\n",
       "\t<tr><td>4702921684</td><td> 6.958025</td><td> 7.303704</td></tr>\n",
       "\t<tr><td>5553957443</td><td> 7.724731</td><td> 8.431183</td></tr>\n",
       "\t<tr><td>5577150313</td><td> 7.200000</td><td> 7.676923</td></tr>\n",
       "\t<tr><td>6117666160</td><td> 7.979630</td><td> 8.502778</td></tr>\n",
       "\t<tr><td>6775888955</td><td> 5.827778</td><td> 6.150000</td></tr>\n",
       "\t<tr><td>6962181067</td><td> 7.466667</td><td> 7.768817</td></tr>\n",
       "\t<tr><td>7007744171</td><td> 1.141667</td><td> 1.191667</td></tr>\n",
       "\t<tr><td>7086361926</td><td> 7.552083</td><td> 7.773611</td></tr>\n",
       "\t<tr><td>8053475328</td><td> 4.950000</td><td> 5.027778</td></tr>\n",
       "\t<tr><td>8378563200</td><td> 7.418817</td><td> 8.098925</td></tr>\n",
       "\t<tr><td>8792009665</td><td> 7.261111</td><td> 7.563333</td></tr>\n",
       "</tbody>\n",
       "</table>\n"
      ],
      "text/latex": [
       "A tibble: 24 × 3\n",
       "\\begin{tabular}{lll}\n",
       " Id & avg\\_hrs\\_asleep & avg\\_hrs\\_bed\\\\\n",
       " <dbl> & <dbl> & <dbl>\\\\\n",
       "\\hline\n",
       "\t 1503960366 &  6.004667 &  6.386667\\\\\n",
       "\t 1644430081 &  4.900000 &  5.766667\\\\\n",
       "\t 1844505072 & 10.866667 & 16.016667\\\\\n",
       "\t 1927972279 &  6.950000 &  7.296667\\\\\n",
       "\t 2026352035 &  8.436310 &  8.960714\\\\\n",
       "\t 2320127002 &  1.016667 &  1.150000\\\\\n",
       "\t 2347167796 &  7.446667 &  8.188889\\\\\n",
       "\t 3977333714 &  4.894048 &  7.685714\\\\\n",
       "\t 4020332650 &  5.822917 &  6.329167\\\\\n",
       "\t 4319703577 &  7.944231 &  8.366026\\\\\n",
       "\t 4388161847 &  6.669565 &  7.053623\\\\\n",
       "\t 4445114986 &  6.419643 &  6.947024\\\\\n",
       "\t 4558609924 &  2.126667 &  2.333333\\\\\n",
       "\t 4702921684 &  6.958025 &  7.303704\\\\\n",
       "\t 5553957443 &  7.724731 &  8.431183\\\\\n",
       "\t 5577150313 &  7.200000 &  7.676923\\\\\n",
       "\t 6117666160 &  7.979630 &  8.502778\\\\\n",
       "\t 6775888955 &  5.827778 &  6.150000\\\\\n",
       "\t 6962181067 &  7.466667 &  7.768817\\\\\n",
       "\t 7007744171 &  1.141667 &  1.191667\\\\\n",
       "\t 7086361926 &  7.552083 &  7.773611\\\\\n",
       "\t 8053475328 &  4.950000 &  5.027778\\\\\n",
       "\t 8378563200 &  7.418817 &  8.098925\\\\\n",
       "\t 8792009665 &  7.261111 &  7.563333\\\\\n",
       "\\end{tabular}\n"
      ],
      "text/markdown": [
       "\n",
       "A tibble: 24 × 3\n",
       "\n",
       "| Id &lt;dbl&gt; | avg_hrs_asleep &lt;dbl&gt; | avg_hrs_bed &lt;dbl&gt; |\n",
       "|---|---|---|\n",
       "| 1503960366 |  6.004667 |  6.386667 |\n",
       "| 1644430081 |  4.900000 |  5.766667 |\n",
       "| 1844505072 | 10.866667 | 16.016667 |\n",
       "| 1927972279 |  6.950000 |  7.296667 |\n",
       "| 2026352035 |  8.436310 |  8.960714 |\n",
       "| 2320127002 |  1.016667 |  1.150000 |\n",
       "| 2347167796 |  7.446667 |  8.188889 |\n",
       "| 3977333714 |  4.894048 |  7.685714 |\n",
       "| 4020332650 |  5.822917 |  6.329167 |\n",
       "| 4319703577 |  7.944231 |  8.366026 |\n",
       "| 4388161847 |  6.669565 |  7.053623 |\n",
       "| 4445114986 |  6.419643 |  6.947024 |\n",
       "| 4558609924 |  2.126667 |  2.333333 |\n",
       "| 4702921684 |  6.958025 |  7.303704 |\n",
       "| 5553957443 |  7.724731 |  8.431183 |\n",
       "| 5577150313 |  7.200000 |  7.676923 |\n",
       "| 6117666160 |  7.979630 |  8.502778 |\n",
       "| 6775888955 |  5.827778 |  6.150000 |\n",
       "| 6962181067 |  7.466667 |  7.768817 |\n",
       "| 7007744171 |  1.141667 |  1.191667 |\n",
       "| 7086361926 |  7.552083 |  7.773611 |\n",
       "| 8053475328 |  4.950000 |  5.027778 |\n",
       "| 8378563200 |  7.418817 |  8.098925 |\n",
       "| 8792009665 |  7.261111 |  7.563333 |\n",
       "\n"
      ],
      "text/plain": [
       "   Id         avg_hrs_asleep avg_hrs_bed\n",
       "1  1503960366  6.004667       6.386667  \n",
       "2  1644430081  4.900000       5.766667  \n",
       "3  1844505072 10.866667      16.016667  \n",
       "4  1927972279  6.950000       7.296667  \n",
       "5  2026352035  8.436310       8.960714  \n",
       "6  2320127002  1.016667       1.150000  \n",
       "7  2347167796  7.446667       8.188889  \n",
       "8  3977333714  4.894048       7.685714  \n",
       "9  4020332650  5.822917       6.329167  \n",
       "10 4319703577  7.944231       8.366026  \n",
       "11 4388161847  6.669565       7.053623  \n",
       "12 4445114986  6.419643       6.947024  \n",
       "13 4558609924  2.126667       2.333333  \n",
       "14 4702921684  6.958025       7.303704  \n",
       "15 5553957443  7.724731       8.431183  \n",
       "16 5577150313  7.200000       7.676923  \n",
       "17 6117666160  7.979630       8.502778  \n",
       "18 6775888955  5.827778       6.150000  \n",
       "19 6962181067  7.466667       7.768817  \n",
       "20 7007744171  1.141667       1.191667  \n",
       "21 7086361926  7.552083       7.773611  \n",
       "22 8053475328  4.950000       5.027778  \n",
       "23 8378563200  7.418817       8.098925  \n",
       "24 8792009665  7.261111       7.563333  "
      ]
     },
     "metadata": {},
     "output_type": "display_data"
    }
   ],
   "source": [
    "#average hours asleep and average hours in bed - grouped by Id\n",
    "sleep$sleep_hrs<-sleep$TotalMinutesAsleep/60\n",
    "sleep$bedtime_hrs<-sleep$TotalTimeInBed/60\n",
    "sleep %>% group_by(Id)%>% drop_na() %>% summarize(avg_hrs_asleep=mean(sleep_hrs),avg_hrs_bed=mean(bedtime_hrs))"
   ]
  },
  {
   "cell_type": "code",
   "execution_count": 10,
   "id": "9a63ce58",
   "metadata": {
    "execution": {
     "iopub.execute_input": "2022-03-09T17:13:10.568430Z",
     "iopub.status.busy": "2022-03-09T17:13:10.566886Z",
     "iopub.status.idle": "2022-03-09T17:13:10.594019Z",
     "shell.execute_reply": "2022-03-09T17:13:10.592426Z"
    },
    "papermill": {
     "duration": 0.279722,
     "end_time": "2022-03-09T17:13:10.594162",
     "exception": false,
     "start_time": "2022-03-09T17:13:10.314440",
     "status": "completed"
    },
    "tags": []
   },
   "outputs": [
    {
     "data": {
      "text/plain": [
       " TotalMinutesAsleep TotalTimeInBed \n",
       " Min.   : 58.0      Min.   : 61.0  \n",
       " 1st Qu.:361.0      1st Qu.:403.8  \n",
       " Median :432.5      Median :463.0  \n",
       " Mean   :419.2      Mean   :458.5  \n",
       " 3rd Qu.:490.0      3rd Qu.:526.0  \n",
       " Max.   :796.0      Max.   :961.0  "
      ]
     },
     "metadata": {},
     "output_type": "display_data"
    }
   ],
   "source": [
    "#statistical summary of TotalMinutesAsleep and TotalTimeinBed\n",
    "sleep %>% select(TotalMinutesAsleep,TotalTimeInBed) %>% summary()"
   ]
  },
  {
   "cell_type": "markdown",
   "id": "0a9d5dd7",
   "metadata": {
    "papermill": {
     "duration": 0.258719,
     "end_time": "2022-03-09T17:13:11.142795",
     "exception": false,
     "start_time": "2022-03-09T17:13:10.884076",
     "status": "completed"
    },
    "tags": []
   },
   "source": [
    "The average hrs of sleep is nearly 7 hrs."
   ]
  },
  {
   "cell_type": "code",
   "execution_count": 11,
   "id": "bfc9cbc1",
   "metadata": {
    "execution": {
     "iopub.execute_input": "2022-03-09T17:13:11.650753Z",
     "iopub.status.busy": "2022-03-09T17:13:11.649020Z",
     "iopub.status.idle": "2022-03-09T17:13:11.690730Z",
     "shell.execute_reply": "2022-03-09T17:13:11.689166Z"
    },
    "papermill": {
     "duration": 0.297537,
     "end_time": "2022-03-09T17:13:11.690885",
     "exception": false,
     "start_time": "2022-03-09T17:13:11.393348",
     "status": "completed"
    },
    "tags": []
   },
   "outputs": [
    {
     "data": {
      "text/html": [
       "<table class=\"dataframe\">\n",
       "<caption>A tibble: 7 × 3</caption>\n",
       "<thead>\n",
       "\t<tr><th scope=col>SleepDay</th><th scope=col>avg_hrs_sleepday</th><th scope=col>avg_hrs_sleepbed</th></tr>\n",
       "\t<tr><th scope=col>&lt;chr&gt;</th><th scope=col>&lt;dbl&gt;</th><th scope=col>&lt;dbl&gt;</th></tr>\n",
       "</thead>\n",
       "<tbody>\n",
       "\t<tr><td>Friday   </td><td>6.757018</td><td>7.417544</td></tr>\n",
       "\t<tr><td>Monday   </td><td>6.991667</td><td>7.622464</td></tr>\n",
       "\t<tr><td>Saturday </td><td>6.984503</td><td>7.664035</td></tr>\n",
       "\t<tr><td>Sunday   </td><td>7.545758</td><td>8.391818</td></tr>\n",
       "\t<tr><td>Thursday </td><td>6.688281</td><td>7.247917</td></tr>\n",
       "\t<tr><td>Tuesday  </td><td>6.742308</td><td>7.388205</td></tr>\n",
       "\t<tr><td>Wednesday</td><td>7.244697</td><td>7.833838</td></tr>\n",
       "</tbody>\n",
       "</table>\n"
      ],
      "text/latex": [
       "A tibble: 7 × 3\n",
       "\\begin{tabular}{lll}\n",
       " SleepDay & avg\\_hrs\\_sleepday & avg\\_hrs\\_sleepbed\\\\\n",
       " <chr> & <dbl> & <dbl>\\\\\n",
       "\\hline\n",
       "\t Friday    & 6.757018 & 7.417544\\\\\n",
       "\t Monday    & 6.991667 & 7.622464\\\\\n",
       "\t Saturday  & 6.984503 & 7.664035\\\\\n",
       "\t Sunday    & 7.545758 & 8.391818\\\\\n",
       "\t Thursday  & 6.688281 & 7.247917\\\\\n",
       "\t Tuesday   & 6.742308 & 7.388205\\\\\n",
       "\t Wednesday & 7.244697 & 7.833838\\\\\n",
       "\\end{tabular}\n"
      ],
      "text/markdown": [
       "\n",
       "A tibble: 7 × 3\n",
       "\n",
       "| SleepDay &lt;chr&gt; | avg_hrs_sleepday &lt;dbl&gt; | avg_hrs_sleepbed &lt;dbl&gt; |\n",
       "|---|---|---|\n",
       "| Friday    | 6.757018 | 7.417544 |\n",
       "| Monday    | 6.991667 | 7.622464 |\n",
       "| Saturday  | 6.984503 | 7.664035 |\n",
       "| Sunday    | 7.545758 | 8.391818 |\n",
       "| Thursday  | 6.688281 | 7.247917 |\n",
       "| Tuesday   | 6.742308 | 7.388205 |\n",
       "| Wednesday | 7.244697 | 7.833838 |\n",
       "\n"
      ],
      "text/plain": [
       "  SleepDay  avg_hrs_sleepday avg_hrs_sleepbed\n",
       "1 Friday    6.757018         7.417544        \n",
       "2 Monday    6.991667         7.622464        \n",
       "3 Saturday  6.984503         7.664035        \n",
       "4 Sunday    7.545758         8.391818        \n",
       "5 Thursday  6.688281         7.247917        \n",
       "6 Tuesday   6.742308         7.388205        \n",
       "7 Wednesday 7.244697         7.833838        "
      ]
     },
     "metadata": {},
     "output_type": "display_data"
    }
   ],
   "source": [
    "#average hours in bed and average hours asleep - grouped by day of the week\n",
    "sleep$SleepDay<-c(\" \")\n",
    "sleep$SleepDay<-weekdays(as.Date(sleep$sleepTime))\n",
    "sleep_day<-sleep %>% group_by(SleepDay) %>% drop_na() %>% summarize(avg_hrs_sleepday=mean(TotalMinutesAsleep/60),avg_hrs_sleepbed=mean(TotalTimeInBed/60))\n",
    "sleep_day"
   ]
  },
  {
   "cell_type": "code",
   "execution_count": 12,
   "id": "e0c438df",
   "metadata": {
    "execution": {
     "iopub.execute_input": "2022-03-09T17:13:12.205954Z",
     "iopub.status.busy": "2022-03-09T17:13:12.204304Z",
     "iopub.status.idle": "2022-03-09T17:13:12.918057Z",
     "shell.execute_reply": "2022-03-09T17:13:12.917054Z"
    },
    "papermill": {
     "duration": 0.971244,
     "end_time": "2022-03-09T17:13:12.918202",
     "exception": false,
     "start_time": "2022-03-09T17:13:11.946958",
     "status": "completed"
    },
    "tags": []
   },
   "outputs": [
    {
     "data": {
      "image/png": "[encoded data removed]"
     },
     "metadata": {
      "image/png": {
       "height": 420,
       "width": 420
      }
     },
     "output_type": "display_data"
    },
    {
     "data": {
      "image/png": "[encoded data removed]"
     },
     "metadata": {
      "image/png": {
       "height": 420,
       "width": 420
      }
     },
     "output_type": "display_data"
    }
   ],
   "source": [
    "#plot showing relationship between day of the week and average hours asleep , day of the week and average hours in bed\n",
    "ggplot(data=sleep_day)+geom_bar(stat=\"identity\",mapping=aes(x=SleepDay,y=avg_hrs_sleepday),fill='turquoise2')+labs(title=\"Average hours of sleep vs Day of the Week\",x=\"Day of the Week\",y=\"Average hours of sleep\")\n",
    "ggplot(data=sleep_day)+geom_bar(stat=\"identity\",mapping=aes(x=SleepDay,y=avg_hrs_sleepbed),fill='turquoise2')+labs(title=\"Average hours of bedtime vs Day of the Week\",x=\"Day of the Week\",y=\"Average hours of bedtime\")"
   ]
  },
  {
   "cell_type": "code",
   "execution_count": 13,
   "id": "d18d85d7",
   "metadata": {
    "execution": {
     "iopub.execute_input": "2022-03-09T17:13:13.443354Z",
     "iopub.status.busy": "2022-03-09T17:13:13.441872Z",
     "iopub.status.idle": "2022-03-09T17:13:14.686113Z",
     "shell.execute_reply": "2022-03-09T17:13:14.686591Z"
    },
    "papermill": {
     "duration": 1.510289,
     "end_time": "2022-03-09T17:13:14.686785",
     "exception": false,
     "start_time": "2022-03-09T17:13:13.176496",
     "status": "completed"
    },
    "tags": []
   },
   "outputs": [
    {
     "name": "stderr",
     "output_type": "stream",
     "text": [
      "`geom_smooth()` using method = 'loess' and formula 'y ~ x'\n",
      "\n"
     ]
    },
    {
     "data": {
      "image/png": "[encoded data removed]"
     },
     "metadata": {
      "image/png": {
       "height": 420,
       "width": 420
      }
     },
     "output_type": "display_data"
    }
   ],
   "source": [
    "#plot showing relationship between total minutes in bed and total minutes asleep\n",
    "ggplot(data=sleep)+geom_point(mapping=aes(x=TotalMinutesAsleep,y=TotalTimeInBed))+geom_smooth(mapping=aes(x=TotalMinutesAsleep,y=TotalTimeInBed))+labs(title=\"Total minutes asleep vs Total Bedtime\",x=\"Total minutes asleep\",y=\"Total bedtime minutes\")"
   ]
  },
  {
   "cell_type": "code",
   "execution_count": 14,
   "id": "a15de91c",
   "metadata": {
    "execution": {
     "iopub.execute_input": "2022-03-09T17:13:15.223772Z",
     "iopub.status.busy": "2022-03-09T17:13:15.222337Z",
     "iopub.status.idle": "2022-03-09T17:13:15.247182Z",
     "shell.execute_reply": "2022-03-09T17:13:15.245412Z"
    },
    "papermill": {
     "duration": 0.293269,
     "end_time": "2022-03-09T17:13:15.247327",
     "exception": false,
     "start_time": "2022-03-09T17:13:14.954058",
     "status": "completed"
    },
    "tags": []
   },
   "outputs": [
    {
     "data": {
      "text/plain": [
       "   weight_kg           Fat             BMI       \n",
       " Min.   : 52.60   Min.   :22.00   Min.   :21.45  \n",
       " 1st Qu.: 61.40   1st Qu.:22.75   1st Qu.:23.96  \n",
       " Median : 62.50   Median :23.50   Median :24.39  \n",
       " Mean   : 72.04   Mean   :23.50   Mean   :25.19  \n",
       " 3rd Qu.: 85.05   3rd Qu.:24.25   3rd Qu.:25.56  \n",
       " Max.   :133.50   Max.   :25.00   Max.   :47.54  \n",
       "                  NA's   :65                     "
      ]
     },
     "metadata": {},
     "output_type": "display_data"
    }
   ],
   "source": [
    "#statistical summary of WeightKg,Fat,BMI\n",
    "weight %>% select(weight_kg,Fat,BMI) %>% summary()"
   ]
  },
  {
   "cell_type": "markdown",
   "id": "0f166f3b",
   "metadata": {
    "papermill": {
     "duration": 0.264115,
     "end_time": "2022-03-09T17:13:15.778229",
     "exception": false,
     "start_time": "2022-03-09T17:13:15.514114",
     "status": "completed"
    },
    "tags": []
   },
   "source": [
    "The average BMI is 25.56 which is considered to be 'overweight' BMI."
   ]
  },
  {
   "cell_type": "code",
   "execution_count": 15,
   "id": "35437408",
   "metadata": {
    "execution": {
     "iopub.execute_input": "2022-03-09T17:13:16.370943Z",
     "iopub.status.busy": "2022-03-09T17:13:16.368792Z",
     "iopub.status.idle": "2022-03-09T17:13:16.402817Z",
     "shell.execute_reply": "2022-03-09T17:13:16.401014Z"
    },
    "papermill": {
     "duration": 0.324842,
     "end_time": "2022-03-09T17:13:16.402971",
     "exception": false,
     "start_time": "2022-03-09T17:13:16.078129",
     "status": "completed"
    },
    "tags": []
   },
   "outputs": [
    {
     "data": {
      "text/html": [
       "<table class=\"dataframe\">\n",
       "<caption>A tibble: 8 × 2</caption>\n",
       "<thead>\n",
       "\t<tr><th scope=col>Id</th><th scope=col>avg_weight_kg</th></tr>\n",
       "\t<tr><th scope=col>&lt;dbl&gt;</th><th scope=col>&lt;dbl&gt;</th></tr>\n",
       "</thead>\n",
       "<tbody>\n",
       "\t<tr><td>1503960366</td><td> 52.60000</td></tr>\n",
       "\t<tr><td>1927972279</td><td>133.50000</td></tr>\n",
       "\t<tr><td>2873212765</td><td> 57.00000</td></tr>\n",
       "\t<tr><td>4319703577</td><td> 72.35000</td></tr>\n",
       "\t<tr><td>4558609924</td><td> 69.64000</td></tr>\n",
       "\t<tr><td>5577150313</td><td> 90.70000</td></tr>\n",
       "\t<tr><td>6962181067</td><td> 61.55333</td></tr>\n",
       "\t<tr><td>8877689391</td><td> 85.14583</td></tr>\n",
       "</tbody>\n",
       "</table>\n"
      ],
      "text/latex": [
       "A tibble: 8 × 2\n",
       "\\begin{tabular}{ll}\n",
       " Id & avg\\_weight\\_kg\\\\\n",
       " <dbl> & <dbl>\\\\\n",
       "\\hline\n",
       "\t 1503960366 &  52.60000\\\\\n",
       "\t 1927972279 & 133.50000\\\\\n",
       "\t 2873212765 &  57.00000\\\\\n",
       "\t 4319703577 &  72.35000\\\\\n",
       "\t 4558609924 &  69.64000\\\\\n",
       "\t 5577150313 &  90.70000\\\\\n",
       "\t 6962181067 &  61.55333\\\\\n",
       "\t 8877689391 &  85.14583\\\\\n",
       "\\end{tabular}\n"
      ],
      "text/markdown": [
       "\n",
       "A tibble: 8 × 2\n",
       "\n",
       "| Id &lt;dbl&gt; | avg_weight_kg &lt;dbl&gt; |\n",
       "|---|---|\n",
       "| 1503960366 |  52.60000 |\n",
       "| 1927972279 | 133.50000 |\n",
       "| 2873212765 |  57.00000 |\n",
       "| 4319703577 |  72.35000 |\n",
       "| 4558609924 |  69.64000 |\n",
       "| 5577150313 |  90.70000 |\n",
       "| 6962181067 |  61.55333 |\n",
       "| 8877689391 |  85.14583 |\n",
       "\n"
      ],
      "text/plain": [
       "  Id         avg_weight_kg\n",
       "1 1503960366  52.60000    \n",
       "2 1927972279 133.50000    \n",
       "3 2873212765  57.00000    \n",
       "4 4319703577  72.35000    \n",
       "5 4558609924  69.64000    \n",
       "6 5577150313  90.70000    \n",
       "7 6962181067  61.55333    \n",
       "8 8877689391  85.14583    "
      ]
     },
     "metadata": {},
     "output_type": "display_data"
    }
   ],
   "source": [
    "#average weight in kg- grouped by Id\n",
    "mn_weight<-weight %>% group_by(Id) %>% summarize(avg_weight_kg=mean(weight_kg))\n",
    "mn_weight"
   ]
  },
  {
   "cell_type": "markdown",
   "id": "ea6f5b85",
   "metadata": {
    "papermill": {
     "duration": 0.292913,
     "end_time": "2022-03-09T17:13:16.970788",
     "exception": false,
     "start_time": "2022-03-09T17:13:16.677875",
     "status": "completed"
    },
    "tags": []
   },
   "source": [
    "I noticed that there are only 8 people whose data is available in the weight dataset. The number of people whose records are available is insufficient."
   ]
  },
  {
   "cell_type": "code",
   "execution_count": 16,
   "id": "c3265cd1",
   "metadata": {
    "execution": {
     "iopub.execute_input": "2022-03-09T17:13:17.512437Z",
     "iopub.status.busy": "2022-03-09T17:13:17.510906Z",
     "iopub.status.idle": "2022-03-09T17:13:17.531853Z",
     "shell.execute_reply": "2022-03-09T17:13:17.530185Z"
    },
    "papermill": {
     "duration": 0.293374,
     "end_time": "2022-03-09T17:13:17.532005",
     "exception": false,
     "start_time": "2022-03-09T17:13:17.238631",
     "status": "completed"
    },
    "tags": []
   },
   "outputs": [
    {
     "data": {
      "text/html": [
       "2"
      ],
      "text/latex": [
       "2"
      ],
      "text/markdown": [
       "2"
      ],
      "text/plain": [
       "[1] 2"
      ]
     },
     "metadata": {},
     "output_type": "display_data"
    }
   ],
   "source": [
    "#finding the number of months for which the data is entered\n",
    "weight$weight_month<-format(weight$Date,format=\"%B\")\n",
    "n_distinct(weight$weight_month)"
   ]
  },
  {
   "cell_type": "markdown",
   "id": "eeb963c9",
   "metadata": {
    "papermill": {
     "duration": 0.274778,
     "end_time": "2022-03-09T17:13:18.075555",
     "exception": false,
     "start_time": "2022-03-09T17:13:17.800777",
     "status": "completed"
    },
    "tags": []
   },
   "source": [
    "I further noticed that the people who had recorded their data have done it for only 2 months. This data is clearly insufficient to draw insights. Hence I decided I will not be using the weight dataset further."
   ]
  },
  {
   "cell_type": "code",
   "execution_count": 17,
   "id": "3e596f1f",
   "metadata": {
    "execution": {
     "iopub.execute_input": "2022-03-09T17:13:18.622224Z",
     "iopub.status.busy": "2022-03-09T17:13:18.621618Z",
     "iopub.status.idle": "2022-03-09T17:13:19.452509Z",
     "shell.execute_reply": "2022-03-09T17:13:19.450718Z"
    },
    "papermill": {
     "duration": 1.106437,
     "end_time": "2022-03-09T17:13:19.452687",
     "exception": false,
     "start_time": "2022-03-09T17:13:18.346250",
     "status": "completed"
    },
    "tags": []
   },
   "outputs": [
    {
     "data": {
      "text/plain": [
       "      METs       \n",
       " Min.   :  0.00  \n",
       " 1st Qu.: 10.00  \n",
       " Median : 10.00  \n",
       " Mean   : 14.69  \n",
       " 3rd Qu.: 11.00  \n",
       " Max.   :157.00  "
      ]
     },
     "metadata": {},
     "output_type": "display_data"
    }
   ],
   "source": [
    "#METs summary\n",
    "minuteMET %>% select(METs) %>% summary()"
   ]
  },
  {
   "cell_type": "markdown",
   "id": "bd67daf4",
   "metadata": {
    "papermill": {
     "duration": 0.274561,
     "end_time": "2022-03-09T17:13:19.999212",
     "exception": false,
     "start_time": "2022-03-09T17:13:19.724651",
     "status": "completed"
    },
    "tags": []
   },
   "source": [
    "MET is the ratio of your working metabolic rate relative to your resting metabolic rate. One MET is the energy you use when at rest. This means an activity with a MET of four, would require a person to exert four times the energy they do when they are sitting.The average MET is 14.69 . This value is considered to be very high. "
   ]
  },
  {
   "cell_type": "code",
   "execution_count": 18,
   "id": "540f3546",
   "metadata": {
    "_kg_hide-output": true,
    "execution": {
     "iopub.execute_input": "2022-03-09T17:13:20.588670Z",
     "iopub.status.busy": "2022-03-09T17:13:20.586566Z",
     "iopub.status.idle": "2022-03-09T17:13:21.109623Z",
     "shell.execute_reply": "2022-03-09T17:13:21.107985Z"
    },
    "papermill": {
     "duration": 0.811545,
     "end_time": "2022-03-09T17:13:21.109778",
     "exception": false,
     "start_time": "2022-03-09T17:13:20.298233",
     "status": "completed"
    },
    "tags": []
   },
   "outputs": [
    {
     "name": "stderr",
     "output_type": "stream",
     "text": [
      "`summarise()` has grouped output by 'Id'. You can override using the `.groups` argument.\n",
      "\n"
     ]
    },
    {
     "data": {
      "text/html": [
       "<table class=\"dataframe\">\n",
       "<caption>A grouped_df: 1325580 × 2</caption>\n",
       "<thead>\n",
       "\t<tr><th scope=col>Id</th><th scope=col>METs</th></tr>\n",
       "\t<tr><th scope=col>&lt;dbl&gt;</th><th scope=col>&lt;dbl&gt;</th></tr>\n",
       "</thead>\n",
       "<tbody>\n",
       "\t<tr><td>1503960366</td><td>10</td></tr>\n",
       "\t<tr><td>1503960366</td><td>10</td></tr>\n",
       "\t<tr><td>1503960366</td><td>10</td></tr>\n",
       "\t<tr><td>1503960366</td><td>10</td></tr>\n",
       "\t<tr><td>1503960366</td><td>10</td></tr>\n",
       "\t<tr><td>1503960366</td><td>12</td></tr>\n",
       "\t<tr><td>1503960366</td><td>12</td></tr>\n",
       "\t<tr><td>1503960366</td><td>12</td></tr>\n",
       "\t<tr><td>1503960366</td><td>12</td></tr>\n",
       "\t<tr><td>1503960366</td><td>12</td></tr>\n",
       "\t<tr><td>1503960366</td><td>12</td></tr>\n",
       "\t<tr><td>1503960366</td><td>12</td></tr>\n",
       "\t<tr><td>1503960366</td><td>10</td></tr>\n",
       "\t<tr><td>1503960366</td><td>10</td></tr>\n",
       "\t<tr><td>1503960366</td><td>12</td></tr>\n",
       "\t<tr><td>1503960366</td><td>10</td></tr>\n",
       "\t<tr><td>1503960366</td><td>12</td></tr>\n",
       "\t<tr><td>1503960366</td><td>10</td></tr>\n",
       "\t<tr><td>1503960366</td><td>10</td></tr>\n",
       "\t<tr><td>1503960366</td><td>10</td></tr>\n",
       "\t<tr><td>1503960366</td><td>12</td></tr>\n",
       "\t<tr><td>1503960366</td><td>12</td></tr>\n",
       "\t<tr><td>1503960366</td><td>12</td></tr>\n",
       "\t<tr><td>1503960366</td><td>12</td></tr>\n",
       "\t<tr><td>1503960366</td><td>12</td></tr>\n",
       "\t<tr><td>1503960366</td><td>26</td></tr>\n",
       "\t<tr><td>1503960366</td><td>12</td></tr>\n",
       "\t<tr><td>1503960366</td><td>12</td></tr>\n",
       "\t<tr><td>1503960366</td><td>12</td></tr>\n",
       "\t<tr><td>1503960366</td><td>32</td></tr>\n",
       "\t<tr><td>⋮</td><td>⋮</td></tr>\n",
       "\t<tr><td>8877689391</td><td>11</td></tr>\n",
       "\t<tr><td>8877689391</td><td>10</td></tr>\n",
       "\t<tr><td>8877689391</td><td>10</td></tr>\n",
       "\t<tr><td>8877689391</td><td>10</td></tr>\n",
       "\t<tr><td>8877689391</td><td>26</td></tr>\n",
       "\t<tr><td>8877689391</td><td>42</td></tr>\n",
       "\t<tr><td>8877689391</td><td>54</td></tr>\n",
       "\t<tr><td>8877689391</td><td>74</td></tr>\n",
       "\t<tr><td>8877689391</td><td>30</td></tr>\n",
       "\t<tr><td>8877689391</td><td>10</td></tr>\n",
       "\t<tr><td>8877689391</td><td>11</td></tr>\n",
       "\t<tr><td>8877689391</td><td>11</td></tr>\n",
       "\t<tr><td>8877689391</td><td>11</td></tr>\n",
       "\t<tr><td>8877689391</td><td>11</td></tr>\n",
       "\t<tr><td>8877689391</td><td>28</td></tr>\n",
       "\t<tr><td>8877689391</td><td>13</td></tr>\n",
       "\t<tr><td>8877689391</td><td>11</td></tr>\n",
       "\t<tr><td>8877689391</td><td>10</td></tr>\n",
       "\t<tr><td>8877689391</td><td>11</td></tr>\n",
       "\t<tr><td>8877689391</td><td>11</td></tr>\n",
       "\t<tr><td>8877689391</td><td>11</td></tr>\n",
       "\t<tr><td>8877689391</td><td>11</td></tr>\n",
       "\t<tr><td>8877689391</td><td>11</td></tr>\n",
       "\t<tr><td>8877689391</td><td>11</td></tr>\n",
       "\t<tr><td>8877689391</td><td>11</td></tr>\n",
       "\t<tr><td>8877689391</td><td>11</td></tr>\n",
       "\t<tr><td>8877689391</td><td>11</td></tr>\n",
       "\t<tr><td>8877689391</td><td>11</td></tr>\n",
       "\t<tr><td>8877689391</td><td>11</td></tr>\n",
       "\t<tr><td>8877689391</td><td>11</td></tr>\n",
       "</tbody>\n",
       "</table>\n"
      ],
      "text/latex": [
       "A grouped\\_df: 1325580 × 2\n",
       "\\begin{tabular}{ll}\n",
       " Id & METs\\\\\n",
       " <dbl> & <dbl>\\\\\n",
       "\\hline\n",
       "\t 1503960366 & 10\\\\\n",
       "\t 1503960366 & 10\\\\\n",
       "\t 1503960366 & 10\\\\\n",
       "\t 1503960366 & 10\\\\\n",
       "\t 1503960366 & 10\\\\\n",
       "\t 1503960366 & 12\\\\\n",
       "\t 1503960366 & 12\\\\\n",
       "\t 1503960366 & 12\\\\\n",
       "\t 1503960366 & 12\\\\\n",
       "\t 1503960366 & 12\\\\\n",
       "\t 1503960366 & 12\\\\\n",
       "\t 1503960366 & 12\\\\\n",
       "\t 1503960366 & 10\\\\\n",
       "\t 1503960366 & 10\\\\\n",
       "\t 1503960366 & 12\\\\\n",
       "\t 1503960366 & 10\\\\\n",
       "\t 1503960366 & 12\\\\\n",
       "\t 1503960366 & 10\\\\\n",
       "\t 1503960366 & 10\\\\\n",
       "\t 1503960366 & 10\\\\\n",
       "\t 1503960366 & 12\\\\\n",
       "\t 1503960366 & 12\\\\\n",
       "\t 1503960366 & 12\\\\\n",
       "\t 1503960366 & 12\\\\\n",
       "\t 1503960366 & 12\\\\\n",
       "\t 1503960366 & 26\\\\\n",
       "\t 1503960366 & 12\\\\\n",
       "\t 1503960366 & 12\\\\\n",
       "\t 1503960366 & 12\\\\\n",
       "\t 1503960366 & 32\\\\\n",
       "\t ⋮ & ⋮\\\\\n",
       "\t 8877689391 & 11\\\\\n",
       "\t 8877689391 & 10\\\\\n",
       "\t 8877689391 & 10\\\\\n",
       "\t 8877689391 & 10\\\\\n",
       "\t 8877689391 & 26\\\\\n",
       "\t 8877689391 & 42\\\\\n",
       "\t 8877689391 & 54\\\\\n",
       "\t 8877689391 & 74\\\\\n",
       "\t 8877689391 & 30\\\\\n",
       "\t 8877689391 & 10\\\\\n",
       "\t 8877689391 & 11\\\\\n",
       "\t 8877689391 & 11\\\\\n",
       "\t 8877689391 & 11\\\\\n",
       "\t 8877689391 & 11\\\\\n",
       "\t 8877689391 & 28\\\\\n",
       "\t 8877689391 & 13\\\\\n",
       "\t 8877689391 & 11\\\\\n",
       "\t 8877689391 & 10\\\\\n",
       "\t 8877689391 & 11\\\\\n",
       "\t 8877689391 & 11\\\\\n",
       "\t 8877689391 & 11\\\\\n",
       "\t 8877689391 & 11\\\\\n",
       "\t 8877689391 & 11\\\\\n",
       "\t 8877689391 & 11\\\\\n",
       "\t 8877689391 & 11\\\\\n",
       "\t 8877689391 & 11\\\\\n",
       "\t 8877689391 & 11\\\\\n",
       "\t 8877689391 & 11\\\\\n",
       "\t 8877689391 & 11\\\\\n",
       "\t 8877689391 & 11\\\\\n",
       "\\end{tabular}\n"
      ],
      "text/markdown": [
       "\n",
       "A grouped_df: 1325580 × 2\n",
       "\n",
       "| Id &lt;dbl&gt; | METs &lt;dbl&gt; |\n",
       "|---|---|\n",
       "| 1503960366 | 10 |\n",
       "| 1503960366 | 10 |\n",
       "| 1503960366 | 10 |\n",
       "| 1503960366 | 10 |\n",
       "| 1503960366 | 10 |\n",
       "| 1503960366 | 12 |\n",
       "| 1503960366 | 12 |\n",
       "| 1503960366 | 12 |\n",
       "| 1503960366 | 12 |\n",
       "| 1503960366 | 12 |\n",
       "| 1503960366 | 12 |\n",
       "| 1503960366 | 12 |\n",
       "| 1503960366 | 10 |\n",
       "| 1503960366 | 10 |\n",
       "| 1503960366 | 12 |\n",
       "| 1503960366 | 10 |\n",
       "| 1503960366 | 12 |\n",
       "| 1503960366 | 10 |\n",
       "| 1503960366 | 10 |\n",
       "| 1503960366 | 10 |\n",
       "| 1503960366 | 12 |\n",
       "| 1503960366 | 12 |\n",
       "| 1503960366 | 12 |\n",
       "| 1503960366 | 12 |\n",
       "| 1503960366 | 12 |\n",
       "| 1503960366 | 26 |\n",
       "| 1503960366 | 12 |\n",
       "| 1503960366 | 12 |\n",
       "| 1503960366 | 12 |\n",
       "| 1503960366 | 32 |\n",
       "| ⋮ | ⋮ |\n",
       "| 8877689391 | 11 |\n",
       "| 8877689391 | 10 |\n",
       "| 8877689391 | 10 |\n",
       "| 8877689391 | 10 |\n",
       "| 8877689391 | 26 |\n",
       "| 8877689391 | 42 |\n",
       "| 8877689391 | 54 |\n",
       "| 8877689391 | 74 |\n",
       "| 8877689391 | 30 |\n",
       "| 8877689391 | 10 |\n",
       "| 8877689391 | 11 |\n",
       "| 8877689391 | 11 |\n",
       "| 8877689391 | 11 |\n",
       "| 8877689391 | 11 |\n",
       "| 8877689391 | 28 |\n",
       "| 8877689391 | 13 |\n",
       "| 8877689391 | 11 |\n",
       "| 8877689391 | 10 |\n",
       "| 8877689391 | 11 |\n",
       "| 8877689391 | 11 |\n",
       "| 8877689391 | 11 |\n",
       "| 8877689391 | 11 |\n",
       "| 8877689391 | 11 |\n",
       "| 8877689391 | 11 |\n",
       "| 8877689391 | 11 |\n",
       "| 8877689391 | 11 |\n",
       "| 8877689391 | 11 |\n",
       "| 8877689391 | 11 |\n",
       "| 8877689391 | 11 |\n",
       "| 8877689391 | 11 |\n",
       "\n"
      ],
      "text/plain": [
       "        Id         METs\n",
       "1       1503960366 10  \n",
       "2       1503960366 10  \n",
       "3       1503960366 10  \n",
       "4       1503960366 10  \n",
       "5       1503960366 10  \n",
       "6       1503960366 12  \n",
       "7       1503960366 12  \n",
       "8       1503960366 12  \n",
       "9       1503960366 12  \n",
       "10      1503960366 12  \n",
       "11      1503960366 12  \n",
       "12      1503960366 12  \n",
       "13      1503960366 10  \n",
       "14      1503960366 10  \n",
       "15      1503960366 12  \n",
       "16      1503960366 10  \n",
       "17      1503960366 12  \n",
       "18      1503960366 10  \n",
       "19      1503960366 10  \n",
       "20      1503960366 10  \n",
       "21      1503960366 12  \n",
       "22      1503960366 12  \n",
       "23      1503960366 12  \n",
       "24      1503960366 12  \n",
       "25      1503960366 12  \n",
       "26      1503960366 26  \n",
       "27      1503960366 12  \n",
       "28      1503960366 12  \n",
       "29      1503960366 12  \n",
       "30      1503960366 32  \n",
       "⋮       ⋮          ⋮   \n",
       "1325551 8877689391 11  \n",
       "1325552 8877689391 10  \n",
       "1325553 8877689391 10  \n",
       "1325554 8877689391 10  \n",
       "1325555 8877689391 26  \n",
       "1325556 8877689391 42  \n",
       "1325557 8877689391 54  \n",
       "1325558 8877689391 74  \n",
       "1325559 8877689391 30  \n",
       "1325560 8877689391 10  \n",
       "1325561 8877689391 11  \n",
       "1325562 8877689391 11  \n",
       "1325563 8877689391 11  \n",
       "1325564 8877689391 11  \n",
       "1325565 8877689391 28  \n",
       "1325566 8877689391 13  \n",
       "1325567 8877689391 11  \n",
       "1325568 8877689391 10  \n",
       "1325569 8877689391 11  \n",
       "1325570 8877689391 11  \n",
       "1325571 8877689391 11  \n",
       "1325572 8877689391 11  \n",
       "1325573 8877689391 11  \n",
       "1325574 8877689391 11  \n",
       "1325575 8877689391 11  \n",
       "1325576 8877689391 11  \n",
       "1325577 8877689391 11  \n",
       "1325578 8877689391 11  \n",
       "1325579 8877689391 11  \n",
       "1325580 8877689391 11  "
      ]
     },
     "metadata": {},
     "output_type": "display_data"
    }
   ],
   "source": [
    "#METs summarised based on group id\n",
    "minuteMET %>% group_by(Id)%>% summarize(METs)"
   ]
  },
  {
   "cell_type": "markdown",
   "id": "9911287b",
   "metadata": {
    "papermill": {
     "duration": 0.275528,
     "end_time": "2022-03-09T17:13:21.662696",
     "exception": false,
     "start_time": "2022-03-09T17:13:21.387168",
     "status": "completed"
    },
    "tags": []
   },
   "source": [
    "##Classifying the type of activity based on MET values\n",
    "Based on the value of METs we can classify the activity type as follows\n",
    "1. Sedentary -> METs<1.5\n",
    "2. Light Intensity -> METs>1.5 and METs <3.0\n",
    "3. Moderate Intensity -> METs>3.0 and METs<6.0\n",
    "4. Vigorous Intensity -> METs>6.0\n",
    "\n",
    "The activity type is classified with reference to [*this*](https://www.hsph.harvard.edu/nutritionsource/staying-active/#:~:text=METs,may%20use%208%2D9%20METs.) article"
   ]
  },
  {
   "cell_type": "code",
   "execution_count": 19,
   "id": "845cc916",
   "metadata": {
    "execution": {
     "iopub.execute_input": "2022-03-09T17:13:22.223070Z",
     "iopub.status.busy": "2022-03-09T17:13:22.221638Z",
     "iopub.status.idle": "2022-03-09T17:13:22.868009Z",
     "shell.execute_reply": "2022-03-09T17:13:22.866706Z"
    },
    "papermill": {
     "duration": 0.928019,
     "end_time": "2022-03-09T17:13:22.868150",
     "exception": false,
     "start_time": "2022-03-09T17:13:21.940131",
     "status": "completed"
    },
    "tags": []
   },
   "outputs": [
    {
     "data": {
      "text/html": [
       "<table class=\"dataframe\">\n",
       "<caption>A tibble: 6 × 4</caption>\n",
       "<thead>\n",
       "\t<tr><th scope=col>Id</th><th scope=col>ActivityMinute</th><th scope=col>METs</th><th scope=col>activity_type</th></tr>\n",
       "\t<tr><th scope=col>&lt;dbl&gt;</th><th scope=col>&lt;dttm&gt;</th><th scope=col>&lt;dbl&gt;</th><th scope=col>&lt;chr&gt;</th></tr>\n",
       "</thead>\n",
       "<tbody>\n",
       "\t<tr><td>1503960366</td><td>2016-04-12 00:00:00</td><td>10</td><td>Vigorous Intensity</td></tr>\n",
       "\t<tr><td>1503960366</td><td>2016-04-12 00:01:00</td><td>10</td><td>Vigorous Intensity</td></tr>\n",
       "\t<tr><td>1503960366</td><td>2016-04-12 00:02:00</td><td>10</td><td>Vigorous Intensity</td></tr>\n",
       "\t<tr><td>1503960366</td><td>2016-04-12 00:03:00</td><td>10</td><td>Vigorous Intensity</td></tr>\n",
       "\t<tr><td>1503960366</td><td>2016-04-12 00:04:00</td><td>10</td><td>Vigorous Intensity</td></tr>\n",
       "\t<tr><td>1503960366</td><td>2016-04-12 00:05:00</td><td>12</td><td>Vigorous Intensity</td></tr>\n",
       "</tbody>\n",
       "</table>\n"
      ],
      "text/latex": [
       "A tibble: 6 × 4\n",
       "\\begin{tabular}{llll}\n",
       " Id & ActivityMinute & METs & activity\\_type\\\\\n",
       " <dbl> & <dttm> & <dbl> & <chr>\\\\\n",
       "\\hline\n",
       "\t 1503960366 & 2016-04-12 00:00:00 & 10 & Vigorous Intensity\\\\\n",
       "\t 1503960366 & 2016-04-12 00:01:00 & 10 & Vigorous Intensity\\\\\n",
       "\t 1503960366 & 2016-04-12 00:02:00 & 10 & Vigorous Intensity\\\\\n",
       "\t 1503960366 & 2016-04-12 00:03:00 & 10 & Vigorous Intensity\\\\\n",
       "\t 1503960366 & 2016-04-12 00:04:00 & 10 & Vigorous Intensity\\\\\n",
       "\t 1503960366 & 2016-04-12 00:05:00 & 12 & Vigorous Intensity\\\\\n",
       "\\end{tabular}\n"
      ],
      "text/markdown": [
       "\n",
       "A tibble: 6 × 4\n",
       "\n",
       "| Id &lt;dbl&gt; | ActivityMinute &lt;dttm&gt; | METs &lt;dbl&gt; | activity_type &lt;chr&gt; |\n",
       "|---|---|---|---|\n",
       "| 1503960366 | 2016-04-12 00:00:00 | 10 | Vigorous Intensity |\n",
       "| 1503960366 | 2016-04-12 00:01:00 | 10 | Vigorous Intensity |\n",
       "| 1503960366 | 2016-04-12 00:02:00 | 10 | Vigorous Intensity |\n",
       "| 1503960366 | 2016-04-12 00:03:00 | 10 | Vigorous Intensity |\n",
       "| 1503960366 | 2016-04-12 00:04:00 | 10 | Vigorous Intensity |\n",
       "| 1503960366 | 2016-04-12 00:05:00 | 12 | Vigorous Intensity |\n",
       "\n"
      ],
      "text/plain": [
       "  Id         ActivityMinute      METs activity_type     \n",
       "1 1503960366 2016-04-12 00:00:00 10   Vigorous Intensity\n",
       "2 1503960366 2016-04-12 00:01:00 10   Vigorous Intensity\n",
       "3 1503960366 2016-04-12 00:02:00 10   Vigorous Intensity\n",
       "4 1503960366 2016-04-12 00:03:00 10   Vigorous Intensity\n",
       "5 1503960366 2016-04-12 00:04:00 10   Vigorous Intensity\n",
       "6 1503960366 2016-04-12 00:05:00 12   Vigorous Intensity"
      ]
     },
     "metadata": {},
     "output_type": "display_data"
    }
   ],
   "source": [
    "#categorising activity_type based on METs\n",
    "minuteMET$activity_type<-c(\" \")\n",
    "minuteMET$activity_type=case_when(minuteMET$METs<=1.5~'Sedentary', ((minuteMET$METs>1.5)&(minuteMET$METs<3.0))~'Light Intensity',((minuteMET$METs>3.0)&(minuteMET$METs)<6.0)~'moderate Intensity',TRUE ~'Vigorous Intensity')\n",
    "head(minuteMET)"
   ]
  },
  {
   "cell_type": "code",
   "execution_count": 20,
   "id": "50f96af1",
   "metadata": {
    "execution": {
     "iopub.execute_input": "2022-03-09T17:13:23.481342Z",
     "iopub.status.busy": "2022-03-09T17:13:23.479975Z",
     "iopub.status.idle": "2022-03-09T17:13:23.595185Z",
     "shell.execute_reply": "2022-03-09T17:13:23.593859Z"
    },
    "papermill": {
     "duration": 0.417578,
     "end_time": "2022-03-09T17:13:23.595324",
     "exception": false,
     "start_time": "2022-03-09T17:13:23.177746",
     "status": "completed"
    },
    "tags": []
   },
   "outputs": [
    {
     "data": {
      "text/html": [
       "<table class=\"dataframe\">\n",
       "<caption>A tibble: 2 × 2</caption>\n",
       "<thead>\n",
       "\t<tr><th scope=col>minuteMET$activity_type</th><th scope=col>num</th></tr>\n",
       "\t<tr><th scope=col>&lt;chr&gt;</th><th scope=col>&lt;int&gt;</th></tr>\n",
       "</thead>\n",
       "<tbody>\n",
       "\t<tr><td>Sedentary         </td><td>  1</td></tr>\n",
       "\t<tr><td>Vigorous Intensity</td><td>135</td></tr>\n",
       "</tbody>\n",
       "</table>\n"
      ],
      "text/latex": [
       "A tibble: 2 × 2\n",
       "\\begin{tabular}{ll}\n",
       " minuteMET\\$activity\\_type & num\\\\\n",
       " <chr> & <int>\\\\\n",
       "\\hline\n",
       "\t Sedentary          &   1\\\\\n",
       "\t Vigorous Intensity & 135\\\\\n",
       "\\end{tabular}\n"
      ],
      "text/markdown": [
       "\n",
       "A tibble: 2 × 2\n",
       "\n",
       "| minuteMET$activity_type &lt;chr&gt; | num &lt;int&gt; |\n",
       "|---|---|\n",
       "| Sedentary          |   1 |\n",
       "| Vigorous Intensity | 135 |\n",
       "\n"
      ],
      "text/plain": [
       "  minuteMET$activity_type num\n",
       "1 Sedentary                 1\n",
       "2 Vigorous Intensity      135"
      ]
     },
     "metadata": {},
     "output_type": "display_data"
    }
   ],
   "source": [
    "#finding the number of categories the data is divided into \n",
    "met_type<- minuteMET %>% group_by(minuteMET$activity_type) %>% summarise(num=n_distinct(METs))\n",
    "met_type"
   ]
  },
  {
   "cell_type": "markdown",
   "id": "ba0e7ae4",
   "metadata": {
    "papermill": {
     "duration": 0.280899,
     "end_time": "2022-03-09T17:13:24.161077",
     "exception": false,
     "start_time": "2022-03-09T17:13:23.880178",
     "status": "completed"
    },
    "tags": []
   },
   "source": [
    "The number of people doing vigorous intensity activity is very high. This leads to the assumption that the smart device is not calculating the METs properly and hence the minuteMET dataset will no longer be used for analysis."
   ]
  },
  {
   "cell_type": "code",
   "execution_count": 21,
   "id": "af60b9bf",
   "metadata": {
    "execution": {
     "iopub.execute_input": "2022-03-09T17:13:24.755048Z",
     "iopub.status.busy": "2022-03-09T17:13:24.753671Z",
     "iopub.status.idle": "2022-03-09T17:13:26.501971Z",
     "shell.execute_reply": "2022-03-09T17:13:26.500645Z"
    },
    "papermill": {
     "duration": 2.05778,
     "end_time": "2022-03-09T17:13:26.502121",
     "exception": false,
     "start_time": "2022-03-09T17:13:24.444341",
     "status": "completed"
    },
    "tags": []
   },
   "outputs": [
    {
     "data": {
      "text/plain": [
       " heartrate_value \n",
       " Min.   : 36.00  \n",
       " 1st Qu.: 63.00  \n",
       " Median : 73.00  \n",
       " Mean   : 77.33  \n",
       " 3rd Qu.: 88.00  \n",
       " Max.   :203.00  "
      ]
     },
     "metadata": {},
     "output_type": "display_data"
    }
   ],
   "source": [
    "#statistical summary of heartrate value\n",
    "heartrate %>% select(heartrate_value) %>% summary()"
   ]
  },
  {
   "cell_type": "markdown",
   "id": "cdef7ea5",
   "metadata": {
    "papermill": {
     "duration": 0.282625,
     "end_time": "2022-03-09T17:13:27.069684",
     "exception": false,
     "start_time": "2022-03-09T17:13:26.787059",
     "status": "completed"
    },
    "tags": []
   },
   "source": [
    "The average heartrate is 77.33 beats per minute(bpm). This fits in the normal range. For men the normal range is 50 to 80 bpm and 53 to 82 bpm for women."
   ]
  },
  {
   "cell_type": "code",
   "execution_count": 22,
   "id": "0b2123a0",
   "metadata": {
    "execution": {
     "iopub.execute_input": "2022-03-09T17:13:27.641468Z",
     "iopub.status.busy": "2022-03-09T17:13:27.639659Z",
     "iopub.status.idle": "2022-03-09T17:13:28.557366Z",
     "shell.execute_reply": "2022-03-09T17:13:28.555764Z"
    },
    "papermill": {
     "duration": 1.20579,
     "end_time": "2022-03-09T17:13:28.557513",
     "exception": false,
     "start_time": "2022-03-09T17:13:27.351723",
     "status": "completed"
    },
    "tags": []
   },
   "outputs": [
    {
     "data": {
      "text/html": [
       "<table class=\"dataframe\">\n",
       "<caption>A tibble: 6 × 2</caption>\n",
       "<thead>\n",
       "\t<tr><th scope=col>Id</th><th scope=col>avg_heartrate</th></tr>\n",
       "\t<tr><th scope=col>&lt;dbl&gt;</th><th scope=col>&lt;dbl&gt;</th></tr>\n",
       "</thead>\n",
       "<tbody>\n",
       "\t<tr><td>2022484408</td><td>80.23686</td></tr>\n",
       "\t<tr><td>2026352035</td><td>93.77631</td></tr>\n",
       "\t<tr><td>2347167796</td><td>76.72279</td></tr>\n",
       "\t<tr><td>4020332650</td><td>82.30058</td></tr>\n",
       "\t<tr><td>4388161847</td><td>66.13300</td></tr>\n",
       "\t<tr><td>4558609924</td><td>81.67395</td></tr>\n",
       "</tbody>\n",
       "</table>\n"
      ],
      "text/latex": [
       "A tibble: 6 × 2\n",
       "\\begin{tabular}{ll}\n",
       " Id & avg\\_heartrate\\\\\n",
       " <dbl> & <dbl>\\\\\n",
       "\\hline\n",
       "\t 2022484408 & 80.23686\\\\\n",
       "\t 2026352035 & 93.77631\\\\\n",
       "\t 2347167796 & 76.72279\\\\\n",
       "\t 4020332650 & 82.30058\\\\\n",
       "\t 4388161847 & 66.13300\\\\\n",
       "\t 4558609924 & 81.67395\\\\\n",
       "\\end{tabular}\n"
      ],
      "text/markdown": [
       "\n",
       "A tibble: 6 × 2\n",
       "\n",
       "| Id &lt;dbl&gt; | avg_heartrate &lt;dbl&gt; |\n",
       "|---|---|\n",
       "| 2022484408 | 80.23686 |\n",
       "| 2026352035 | 93.77631 |\n",
       "| 2347167796 | 76.72279 |\n",
       "| 4020332650 | 82.30058 |\n",
       "| 4388161847 | 66.13300 |\n",
       "| 4558609924 | 81.67395 |\n",
       "\n"
      ],
      "text/plain": [
       "  Id         avg_heartrate\n",
       "1 2022484408 80.23686     \n",
       "2 2026352035 93.77631     \n",
       "3 2347167796 76.72279     \n",
       "4 4020332650 82.30058     \n",
       "5 4388161847 66.13300     \n",
       "6 4558609924 81.67395     "
      ]
     },
     "metadata": {},
     "output_type": "display_data"
    }
   ],
   "source": [
    "#summary of mean heartrate value grouped by Id\n",
    "heartrate_analysed<- heartrate %>% group_by(Id) %>% summarise(avg_heartrate=mean(heartrate_value))\n",
    "head(heartrate_analysed)"
   ]
  },
  {
   "cell_type": "code",
   "execution_count": 23,
   "id": "584885f0",
   "metadata": {
    "execution": {
     "iopub.execute_input": "2022-03-09T17:13:29.150701Z",
     "iopub.status.busy": "2022-03-09T17:13:29.149243Z",
     "iopub.status.idle": "2022-03-09T17:13:29.288429Z",
     "shell.execute_reply": "2022-03-09T17:13:29.287032Z"
    },
    "papermill": {
     "duration": 0.431732,
     "end_time": "2022-03-09T17:13:29.288606",
     "exception": false,
     "start_time": "2022-03-09T17:13:28.856874",
     "status": "completed"
    },
    "tags": []
   },
   "outputs": [
    {
     "data": {
      "text/plain": [
       " TotalIntensity      Calories        StepTotal      \n",
       " Min.   :  0.00   Min.   : 42.00   Min.   :    0.0  \n",
       " 1st Qu.:  0.00   1st Qu.: 63.00   1st Qu.:    0.0  \n",
       " Median :  3.00   Median : 83.00   Median :   40.0  \n",
       " Mean   : 12.04   Mean   : 97.39   Mean   :  320.2  \n",
       " 3rd Qu.: 16.00   3rd Qu.:108.00   3rd Qu.:  357.0  \n",
       " Max.   :180.00   Max.   :948.00   Max.   :10554.0  "
      ]
     },
     "metadata": {},
     "output_type": "display_data"
    }
   ],
   "source": [
    "#statistical summary about TotalIntensity,Calories and StepTotal\n",
    "hour_activity_merged %>% select(TotalIntensity,Calories,StepTotal) %>% summary()"
   ]
  },
  {
   "cell_type": "code",
   "execution_count": 24,
   "id": "7209d4c3",
   "metadata": {
    "execution": {
     "iopub.execute_input": "2022-03-09T17:13:29.905956Z",
     "iopub.status.busy": "2022-03-09T17:13:29.904315Z",
     "iopub.status.idle": "2022-03-09T17:13:29.973519Z",
     "shell.execute_reply": "2022-03-09T17:13:29.972087Z"
    },
    "papermill": {
     "duration": 0.394701,
     "end_time": "2022-03-09T17:13:29.973679",
     "exception": false,
     "start_time": "2022-03-09T17:13:29.578978",
     "status": "completed"
    },
    "tags": []
   },
   "outputs": [
    {
     "data": {
      "text/html": [
       "<table class=\"dataframe\">\n",
       "<caption>A tibble: 33 × 4</caption>\n",
       "<thead>\n",
       "\t<tr><th scope=col>Id</th><th scope=col>avg_intensity</th><th scope=col>avg_steps</th><th scope=col>avg_calr</th></tr>\n",
       "\t<tr><th scope=col>&lt;dbl&gt;</th><th scope=col>&lt;dbl&gt;</th><th scope=col>&lt;dbl&gt;</th><th scope=col>&lt;dbl&gt;</th></tr>\n",
       "</thead>\n",
       "<tbody>\n",
       "\t<tr><td>1503960366</td><td>16.170153</td><td>522.37936</td><td> 78.50349</td></tr>\n",
       "\t<tr><td>1624580081</td><td> 8.039402</td><td>241.50815</td><td> 62.47283</td></tr>\n",
       "\t<tr><td>1644430081</td><td>10.519774</td><td>307.80650</td><td>118.82062</td></tr>\n",
       "\t<tr><td>1844505072</td><td> 5.021888</td><td>109.35978</td><td> 66.59508</td></tr>\n",
       "\t<tr><td>1927972279</td><td> 1.857337</td><td> 38.58696</td><td> 91.50408</td></tr>\n",
       "\t<tr><td>2022484408</td><td>17.031250</td><td>477.86957</td><td>105.47962</td></tr>\n",
       "\t<tr><td>2026352035</td><td>10.812500</td><td>233.78804</td><td> 64.91168</td></tr>\n",
       "\t<tr><td>2320127002</td><td> 8.742857</td><td>198.68707</td><td> 72.55510</td></tr>\n",
       "\t<tr><td>2347167796</td><td>14.521739</td><td>413.85749</td><td> 88.71739</td></tr>\n",
       "\t<tr><td>2873212765</td><td>15.101902</td><td>318.11141</td><td> 80.24321</td></tr>\n",
       "\t<tr><td>3372868164</td><td>15.379237</td><td>290.37500</td><td> 81.75636</td></tr>\n",
       "\t<tr><td>3977333714</td><td>15.228448</td><td>471.61494</td><td> 65.08908</td></tr>\n",
       "\t<tr><td>4020332650</td><td> 4.357923</td><td> 93.44126</td><td>101.00137</td></tr>\n",
       "\t<tr><td>4057192912</td><td> 4.897727</td><td>173.92045</td><td> 89.19318</td></tr>\n",
       "\t<tr><td>4319703577</td><td>11.310773</td><td>289.31492</td><td> 85.50276</td></tr>\n",
       "\t<tr><td>4388161847</td><td>14.311565</td><td>435.05442</td><td>128.11837</td></tr>\n",
       "\t<tr><td>4445114986</td><td> 9.793197</td><td>202.10612</td><td> 92.13741</td></tr>\n",
       "\t<tr><td>4558609924</td><td>14.449728</td><td>323.24592</td><td> 85.66033</td></tr>\n",
       "\t<tr><td>4702921684</td><td>12.931601</td><td>363.28181</td><td>125.70588</td></tr>\n",
       "\t<tr><td>5553957443</td><td>12.843836</td><td>365.62466</td><td> 79.63562</td></tr>\n",
       "\t<tr><td>5577150313</td><td>19.895480</td><td>351.01554</td><td>142.39548</td></tr>\n",
       "\t<tr><td>6117666160</td><td>12.540909</td><td>281.32273</td><td> 91.75455</td></tr>\n",
       "\t<tr><td>6290855005</td><td>10.600000</td><td>246.13233</td><td>113.34887</td></tr>\n",
       "\t<tr><td>6775888955</td><td> 4.373770</td><td>107.16557</td><td> 91.06721</td></tr>\n",
       "\t<tr><td>6962181067</td><td>14.875683</td><td>414.78279</td><td> 83.96311</td></tr>\n",
       "\t<tr><td>7007744171</td><td>17.580699</td><td>489.86522</td><td>110.03161</td></tr>\n",
       "\t<tr><td>7086361926</td><td>13.563438</td><td>392.22783</td><td>108.24147</td></tr>\n",
       "\t<tr><td>8053475328</td><td>17.949660</td><td>622.39864</td><td>124.23129</td></tr>\n",
       "\t<tr><td>8253242879</td><td> 9.106729</td><td>285.00696</td><td> 78.45012</td></tr>\n",
       "\t<tr><td>8378563200</td><td>14.858503</td><td>366.94558</td><td>144.79864</td></tr>\n",
       "\t<tr><td>8583815059</td><td> 9.130919</td><td>245.40390</td><td>110.58774</td></tr>\n",
       "\t<tr><td>8792009665</td><td> 4.434524</td><td> 79.98512</td><td> 84.43452</td></tr>\n",
       "\t<tr><td>8877689391</td><td>19.081633</td><td>674.31701</td><td>143.87211</td></tr>\n",
       "</tbody>\n",
       "</table>\n"
      ],
      "text/latex": [
       "A tibble: 33 × 4\n",
       "\\begin{tabular}{llll}\n",
       " Id & avg\\_intensity & avg\\_steps & avg\\_calr\\\\\n",
       " <dbl> & <dbl> & <dbl> & <dbl>\\\\\n",
       "\\hline\n",
       "\t 1503960366 & 16.170153 & 522.37936 &  78.50349\\\\\n",
       "\t 1624580081 &  8.039402 & 241.50815 &  62.47283\\\\\n",
       "\t 1644430081 & 10.519774 & 307.80650 & 118.82062\\\\\n",
       "\t 1844505072 &  5.021888 & 109.35978 &  66.59508\\\\\n",
       "\t 1927972279 &  1.857337 &  38.58696 &  91.50408\\\\\n",
       "\t 2022484408 & 17.031250 & 477.86957 & 105.47962\\\\\n",
       "\t 2026352035 & 10.812500 & 233.78804 &  64.91168\\\\\n",
       "\t 2320127002 &  8.742857 & 198.68707 &  72.55510\\\\\n",
       "\t 2347167796 & 14.521739 & 413.85749 &  88.71739\\\\\n",
       "\t 2873212765 & 15.101902 & 318.11141 &  80.24321\\\\\n",
       "\t 3372868164 & 15.379237 & 290.37500 &  81.75636\\\\\n",
       "\t 3977333714 & 15.228448 & 471.61494 &  65.08908\\\\\n",
       "\t 4020332650 &  4.357923 &  93.44126 & 101.00137\\\\\n",
       "\t 4057192912 &  4.897727 & 173.92045 &  89.19318\\\\\n",
       "\t 4319703577 & 11.310773 & 289.31492 &  85.50276\\\\\n",
       "\t 4388161847 & 14.311565 & 435.05442 & 128.11837\\\\\n",
       "\t 4445114986 &  9.793197 & 202.10612 &  92.13741\\\\\n",
       "\t 4558609924 & 14.449728 & 323.24592 &  85.66033\\\\\n",
       "\t 4702921684 & 12.931601 & 363.28181 & 125.70588\\\\\n",
       "\t 5553957443 & 12.843836 & 365.62466 &  79.63562\\\\\n",
       "\t 5577150313 & 19.895480 & 351.01554 & 142.39548\\\\\n",
       "\t 6117666160 & 12.540909 & 281.32273 &  91.75455\\\\\n",
       "\t 6290855005 & 10.600000 & 246.13233 & 113.34887\\\\\n",
       "\t 6775888955 &  4.373770 & 107.16557 &  91.06721\\\\\n",
       "\t 6962181067 & 14.875683 & 414.78279 &  83.96311\\\\\n",
       "\t 7007744171 & 17.580699 & 489.86522 & 110.03161\\\\\n",
       "\t 7086361926 & 13.563438 & 392.22783 & 108.24147\\\\\n",
       "\t 8053475328 & 17.949660 & 622.39864 & 124.23129\\\\\n",
       "\t 8253242879 &  9.106729 & 285.00696 &  78.45012\\\\\n",
       "\t 8378563200 & 14.858503 & 366.94558 & 144.79864\\\\\n",
       "\t 8583815059 &  9.130919 & 245.40390 & 110.58774\\\\\n",
       "\t 8792009665 &  4.434524 &  79.98512 &  84.43452\\\\\n",
       "\t 8877689391 & 19.081633 & 674.31701 & 143.87211\\\\\n",
       "\\end{tabular}\n"
      ],
      "text/markdown": [
       "\n",
       "A tibble: 33 × 4\n",
       "\n",
       "| Id &lt;dbl&gt; | avg_intensity &lt;dbl&gt; | avg_steps &lt;dbl&gt; | avg_calr &lt;dbl&gt; |\n",
       "|---|---|---|---|\n",
       "| 1503960366 | 16.170153 | 522.37936 |  78.50349 |\n",
       "| 1624580081 |  8.039402 | 241.50815 |  62.47283 |\n",
       "| 1644430081 | 10.519774 | 307.80650 | 118.82062 |\n",
       "| 1844505072 |  5.021888 | 109.35978 |  66.59508 |\n",
       "| 1927972279 |  1.857337 |  38.58696 |  91.50408 |\n",
       "| 2022484408 | 17.031250 | 477.86957 | 105.47962 |\n",
       "| 2026352035 | 10.812500 | 233.78804 |  64.91168 |\n",
       "| 2320127002 |  8.742857 | 198.68707 |  72.55510 |\n",
       "| 2347167796 | 14.521739 | 413.85749 |  88.71739 |\n",
       "| 2873212765 | 15.101902 | 318.11141 |  80.24321 |\n",
       "| 3372868164 | 15.379237 | 290.37500 |  81.75636 |\n",
       "| 3977333714 | 15.228448 | 471.61494 |  65.08908 |\n",
       "| 4020332650 |  4.357923 |  93.44126 | 101.00137 |\n",
       "| 4057192912 |  4.897727 | 173.92045 |  89.19318 |\n",
       "| 4319703577 | 11.310773 | 289.31492 |  85.50276 |\n",
       "| 4388161847 | 14.311565 | 435.05442 | 128.11837 |\n",
       "| 4445114986 |  9.793197 | 202.10612 |  92.13741 |\n",
       "| 4558609924 | 14.449728 | 323.24592 |  85.66033 |\n",
       "| 4702921684 | 12.931601 | 363.28181 | 125.70588 |\n",
       "| 5553957443 | 12.843836 | 365.62466 |  79.63562 |\n",
       "| 5577150313 | 19.895480 | 351.01554 | 142.39548 |\n",
       "| 6117666160 | 12.540909 | 281.32273 |  91.75455 |\n",
       "| 6290855005 | 10.600000 | 246.13233 | 113.34887 |\n",
       "| 6775888955 |  4.373770 | 107.16557 |  91.06721 |\n",
       "| 6962181067 | 14.875683 | 414.78279 |  83.96311 |\n",
       "| 7007744171 | 17.580699 | 489.86522 | 110.03161 |\n",
       "| 7086361926 | 13.563438 | 392.22783 | 108.24147 |\n",
       "| 8053475328 | 17.949660 | 622.39864 | 124.23129 |\n",
       "| 8253242879 |  9.106729 | 285.00696 |  78.45012 |\n",
       "| 8378563200 | 14.858503 | 366.94558 | 144.79864 |\n",
       "| 8583815059 |  9.130919 | 245.40390 | 110.58774 |\n",
       "| 8792009665 |  4.434524 |  79.98512 |  84.43452 |\n",
       "| 8877689391 | 19.081633 | 674.31701 | 143.87211 |\n",
       "\n"
      ],
      "text/plain": [
       "   Id         avg_intensity avg_steps avg_calr \n",
       "1  1503960366 16.170153     522.37936  78.50349\n",
       "2  1624580081  8.039402     241.50815  62.47283\n",
       "3  1644430081 10.519774     307.80650 118.82062\n",
       "4  1844505072  5.021888     109.35978  66.59508\n",
       "5  1927972279  1.857337      38.58696  91.50408\n",
       "6  2022484408 17.031250     477.86957 105.47962\n",
       "7  2026352035 10.812500     233.78804  64.91168\n",
       "8  2320127002  8.742857     198.68707  72.55510\n",
       "9  2347167796 14.521739     413.85749  88.71739\n",
       "10 2873212765 15.101902     318.11141  80.24321\n",
       "11 3372868164 15.379237     290.37500  81.75636\n",
       "12 3977333714 15.228448     471.61494  65.08908\n",
       "13 4020332650  4.357923      93.44126 101.00137\n",
       "14 4057192912  4.897727     173.92045  89.19318\n",
       "15 4319703577 11.310773     289.31492  85.50276\n",
       "16 4388161847 14.311565     435.05442 128.11837\n",
       "17 4445114986  9.793197     202.10612  92.13741\n",
       "18 4558609924 14.449728     323.24592  85.66033\n",
       "19 4702921684 12.931601     363.28181 125.70588\n",
       "20 5553957443 12.843836     365.62466  79.63562\n",
       "21 5577150313 19.895480     351.01554 142.39548\n",
       "22 6117666160 12.540909     281.32273  91.75455\n",
       "23 6290855005 10.600000     246.13233 113.34887\n",
       "24 6775888955  4.373770     107.16557  91.06721\n",
       "25 6962181067 14.875683     414.78279  83.96311\n",
       "26 7007744171 17.580699     489.86522 110.03161\n",
       "27 7086361926 13.563438     392.22783 108.24147\n",
       "28 8053475328 17.949660     622.39864 124.23129\n",
       "29 8253242879  9.106729     285.00696  78.45012\n",
       "30 8378563200 14.858503     366.94558 144.79864\n",
       "31 8583815059  9.130919     245.40390 110.58774\n",
       "32 8792009665  4.434524      79.98512  84.43452\n",
       "33 8877689391 19.081633     674.31701 143.87211"
      ]
     },
     "metadata": {},
     "output_type": "display_data"
    }
   ],
   "source": [
    "hour_activity_merged %>% group_by(Id) %>% summarize(avg_intensity=mean(TotalIntensity),avg_steps=mean(StepTotal),avg_calr=mean(Calories))"
   ]
  },
  {
   "cell_type": "code",
   "execution_count": 25,
   "id": "2dc0950c",
   "metadata": {
    "execution": {
     "iopub.execute_input": "2022-03-09T17:13:30.567870Z",
     "iopub.status.busy": "2022-03-09T17:13:30.566326Z",
     "iopub.status.idle": "2022-03-09T17:13:30.803637Z",
     "shell.execute_reply": "2022-03-09T17:13:30.802000Z"
    },
    "papermill": {
     "duration": 0.537273,
     "end_time": "2022-03-09T17:13:30.803796",
     "exception": false,
     "start_time": "2022-03-09T17:13:30.266523",
     "status": "completed"
    },
    "tags": []
   },
   "outputs": [
    {
     "data": {
      "text/html": [
       "<table class=\"dataframe\">\n",
       "<caption>A data.frame: 6 × 9</caption>\n",
       "<thead>\n",
       "\t<tr><th></th><th scope=col>Id</th><th scope=col>ActivityHour</th><th scope=col>TotalIntensity</th><th scope=col>AverageIntensity</th><th scope=col>Calories</th><th scope=col>StepTotal</th><th scope=col>time</th><th scope=col>date</th><th scope=col>day</th></tr>\n",
       "\t<tr><th></th><th scope=col>&lt;dbl&gt;</th><th scope=col>&lt;dttm&gt;</th><th scope=col>&lt;dbl&gt;</th><th scope=col>&lt;dbl&gt;</th><th scope=col>&lt;dbl&gt;</th><th scope=col>&lt;dbl&gt;</th><th scope=col>&lt;chr&gt;</th><th scope=col>&lt;chr&gt;</th><th scope=col>&lt;chr&gt;</th></tr>\n",
       "</thead>\n",
       "<tbody>\n",
       "\t<tr><th scope=row>1</th><td>1503960366</td><td>2016-04-12 01:00:00</td><td> 8</td><td>0.133333</td><td>61</td><td>160</td><td>01:00:00</td><td>16/04/12</td><td>Tuesday</td></tr>\n",
       "\t<tr><th scope=row>2</th><td>1503960366</td><td>2016-04-12 13:00:00</td><td> 6</td><td>0.100000</td><td>66</td><td>221</td><td>13:00:00</td><td>16/04/12</td><td>Tuesday</td></tr>\n",
       "\t<tr><th scope=row>3</th><td>1503960366</td><td>2016-04-12 10:00:00</td><td>29</td><td>0.483333</td><td>99</td><td>676</td><td>10:00:00</td><td>16/04/12</td><td>Tuesday</td></tr>\n",
       "\t<tr><th scope=row>4</th><td>1503960366</td><td>2016-04-12 22:00:00</td><td> 9</td><td>0.150000</td><td>65</td><td> 89</td><td>22:00:00</td><td>16/04/12</td><td>Tuesday</td></tr>\n",
       "\t<tr><th scope=row>5</th><td>1503960366</td><td>2016-04-12 11:00:00</td><td>12</td><td>0.200000</td><td>76</td><td>360</td><td>11:00:00</td><td>16/04/12</td><td>Tuesday</td></tr>\n",
       "\t<tr><th scope=row>6</th><td>1503960366</td><td>2016-04-12 23:00:00</td><td>21</td><td>0.350000</td><td>81</td><td>338</td><td>23:00:00</td><td>16/04/12</td><td>Tuesday</td></tr>\n",
       "</tbody>\n",
       "</table>\n"
      ],
      "text/latex": [
       "A data.frame: 6 × 9\n",
       "\\begin{tabular}{r|lllllllll}\n",
       "  & Id & ActivityHour & TotalIntensity & AverageIntensity & Calories & StepTotal & time & date & day\\\\\n",
       "  & <dbl> & <dttm> & <dbl> & <dbl> & <dbl> & <dbl> & <chr> & <chr> & <chr>\\\\\n",
       "\\hline\n",
       "\t1 & 1503960366 & 2016-04-12 01:00:00 &  8 & 0.133333 & 61 & 160 & 01:00:00 & 16/04/12 & Tuesday\\\\\n",
       "\t2 & 1503960366 & 2016-04-12 13:00:00 &  6 & 0.100000 & 66 & 221 & 13:00:00 & 16/04/12 & Tuesday\\\\\n",
       "\t3 & 1503960366 & 2016-04-12 10:00:00 & 29 & 0.483333 & 99 & 676 & 10:00:00 & 16/04/12 & Tuesday\\\\\n",
       "\t4 & 1503960366 & 2016-04-12 22:00:00 &  9 & 0.150000 & 65 &  89 & 22:00:00 & 16/04/12 & Tuesday\\\\\n",
       "\t5 & 1503960366 & 2016-04-12 11:00:00 & 12 & 0.200000 & 76 & 360 & 11:00:00 & 16/04/12 & Tuesday\\\\\n",
       "\t6 & 1503960366 & 2016-04-12 23:00:00 & 21 & 0.350000 & 81 & 338 & 23:00:00 & 16/04/12 & Tuesday\\\\\n",
       "\\end{tabular}\n"
      ],
      "text/markdown": [
       "\n",
       "A data.frame: 6 × 9\n",
       "\n",
       "| <!--/--> | Id &lt;dbl&gt; | ActivityHour &lt;dttm&gt; | TotalIntensity &lt;dbl&gt; | AverageIntensity &lt;dbl&gt; | Calories &lt;dbl&gt; | StepTotal &lt;dbl&gt; | time &lt;chr&gt; | date &lt;chr&gt; | day &lt;chr&gt; |\n",
       "|---|---|---|---|---|---|---|---|---|---|\n",
       "| 1 | 1503960366 | 2016-04-12 01:00:00 |  8 | 0.133333 | 61 | 160 | 01:00:00 | 16/04/12 | Tuesday |\n",
       "| 2 | 1503960366 | 2016-04-12 13:00:00 |  6 | 0.100000 | 66 | 221 | 13:00:00 | 16/04/12 | Tuesday |\n",
       "| 3 | 1503960366 | 2016-04-12 10:00:00 | 29 | 0.483333 | 99 | 676 | 10:00:00 | 16/04/12 | Tuesday |\n",
       "| 4 | 1503960366 | 2016-04-12 22:00:00 |  9 | 0.150000 | 65 |  89 | 22:00:00 | 16/04/12 | Tuesday |\n",
       "| 5 | 1503960366 | 2016-04-12 11:00:00 | 12 | 0.200000 | 76 | 360 | 11:00:00 | 16/04/12 | Tuesday |\n",
       "| 6 | 1503960366 | 2016-04-12 23:00:00 | 21 | 0.350000 | 81 | 338 | 23:00:00 | 16/04/12 | Tuesday |\n",
       "\n"
      ],
      "text/plain": [
       "  Id         ActivityHour        TotalIntensity AverageIntensity Calories\n",
       "1 1503960366 2016-04-12 01:00:00  8             0.133333         61      \n",
       "2 1503960366 2016-04-12 13:00:00  6             0.100000         66      \n",
       "3 1503960366 2016-04-12 10:00:00 29             0.483333         99      \n",
       "4 1503960366 2016-04-12 22:00:00  9             0.150000         65      \n",
       "5 1503960366 2016-04-12 11:00:00 12             0.200000         76      \n",
       "6 1503960366 2016-04-12 23:00:00 21             0.350000         81      \n",
       "  StepTotal time     date     day    \n",
       "1 160       01:00:00 16/04/12 Tuesday\n",
       "2 221       13:00:00 16/04/12 Tuesday\n",
       "3 676       10:00:00 16/04/12 Tuesday\n",
       "4  89       22:00:00 16/04/12 Tuesday\n",
       "5 360       11:00:00 16/04/12 Tuesday\n",
       "6 338       23:00:00 16/04/12 Tuesday"
      ]
     },
     "metadata": {},
     "output_type": "display_data"
    }
   ],
   "source": [
    "#Separating ActivityHour into Date and Time columns\n",
    "hour_activity_merged$time=c(\" \")\n",
    "hour_activity_merged$time<-format(hour_activity_merged$ActivityHour,format=\"%H:%M:%S\")\n",
    "hour_activity_merged$date=c(\" \")\n",
    "hour_activity_merged$date<-format(hour_activity_merged$ActivityHour,format=\"%y/%m/%d\")\n",
    "\n",
    "#Finding the corresponding day with respect to the Date\n",
    "hour_activity_merged$day=c(\" \")\n",
    "hour_activity_merged$day<-weekdays(as.Date(hour_activity_merged$date))\n",
    "head(hour_activity_merged)"
   ]
  },
  {
   "cell_type": "code",
   "execution_count": 26,
   "id": "e5eb9607",
   "metadata": {
    "execution": {
     "iopub.execute_input": "2022-03-09T17:13:31.406469Z",
     "iopub.status.busy": "2022-03-09T17:13:31.404842Z",
     "iopub.status.idle": "2022-03-09T17:13:31.674424Z",
     "shell.execute_reply": "2022-03-09T17:13:31.673829Z"
    },
    "papermill": {
     "duration": 0.575063,
     "end_time": "2022-03-09T17:13:31.674556",
     "exception": false,
     "start_time": "2022-03-09T17:13:31.099493",
     "status": "completed"
    },
    "tags": []
   },
   "outputs": [
    {
     "data": {
      "image/png": "[encoded data removed]"
     },
     "metadata": {
      "image/png": {
       "height": 420,
       "width": 420
      }
     },
     "output_type": "display_data"
    }
   ],
   "source": [
    "#plot showing the relationship between the time of the day and mean intensity\n",
    "intensity_hour <- hour_activity_merged %>%\n",
    "  group_by(time) %>%\n",
    "  drop_na() %>%\n",
    "  summarise(mean_total_int = mean(TotalIntensity))\n",
    "ggplot(data=intensity_hour)+geom_bar(stat=\"identity\",mapping = aes(x=time,y=mean_total_int),fill='turquoise2')+theme(axis.text.x=element_text(angle=90))+labs(title=\"Time of the day vs mean Intensity\",x=\"Time of the day\",y=\"Mean Total Intensity\")"
   ]
  },
  {
   "cell_type": "markdown",
   "id": "7c449a83",
   "metadata": {
    "papermill": {
     "duration": 0.299699,
     "end_time": "2022-03-09T17:13:32.276693",
     "exception": false,
     "start_time": "2022-03-09T17:13:31.976994",
     "status": "completed"
    },
    "tags": []
   },
   "source": [
    "This plot shows that most people are active between 5:00pm-7:00pm in the evening. I suppose people prefer working out after coming back from work.**I suggest that we can remind people to complete their workouts in this time range using the Bellabeat app. **"
   ]
  },
  {
   "cell_type": "code",
   "execution_count": 27,
   "id": "31b64a7c",
   "metadata": {
    "execution": {
     "iopub.execute_input": "2022-03-09T17:13:32.879169Z",
     "iopub.status.busy": "2022-03-09T17:13:32.877549Z",
     "iopub.status.idle": "2022-03-09T17:13:33.121288Z",
     "shell.execute_reply": "2022-03-09T17:13:33.120661Z"
    },
    "papermill": {
     "duration": 0.545976,
     "end_time": "2022-03-09T17:13:33.121434",
     "exception": false,
     "start_time": "2022-03-09T17:13:32.575458",
     "status": "completed"
    },
    "tags": []
   },
   "outputs": [
    {
     "data": {
      "text/html": [
       "<table class=\"dataframe\">\n",
       "<caption>A tibble: 7 × 2</caption>\n",
       "<thead>\n",
       "\t<tr><th scope=col>day</th><th scope=col>mean_total_int</th></tr>\n",
       "\t<tr><th scope=col>&lt;chr&gt;</th><th scope=col>&lt;dbl&gt;</th></tr>\n",
       "</thead>\n",
       "<tbody>\n",
       "\t<tr><td>Friday   </td><td>12.09309</td></tr>\n",
       "\t<tr><td>Monday   </td><td>12.11220</td></tr>\n",
       "\t<tr><td>Saturday </td><td>12.90086</td></tr>\n",
       "\t<tr><td>Sunday   </td><td>10.98377</td></tr>\n",
       "\t<tr><td>Thursday </td><td>11.92690</td></tr>\n",
       "\t<tr><td>Tuesday  </td><td>12.44278</td></tr>\n",
       "\t<tr><td>Wednesday</td><td>11.75867</td></tr>\n",
       "</tbody>\n",
       "</table>\n"
      ],
      "text/latex": [
       "A tibble: 7 × 2\n",
       "\\begin{tabular}{ll}\n",
       " day & mean\\_total\\_int\\\\\n",
       " <chr> & <dbl>\\\\\n",
       "\\hline\n",
       "\t Friday    & 12.09309\\\\\n",
       "\t Monday    & 12.11220\\\\\n",
       "\t Saturday  & 12.90086\\\\\n",
       "\t Sunday    & 10.98377\\\\\n",
       "\t Thursday  & 11.92690\\\\\n",
       "\t Tuesday   & 12.44278\\\\\n",
       "\t Wednesday & 11.75867\\\\\n",
       "\\end{tabular}\n"
      ],
      "text/markdown": [
       "\n",
       "A tibble: 7 × 2\n",
       "\n",
       "| day &lt;chr&gt; | mean_total_int &lt;dbl&gt; |\n",
       "|---|---|\n",
       "| Friday    | 12.09309 |\n",
       "| Monday    | 12.11220 |\n",
       "| Saturday  | 12.90086 |\n",
       "| Sunday    | 10.98377 |\n",
       "| Thursday  | 11.92690 |\n",
       "| Tuesday   | 12.44278 |\n",
       "| Wednesday | 11.75867 |\n",
       "\n"
      ],
      "text/plain": [
       "  day       mean_total_int\n",
       "1 Friday    12.09309      \n",
       "2 Monday    12.11220      \n",
       "3 Saturday  12.90086      \n",
       "4 Sunday    10.98377      \n",
       "5 Thursday  11.92690      \n",
       "6 Tuesday   12.44278      \n",
       "7 Wednesday 11.75867      "
      ]
     },
     "metadata": {},
     "output_type": "display_data"
    },
    {
     "data": {
      "image/png": "[encoded data removed]"
     },
     "metadata": {
      "image/png": {
       "height": 420,
       "width": 420
      }
     },
     "output_type": "display_data"
    }
   ],
   "source": [
    "#plot showing the relationship between day of the week and mean intensity\n",
    "day_intensity<-hour_activity_merged %>% group_by(day)%>% drop_na()%>% summarise(mean_total_int=mean(TotalIntensity))\n",
    "day_intensity\n",
    "ggplot(data=day_intensity)+geom_bar(stat=\"identity\",mapping= aes(x=day,y=mean_total_int),fill='turquoise2')+labs(title=\"Day of the week vs mean Intensity\",x=\"Day of the week\",y=\"Mean Total Intensity\")"
   ]
  },
  {
   "cell_type": "markdown",
   "id": "9624da08",
   "metadata": {
    "papermill": {
     "duration": 0.303731,
     "end_time": "2022-03-09T17:13:33.727718",
     "exception": false,
     "start_time": "2022-03-09T17:13:33.423987",
     "status": "completed"
    },
    "tags": []
   },
   "source": [
    "In all the days of the week the intensity of the activity is nearly same. Comparatively on sunday the intensity is less."
   ]
  },
  {
   "cell_type": "code",
   "execution_count": 28,
   "id": "adf37097",
   "metadata": {
    "execution": {
     "iopub.execute_input": "2022-03-09T17:13:34.338550Z",
     "iopub.status.busy": "2022-03-09T17:13:34.337041Z",
     "iopub.status.idle": "2022-03-09T17:13:34.382006Z",
     "shell.execute_reply": "2022-03-09T17:13:34.380312Z"
    },
    "papermill": {
     "duration": 0.350065,
     "end_time": "2022-03-09T17:13:34.382147",
     "exception": false,
     "start_time": "2022-03-09T17:13:34.032082",
     "status": "completed"
    },
    "tags": []
   },
   "outputs": [
    {
     "data": {
      "text/html": [
       "<table class=\"dataframe\">\n",
       "<caption>A tibble: 33 × 4</caption>\n",
       "<thead>\n",
       "\t<tr><th scope=col>Id</th><th scope=col>mean_steps</th><th scope=col>mean_distance</th><th scope=col>mean_Calories</th></tr>\n",
       "\t<tr><th scope=col>&lt;dbl&gt;</th><th scope=col>&lt;dbl&gt;</th><th scope=col>&lt;dbl&gt;</th><th scope=col>&lt;dbl&gt;</th></tr>\n",
       "</thead>\n",
       "<tbody>\n",
       "\t<tr><td>1503960366</td><td>12116.742</td><td> 7.8096774</td><td>1816.419</td></tr>\n",
       "\t<tr><td>1624580081</td><td> 5743.903</td><td> 3.9148387</td><td>1483.355</td></tr>\n",
       "\t<tr><td>1644430081</td><td> 7282.967</td><td> 5.2953334</td><td>2811.300</td></tr>\n",
       "\t<tr><td>1844505072</td><td> 2580.065</td><td> 1.7061290</td><td>1573.484</td></tr>\n",
       "\t<tr><td>1927972279</td><td>  916.129</td><td> 0.6345161</td><td>2172.806</td></tr>\n",
       "\t<tr><td>2022484408</td><td>11370.645</td><td> 8.0841935</td><td>2509.968</td></tr>\n",
       "\t<tr><td>2026352035</td><td> 5566.871</td><td> 3.4548387</td><td>1540.645</td></tr>\n",
       "\t<tr><td>2320127002</td><td> 4716.871</td><td> 3.1877419</td><td>1724.161</td></tr>\n",
       "\t<tr><td>2347167796</td><td> 9519.667</td><td> 6.3555555</td><td>2043.444</td></tr>\n",
       "\t<tr><td>2873212765</td><td> 7555.774</td><td> 5.1016129</td><td>1916.968</td></tr>\n",
       "\t<tr><td>3372868164</td><td> 6861.650</td><td> 4.7070000</td><td>1933.100</td></tr>\n",
       "\t<tr><td>3977333714</td><td>10984.567</td><td> 7.5169999</td><td>1513.667</td></tr>\n",
       "\t<tr><td>4020332650</td><td> 2267.226</td><td> 1.6261290</td><td>2385.806</td></tr>\n",
       "\t<tr><td>4057192912</td><td> 3838.000</td><td> 2.8625000</td><td>1973.750</td></tr>\n",
       "\t<tr><td>4319703577</td><td> 7268.839</td><td> 4.8922580</td><td>2037.677</td></tr>\n",
       "\t<tr><td>4388161847</td><td>10813.935</td><td> 8.3932259</td><td>3093.871</td></tr>\n",
       "\t<tr><td>4445114986</td><td> 4796.548</td><td> 3.2458064</td><td>2186.194</td></tr>\n",
       "\t<tr><td>4558609924</td><td> 7685.129</td><td> 5.0806452</td><td>2033.258</td></tr>\n",
       "\t<tr><td>4702921684</td><td> 8572.065</td><td> 6.9551613</td><td>2965.548</td></tr>\n",
       "\t<tr><td>5553957443</td><td> 8612.581</td><td> 5.6396774</td><td>1875.677</td></tr>\n",
       "\t<tr><td>5577150313</td><td> 8304.433</td><td> 6.2133333</td><td>3359.633</td></tr>\n",
       "\t<tr><td>6117666160</td><td> 7046.714</td><td> 5.3421429</td><td>2261.143</td></tr>\n",
       "\t<tr><td>6290855005</td><td> 5649.552</td><td> 4.2724138</td><td>2599.621</td></tr>\n",
       "\t<tr><td>6775888955</td><td> 2519.692</td><td> 1.8134615</td><td>2131.769</td></tr>\n",
       "\t<tr><td>6962181067</td><td> 9794.806</td><td> 6.5858065</td><td>1982.032</td></tr>\n",
       "\t<tr><td>7007744171</td><td>11323.423</td><td> 8.0153846</td><td>2544.000</td></tr>\n",
       "\t<tr><td>7086361926</td><td> 9371.774</td><td> 6.3880645</td><td>2566.355</td></tr>\n",
       "\t<tr><td>8053475328</td><td>14763.290</td><td>11.4751612</td><td>2945.806</td></tr>\n",
       "\t<tr><td>8253242879</td><td> 6482.158</td><td> 4.6673685</td><td>1788.000</td></tr>\n",
       "\t<tr><td>8378563200</td><td> 8717.710</td><td> 6.9135485</td><td>3436.581</td></tr>\n",
       "\t<tr><td>8583815059</td><td> 7198.516</td><td> 5.6154838</td><td>2732.032</td></tr>\n",
       "\t<tr><td>8792009665</td><td> 1853.724</td><td> 1.1865517</td><td>1962.310</td></tr>\n",
       "\t<tr><td>8877689391</td><td>16040.032</td><td>13.2129031</td><td>3420.258</td></tr>\n",
       "</tbody>\n",
       "</table>\n"
      ],
      "text/latex": [
       "A tibble: 33 × 4\n",
       "\\begin{tabular}{llll}\n",
       " Id & mean\\_steps & mean\\_distance & mean\\_Calories\\\\\n",
       " <dbl> & <dbl> & <dbl> & <dbl>\\\\\n",
       "\\hline\n",
       "\t 1503960366 & 12116.742 &  7.8096774 & 1816.419\\\\\n",
       "\t 1624580081 &  5743.903 &  3.9148387 & 1483.355\\\\\n",
       "\t 1644430081 &  7282.967 &  5.2953334 & 2811.300\\\\\n",
       "\t 1844505072 &  2580.065 &  1.7061290 & 1573.484\\\\\n",
       "\t 1927972279 &   916.129 &  0.6345161 & 2172.806\\\\\n",
       "\t 2022484408 & 11370.645 &  8.0841935 & 2509.968\\\\\n",
       "\t 2026352035 &  5566.871 &  3.4548387 & 1540.645\\\\\n",
       "\t 2320127002 &  4716.871 &  3.1877419 & 1724.161\\\\\n",
       "\t 2347167796 &  9519.667 &  6.3555555 & 2043.444\\\\\n",
       "\t 2873212765 &  7555.774 &  5.1016129 & 1916.968\\\\\n",
       "\t 3372868164 &  6861.650 &  4.7070000 & 1933.100\\\\\n",
       "\t 3977333714 & 10984.567 &  7.5169999 & 1513.667\\\\\n",
       "\t 4020332650 &  2267.226 &  1.6261290 & 2385.806\\\\\n",
       "\t 4057192912 &  3838.000 &  2.8625000 & 1973.750\\\\\n",
       "\t 4319703577 &  7268.839 &  4.8922580 & 2037.677\\\\\n",
       "\t 4388161847 & 10813.935 &  8.3932259 & 3093.871\\\\\n",
       "\t 4445114986 &  4796.548 &  3.2458064 & 2186.194\\\\\n",
       "\t 4558609924 &  7685.129 &  5.0806452 & 2033.258\\\\\n",
       "\t 4702921684 &  8572.065 &  6.9551613 & 2965.548\\\\\n",
       "\t 5553957443 &  8612.581 &  5.6396774 & 1875.677\\\\\n",
       "\t 5577150313 &  8304.433 &  6.2133333 & 3359.633\\\\\n",
       "\t 6117666160 &  7046.714 &  5.3421429 & 2261.143\\\\\n",
       "\t 6290855005 &  5649.552 &  4.2724138 & 2599.621\\\\\n",
       "\t 6775888955 &  2519.692 &  1.8134615 & 2131.769\\\\\n",
       "\t 6962181067 &  9794.806 &  6.5858065 & 1982.032\\\\\n",
       "\t 7007744171 & 11323.423 &  8.0153846 & 2544.000\\\\\n",
       "\t 7086361926 &  9371.774 &  6.3880645 & 2566.355\\\\\n",
       "\t 8053475328 & 14763.290 & 11.4751612 & 2945.806\\\\\n",
       "\t 8253242879 &  6482.158 &  4.6673685 & 1788.000\\\\\n",
       "\t 8378563200 &  8717.710 &  6.9135485 & 3436.581\\\\\n",
       "\t 8583815059 &  7198.516 &  5.6154838 & 2732.032\\\\\n",
       "\t 8792009665 &  1853.724 &  1.1865517 & 1962.310\\\\\n",
       "\t 8877689391 & 16040.032 & 13.2129031 & 3420.258\\\\\n",
       "\\end{tabular}\n"
      ],
      "text/markdown": [
       "\n",
       "A tibble: 33 × 4\n",
       "\n",
       "| Id &lt;dbl&gt; | mean_steps &lt;dbl&gt; | mean_distance &lt;dbl&gt; | mean_Calories &lt;dbl&gt; |\n",
       "|---|---|---|---|\n",
       "| 1503960366 | 12116.742 |  7.8096774 | 1816.419 |\n",
       "| 1624580081 |  5743.903 |  3.9148387 | 1483.355 |\n",
       "| 1644430081 |  7282.967 |  5.2953334 | 2811.300 |\n",
       "| 1844505072 |  2580.065 |  1.7061290 | 1573.484 |\n",
       "| 1927972279 |   916.129 |  0.6345161 | 2172.806 |\n",
       "| 2022484408 | 11370.645 |  8.0841935 | 2509.968 |\n",
       "| 2026352035 |  5566.871 |  3.4548387 | 1540.645 |\n",
       "| 2320127002 |  4716.871 |  3.1877419 | 1724.161 |\n",
       "| 2347167796 |  9519.667 |  6.3555555 | 2043.444 |\n",
       "| 2873212765 |  7555.774 |  5.1016129 | 1916.968 |\n",
       "| 3372868164 |  6861.650 |  4.7070000 | 1933.100 |\n",
       "| 3977333714 | 10984.567 |  7.5169999 | 1513.667 |\n",
       "| 4020332650 |  2267.226 |  1.6261290 | 2385.806 |\n",
       "| 4057192912 |  3838.000 |  2.8625000 | 1973.750 |\n",
       "| 4319703577 |  7268.839 |  4.8922580 | 2037.677 |\n",
       "| 4388161847 | 10813.935 |  8.3932259 | 3093.871 |\n",
       "| 4445114986 |  4796.548 |  3.2458064 | 2186.194 |\n",
       "| 4558609924 |  7685.129 |  5.0806452 | 2033.258 |\n",
       "| 4702921684 |  8572.065 |  6.9551613 | 2965.548 |\n",
       "| 5553957443 |  8612.581 |  5.6396774 | 1875.677 |\n",
       "| 5577150313 |  8304.433 |  6.2133333 | 3359.633 |\n",
       "| 6117666160 |  7046.714 |  5.3421429 | 2261.143 |\n",
       "| 6290855005 |  5649.552 |  4.2724138 | 2599.621 |\n",
       "| 6775888955 |  2519.692 |  1.8134615 | 2131.769 |\n",
       "| 6962181067 |  9794.806 |  6.5858065 | 1982.032 |\n",
       "| 7007744171 | 11323.423 |  8.0153846 | 2544.000 |\n",
       "| 7086361926 |  9371.774 |  6.3880645 | 2566.355 |\n",
       "| 8053475328 | 14763.290 | 11.4751612 | 2945.806 |\n",
       "| 8253242879 |  6482.158 |  4.6673685 | 1788.000 |\n",
       "| 8378563200 |  8717.710 |  6.9135485 | 3436.581 |\n",
       "| 8583815059 |  7198.516 |  5.6154838 | 2732.032 |\n",
       "| 8792009665 |  1853.724 |  1.1865517 | 1962.310 |\n",
       "| 8877689391 | 16040.032 | 13.2129031 | 3420.258 |\n",
       "\n"
      ],
      "text/plain": [
       "   Id         mean_steps mean_distance mean_Calories\n",
       "1  1503960366 12116.742   7.8096774    1816.419     \n",
       "2  1624580081  5743.903   3.9148387    1483.355     \n",
       "3  1644430081  7282.967   5.2953334    2811.300     \n",
       "4  1844505072  2580.065   1.7061290    1573.484     \n",
       "5  1927972279   916.129   0.6345161    2172.806     \n",
       "6  2022484408 11370.645   8.0841935    2509.968     \n",
       "7  2026352035  5566.871   3.4548387    1540.645     \n",
       "8  2320127002  4716.871   3.1877419    1724.161     \n",
       "9  2347167796  9519.667   6.3555555    2043.444     \n",
       "10 2873212765  7555.774   5.1016129    1916.968     \n",
       "11 3372868164  6861.650   4.7070000    1933.100     \n",
       "12 3977333714 10984.567   7.5169999    1513.667     \n",
       "13 4020332650  2267.226   1.6261290    2385.806     \n",
       "14 4057192912  3838.000   2.8625000    1973.750     \n",
       "15 4319703577  7268.839   4.8922580    2037.677     \n",
       "16 4388161847 10813.935   8.3932259    3093.871     \n",
       "17 4445114986  4796.548   3.2458064    2186.194     \n",
       "18 4558609924  7685.129   5.0806452    2033.258     \n",
       "19 4702921684  8572.065   6.9551613    2965.548     \n",
       "20 5553957443  8612.581   5.6396774    1875.677     \n",
       "21 5577150313  8304.433   6.2133333    3359.633     \n",
       "22 6117666160  7046.714   5.3421429    2261.143     \n",
       "23 6290855005  5649.552   4.2724138    2599.621     \n",
       "24 6775888955  2519.692   1.8134615    2131.769     \n",
       "25 6962181067  9794.806   6.5858065    1982.032     \n",
       "26 7007744171 11323.423   8.0153846    2544.000     \n",
       "27 7086361926  9371.774   6.3880645    2566.355     \n",
       "28 8053475328 14763.290  11.4751612    2945.806     \n",
       "29 8253242879  6482.158   4.6673685    1788.000     \n",
       "30 8378563200  8717.710   6.9135485    3436.581     \n",
       "31 8583815059  7198.516   5.6154838    2732.032     \n",
       "32 8792009665  1853.724   1.1865517    1962.310     \n",
       "33 8877689391 16040.032  13.2129031    3420.258     "
      ]
     },
     "metadata": {},
     "output_type": "display_data"
    }
   ],
   "source": [
    "#summary of mean steps, mean distance and mean calories grouped by ID\n",
    "cleaned_dailyactv %>% group_by(Id) %>% summarise(mean_steps=mean(TotalSteps),mean_distance=mean(TotalDistance),mean_Calories=mean(Calories))"
   ]
  },
  {
   "cell_type": "code",
   "execution_count": 29,
   "id": "efe8b4e0",
   "metadata": {
    "execution": {
     "iopub.execute_input": "2022-03-09T17:13:35.020960Z",
     "iopub.status.busy": "2022-03-09T17:13:35.018883Z",
     "iopub.status.idle": "2022-03-09T17:13:35.044275Z",
     "shell.execute_reply": "2022-03-09T17:13:35.042833Z"
    },
    "papermill": {
     "duration": 0.351229,
     "end_time": "2022-03-09T17:13:35.044435",
     "exception": false,
     "start_time": "2022-03-09T17:13:34.693206",
     "status": "completed"
    },
    "tags": []
   },
   "outputs": [
    {
     "data": {
      "text/plain": [
       "   TotalSteps    TotalDistance       Calories   \n",
       " Min.   :    0   Min.   : 0.000   Min.   :   0  \n",
       " 1st Qu.: 3790   1st Qu.: 2.620   1st Qu.:1828  \n",
       " Median : 7406   Median : 5.245   Median :2134  \n",
       " Mean   : 7638   Mean   : 5.490   Mean   :2304  \n",
       " 3rd Qu.:10727   3rd Qu.: 7.713   3rd Qu.:2793  \n",
       " Max.   :36019   Max.   :28.030   Max.   :4900  "
      ]
     },
     "metadata": {},
     "output_type": "display_data"
    }
   ],
   "source": [
    "#statistical summary of TotalSteps, TotalDistance and Calories\n",
    "cleaned_dailyactv %>% select(TotalSteps,TotalDistance,Calories) %>% summary()"
   ]
  },
  {
   "cell_type": "markdown",
   "id": "c873ef1f",
   "metadata": {
    "papermill": {
     "duration": 0.308574,
     "end_time": "2022-03-09T17:13:35.663958",
     "exception": false,
     "start_time": "2022-03-09T17:13:35.355384",
     "status": "completed"
    },
    "tags": []
   },
   "source": [
    "##Classifying the type of user based on the average steps\n",
    "Based on the number of average steps the users can be classified into the following categories:\n",
    "1. Sedentary -> average steps<5000\n",
    "2. Low Active -> average steps>5000 and average steps<7499\n",
    "3. Fairly Active-> average steps>7500 and average steps<9999\n",
    "4. Highly Active-> average steps>9999\n",
    "\n",
    "The type of users have been classified with refernce to [*this*](https://www.medicinenet.com/how_many_steps_a_day_is_considered_active/article.htm) article.I also found out what percent each category makes in the total"
   ]
  },
  {
   "cell_type": "code",
   "execution_count": 30,
   "id": "b8d83e7d",
   "metadata": {
    "execution": {
     "iopub.execute_input": "2022-03-09T17:13:36.306209Z",
     "iopub.status.busy": "2022-03-09T17:13:36.304766Z",
     "iopub.status.idle": "2022-03-09T17:13:36.523225Z",
     "shell.execute_reply": "2022-03-09T17:13:36.522291Z"
    },
    "papermill": {
     "duration": 0.529015,
     "end_time": "2022-03-09T17:13:36.523380",
     "exception": false,
     "start_time": "2022-03-09T17:13:35.994365",
     "status": "completed"
    },
    "tags": []
   },
   "outputs": [
    {
     "data": {
      "text/html": [
       "<table class=\"dataframe\">\n",
       "<caption>A tibble: 4 × 3</caption>\n",
       "<thead>\n",
       "\t<tr><th scope=col>type_user</th><th scope=col>total</th><th scope=col>percentage</th></tr>\n",
       "\t<tr><th scope=col>&lt;chr&gt;</th><th scope=col>&lt;int&gt;</th><th scope=col>&lt;dbl&gt;</th></tr>\n",
       "</thead>\n",
       "<tbody>\n",
       "\t<tr><td>Fairly Active</td><td>9</td><td>27.27273</td></tr>\n",
       "\t<tr><td>Highly active</td><td>7</td><td>21.21212</td></tr>\n",
       "\t<tr><td>Low active   </td><td>9</td><td>27.27273</td></tr>\n",
       "\t<tr><td>Sedentary    </td><td>8</td><td>24.24242</td></tr>\n",
       "</tbody>\n",
       "</table>\n"
      ],
      "text/latex": [
       "A tibble: 4 × 3\n",
       "\\begin{tabular}{lll}\n",
       " type\\_user & total & percentage\\\\\n",
       " <chr> & <int> & <dbl>\\\\\n",
       "\\hline\n",
       "\t Fairly Active & 9 & 27.27273\\\\\n",
       "\t Highly active & 7 & 21.21212\\\\\n",
       "\t Low active    & 9 & 27.27273\\\\\n",
       "\t Sedentary     & 8 & 24.24242\\\\\n",
       "\\end{tabular}\n"
      ],
      "text/markdown": [
       "\n",
       "A tibble: 4 × 3\n",
       "\n",
       "| type_user &lt;chr&gt; | total &lt;int&gt; | percentage &lt;dbl&gt; |\n",
       "|---|---|---|\n",
       "| Fairly Active | 9 | 27.27273 |\n",
       "| Highly active | 7 | 21.21212 |\n",
       "| Low active    | 9 | 27.27273 |\n",
       "| Sedentary     | 8 | 24.24242 |\n",
       "\n"
      ],
      "text/plain": [
       "  type_user     total percentage\n",
       "1 Fairly Active 9     27.27273  \n",
       "2 Highly active 7     21.21212  \n",
       "3 Low active    9     27.27273  \n",
       "4 Sedentary     8     24.24242  "
      ]
     },
     "metadata": {},
     "output_type": "display_data"
    },
    {
     "data": {
      "image/png": "[encoded data removed]"
     },
     "metadata": {
      "image/png": {
       "height": 420,
       "width": 420
      }
     },
     "output_type": "display_data"
    }
   ],
   "source": [
    "#categorising mean steps into sedentary, low active,fairly active and highly active and finding the percentage of total of each category\n",
    "activity_type<- cleaned_dailyactv %>% group_by(Id) %>% summarise(mean_steps=mean(TotalSteps))\n",
    "type_user<- activity_type %>% mutate(type_user=case_when(mean_steps<5000~'Sedentary',mean_steps>5000 & mean_steps<7499~'Low active',mean_steps>7500 & mean_steps<9999~'Fairly Active',TRUE ~'Highly active'))\n",
    "percentage<- type_user %>% group_by(type_user) %>% summarise(total=n()) %>% mutate(percentage= (total/sum(total))*100)\n",
    "percentage\n",
    "ggplot(data=percentage)+geom_bar(stat=\"identity\",mapping=aes(x=type_user,y=percentage),fill='turquoise2')+labs(title=\"Type of user vs percentage of each type\",x=\"Type of user\",y=\"Percentage\")"
   ]
  },
  {
   "cell_type": "markdown",
   "id": "d01d1417",
   "metadata": {
    "papermill": {
     "duration": 0.312399,
     "end_time": "2022-03-09T17:13:37.152182",
     "exception": false,
     "start_time": "2022-03-09T17:13:36.839783",
     "status": "completed"
    },
    "tags": []
   },
   "source": [
    "The percentage of users who are fairly active and low active is the same. Number of users who are highly active is comparatively less. **I suggest that in the bellabeat app we can indicate in which category the user lies in and motivate them to try and aim for the next levels.**"
   ]
  },
  {
   "cell_type": "code",
   "execution_count": 31,
   "id": "c2ac3786",
   "metadata": {
    "execution": {
     "iopub.execute_input": "2022-03-09T17:13:37.784648Z",
     "iopub.status.busy": "2022-03-09T17:13:37.783088Z",
     "iopub.status.idle": "2022-03-09T17:13:38.012536Z",
     "shell.execute_reply": "2022-03-09T17:13:38.011936Z"
    },
    "papermill": {
     "duration": 0.546161,
     "end_time": "2022-03-09T17:13:38.012683",
     "exception": false,
     "start_time": "2022-03-09T17:13:37.466522",
     "status": "completed"
    },
    "tags": []
   },
   "outputs": [
    {
     "data": {
      "text/html": [
       "<table class=\"dataframe\">\n",
       "<caption>A tibble: 7 × 2</caption>\n",
       "<thead>\n",
       "\t<tr><th scope=col>day</th><th scope=col>mean_dist</th></tr>\n",
       "\t<tr><th scope=col>&lt;chr&gt;</th><th scope=col>&lt;dbl&gt;</th></tr>\n",
       "</thead>\n",
       "<tbody>\n",
       "\t<tr><td>Friday   </td><td>5.309921</td></tr>\n",
       "\t<tr><td>Monday   </td><td>5.552917</td></tr>\n",
       "\t<tr><td>Saturday </td><td>5.854677</td></tr>\n",
       "\t<tr><td>Sunday   </td><td>5.027190</td></tr>\n",
       "\t<tr><td>Thursday </td><td>5.312245</td></tr>\n",
       "\t<tr><td>Tuesday  </td><td>5.832237</td></tr>\n",
       "\t<tr><td>Wednesday</td><td>5.488333</td></tr>\n",
       "</tbody>\n",
       "</table>\n"
      ],
      "text/latex": [
       "A tibble: 7 × 2\n",
       "\\begin{tabular}{ll}\n",
       " day & mean\\_dist\\\\\n",
       " <chr> & <dbl>\\\\\n",
       "\\hline\n",
       "\t Friday    & 5.309921\\\\\n",
       "\t Monday    & 5.552917\\\\\n",
       "\t Saturday  & 5.854677\\\\\n",
       "\t Sunday    & 5.027190\\\\\n",
       "\t Thursday  & 5.312245\\\\\n",
       "\t Tuesday   & 5.832237\\\\\n",
       "\t Wednesday & 5.488333\\\\\n",
       "\\end{tabular}\n"
      ],
      "text/markdown": [
       "\n",
       "A tibble: 7 × 2\n",
       "\n",
       "| day &lt;chr&gt; | mean_dist &lt;dbl&gt; |\n",
       "|---|---|\n",
       "| Friday    | 5.309921 |\n",
       "| Monday    | 5.552917 |\n",
       "| Saturday  | 5.854677 |\n",
       "| Sunday    | 5.027190 |\n",
       "| Thursday  | 5.312245 |\n",
       "| Tuesday   | 5.832237 |\n",
       "| Wednesday | 5.488333 |\n",
       "\n"
      ],
      "text/plain": [
       "  day       mean_dist\n",
       "1 Friday    5.309921 \n",
       "2 Monday    5.552917 \n",
       "3 Saturday  5.854677 \n",
       "4 Sunday    5.027190 \n",
       "5 Thursday  5.312245 \n",
       "6 Tuesday   5.832237 \n",
       "7 Wednesday 5.488333 "
      ]
     },
     "metadata": {},
     "output_type": "display_data"
    },
    {
     "data": {
      "image/png": "[encoded data removed]"
     },
     "metadata": {
      "image/png": {
       "height": 420,
       "width": 420
      }
     },
     "output_type": "display_data"
    }
   ],
   "source": [
    "#assigning the days of the week corresponding to the date given\n",
    "cleaned_dailyactv$day=c(\" \")\n",
    "cleaned_dailyactv$day<-weekdays(as.Date(cleaned_dailyactv$ActivityDate))\n",
    "\n",
    "#plot to show the relationship between the day of the week and the mean distance covered\n",
    "distance_day<- cleaned_dailyactv %>% group_by(day) %>% summarise(mean_dist=mean(TotalDistance))\n",
    "distance_day\n",
    "ggplot(data=distance_day)+geom_bar(stat=\"identity\",mapping = aes(x=day,y=mean_dist),fill='turquoise2')+labs(title=\"Day of the week vs Mean Distance covered\",x=\"Day of the week\",y=\"Mean Distance\")"
   ]
  },
  {
   "cell_type": "markdown",
   "id": "349eee78",
   "metadata": {
    "papermill": {
     "duration": 0.318167,
     "end_time": "2022-03-09T17:13:38.650895",
     "exception": false,
     "start_time": "2022-03-09T17:13:38.332728",
     "status": "completed"
    },
    "tags": []
   },
   "source": [
    "This plot clearly shows that the mean distance covered is nearly the same in all days of the week."
   ]
  },
  {
   "cell_type": "code",
   "execution_count": 32,
   "id": "f069e400",
   "metadata": {
    "execution": {
     "iopub.execute_input": "2022-03-09T17:13:39.296653Z",
     "iopub.status.busy": "2022-03-09T17:13:39.295066Z",
     "iopub.status.idle": "2022-03-09T17:13:39.692764Z",
     "shell.execute_reply": "2022-03-09T17:13:39.693282Z"
    },
    "papermill": {
     "duration": 0.722831,
     "end_time": "2022-03-09T17:13:39.693443",
     "exception": false,
     "start_time": "2022-03-09T17:13:38.970612",
     "status": "completed"
    },
    "tags": []
   },
   "outputs": [
    {
     "name": "stderr",
     "output_type": "stream",
     "text": [
      "`geom_smooth()` using method = 'loess' and formula 'y ~ x'\n",
      "\n"
     ]
    },
    {
     "data": {
      "image/png": "[encoded data removed]"
     },
     "metadata": {
      "image/png": {
       "height": 420,
       "width": 420
      }
     },
     "output_type": "display_data"
    }
   ],
   "source": [
    "#plot to show the relationship between Totalsteps and Calories\n",
    "ggplot(data=cleaned_dailyactv)+ geom_point(mapping=aes(x=TotalSteps,y=Calories))+geom_smooth(mapping=aes(x=TotalSteps,y=Calories))+labs(title=\"Total Steps vs Calories\",x=\"Total Steps\",y=\"Calories\")"
   ]
  },
  {
   "cell_type": "markdown",
   "id": "c455ee19",
   "metadata": {
    "papermill": {
     "duration": 0.32469,
     "end_time": "2022-03-09T17:13:40.347924",
     "exception": false,
     "start_time": "2022-03-09T17:13:40.023234",
     "status": "completed"
    },
    "tags": []
   },
   "source": [
    "This plot shows positive correlation between Total Steps and Calories. This is obvious as the more steps you walk more will be the calories burnt."
   ]
  },
  {
   "cell_type": "code",
   "execution_count": 33,
   "id": "d791d97c",
   "metadata": {
    "execution": {
     "iopub.execute_input": "2022-03-09T17:13:41.034760Z",
     "iopub.status.busy": "2022-03-09T17:13:41.032721Z",
     "iopub.status.idle": "2022-03-09T17:13:41.250246Z",
     "shell.execute_reply": "2022-03-09T17:13:41.248977Z"
    },
    "papermill": {
     "duration": 0.57486,
     "end_time": "2022-03-09T17:13:41.250403",
     "exception": false,
     "start_time": "2022-03-09T17:13:40.675543",
     "status": "completed"
    },
    "tags": []
   },
   "outputs": [
    {
     "data": {
      "image/png": "[encoded data removed]"
     },
     "metadata": {
      "image/png": {
       "height": 420,
       "width": 420
      }
     },
     "output_type": "display_data"
    }
   ],
   "source": [
    "#categorising users into low use,moderate use and high use\n",
    "user_freq <- cleaned_dailyactv %>%\n",
    "  group_by(Id)%>%\n",
    "  summarize(Activity_Date=sum(n())) %>%\n",
    "  mutate(usage = case_when(\n",
    "    Activity_Date >= 1 & Activity_Date <= 10 ~ \"Low Use\",\n",
    "    Activity_Date >= 11 & Activity_Date <= 21 ~ \"Moderate Use\", \n",
    "    Activity_Date >= 22 & Activity_Date <= 31 ~ \"High Use\"))%>%\n",
    "  mutate(usage = factor(usage, level = c(\"Low Use\", \"Moderate Use\", \"High Use\")))%>%\n",
    "  rename(Use_days = Activity_Date)%>%\n",
    "  group_by(usage)\n",
    "#plot showing the usage levels of users\n",
    "ggplot(data=user_freq)+ geom_bar(mapping=aes(x=usage),fill='turquoise2')+labs(title=\"Count of each category of use\",x=\"Category of usage\",y=\"count\")"
   ]
  },
  {
   "cell_type": "markdown",
   "id": "bb2456a3",
   "metadata": {
    "papermill": {
     "duration": 0.328099,
     "end_time": "2022-03-09T17:13:41.904832",
     "exception": false,
     "start_time": "2022-03-09T17:13:41.576733",
     "status": "completed"
    },
    "tags": []
   },
   "source": [
    "This plot clearly shows that majority of the people use the smart device frequently."
   ]
  },
  {
   "cell_type": "code",
   "execution_count": 34,
   "id": "cb8a9f58",
   "metadata": {
    "execution": {
     "iopub.execute_input": "2022-03-09T17:13:42.593520Z",
     "iopub.status.busy": "2022-03-09T17:13:42.574655Z",
     "iopub.status.idle": "2022-03-09T17:13:42.611408Z",
     "shell.execute_reply": "2022-03-09T17:13:42.610020Z"
    },
    "papermill": {
     "duration": 0.371224,
     "end_time": "2022-03-09T17:13:42.611545",
     "exception": false,
     "start_time": "2022-03-09T17:13:42.240321",
     "status": "completed"
    },
    "tags": []
   },
   "outputs": [
    {
     "data": {
      "text/plain": [
       "              \n",
       "               Fairly Active Highly active Low active Sedentary\n",
       "  Low Use                  0             0          0         1\n",
       "  Moderate Use             1             0          2         0\n",
       "  High Use                 8             7          7         7"
      ]
     },
     "metadata": {},
     "output_type": "display_data"
    }
   ],
   "source": [
    "#combining the user_freq and type_user dataframes to find if there is any relation between type_user and usage\n",
    "user_daily<-merge(user_freq,type_user,by=c('Id'))\n",
    "table(user_daily$usage, user_daily$type_user)"
   ]
  },
  {
   "cell_type": "markdown",
   "id": "b33ba62a",
   "metadata": {
    "papermill": {
     "duration": 0.3321,
     "end_time": "2022-03-09T17:13:43.270523",
     "exception": false,
     "start_time": "2022-03-09T17:13:42.938423",
     "status": "completed"
    },
    "tags": []
   },
   "source": [
    "Here I tried to see if there is any relation between the type of user and how they use the smart devices. Clearly there is no specific relation between them."
   ]
  },
  {
   "cell_type": "markdown",
   "id": "298e6001",
   "metadata": {
    "papermill": {
     "duration": 0.328566,
     "end_time": "2022-03-09T17:13:43.929869",
     "exception": false,
     "start_time": "2022-03-09T17:13:43.601303",
     "status": "completed"
    },
    "tags": []
   },
   "source": [
    "#**Recommendations **\n",
    "\n",
    "The Bellabeat app can be made as an complete lifestyle tracking app. I would like to recommend the following to the stakeholders:\n",
    "1. During analysis I found that most people are active during the evening i.e from 5:00pm to 7:00pm. So reminding people before 5:00pm to complete their day's scheduled workout can help them stay on track and be consistent.\n",
    "2. The users can be classified into types like sedentary,low active,fairly active and highly active. The type in which the user lies can be indicated in the app and they can be motivated to bridge the gap and reach the next level. The amount of steps more required to achieve the next level can be shown at the start of each month to motivate the users.\n",
    "3. Based on the goals of the user they can be suggested with healthy diets, ideal and fixed sleep pattern and time,different types of workout like weight training,cardio,yoga etc.\n",
    "4. Based on the location of users they can also be notified in case there is any walktahon or marathon in the nearby areas. In this way they can participate in various activities and also interact with other people who are into fitness.\n",
    "5. The users can be given a \"connect with your friends\" option in the app. They can use this to connect with their friends who are using this app and create workout goal challenges for each other. They can also invite their other friends who are currently not using the app to join the app and compete with them.\n",
    "6. The users who maintain their activity level as highly active for atleast 3 months consistently can be awarded with reward points which they can redeem in any retail or online outlet."
   ]
  }
 ],
 "metadata": {
  "kernelspec": {
   "display_name": "R",
   "language": "R",
   "name": "ir"
  },
  "language_info": {
   "codemirror_mode": "r",
   "file_extension": ".r",
   "mimetype": "text/x-r-source",
   "name": "R",
   "pygments_lexer": "r",
   "version": "4.0.5"
  },
  "papermill": {
   "default_parameters": {},
   "duration": 185.104947,
   "end_time": "2022-03-09T17:13:44.371105",
   "environment_variables": {},
   "exception": null,
   "input_path": "__notebook__.ipynb",
   "output_path": "__notebook__.ipynb",
   "parameters": {},
   "start_time": "2022-03-09T17:10:39.266158",
   "version": "2.3.3"
  }
 },
 "nbformat": 4,
 "nbformat_minor": 5
}
